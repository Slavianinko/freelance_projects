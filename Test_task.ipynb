{
 "cells": [
  {
   "cell_type": "markdown",
   "id": "fb089366-bfac-4229-bd2e-e8e515753032",
   "metadata": {},
   "source": [
    "# Построение модели прогнозирования обращений в лечебные учреждения.\n",
    "\n",
    "## Формулировка задачи:\n",
    "Требуется обучить модель предсказания факта обращения застрахованного в январе 2022. Т.е., требуется классифицировать застрахованных на 2 класса: 1 - застрахованный обратился в январе 2022 года, 0 - застрахованный не обратился в январе 22 года.\n",
    "\n",
    "Представленны данные об обращении застрахованных по ДМС в лечебные учреждения за 2021 год с указанием даты обращения, количества полученных медицинских услуг и их суммарной стоимости. Кроме того, доступна информация о поле и возрасте пациентов.\n",
    "\n",
    "Последовательность решения задачи:\n",
    "1. Загрузка и анализ данных.\n",
    "2. Подготовка данных.\n",
    "3. Обучение и выбор моделей.\n",
    "4. Тестирование модели.\n",
    "5. Вывод."
   ]
  },
  {
   "cell_type": "code",
   "execution_count": 2,
   "id": "a7cd4eb0-3688-47e6-99ba-59e6358e552d",
   "metadata": {},
   "outputs": [],
   "source": [
    "# Импорт библиотек\n",
    "import pandas as pd\n",
    "import numpy as np\n",
    "import matplotlib.pyplot as plt\n",
    "import seaborn as sns\n",
    "from tsfresh import extract_features, select_features\n",
    "from tsfresh.feature_extraction import MinimalFCParameters, EfficientFCParameters\n",
    "from tsfresh import extract_relevant_features\n",
    "from tsfresh.utilities.dataframe_functions import impute\n",
    "from tsfresh.feature_extraction.settings import EfficientFCParameters\n",
    "from sklearn.model_selection import train_test_split, cross_val_score, RandomizedSearchCV\n",
    "from sklearn.metrics import roc_auc_score, accuracy_score, roc_curve\n",
    "from sklearn.linear_model import LogisticRegression\n",
    "from sklearn.preprocessing import StandardScaler\n",
    "from sklearn.ensemble import RandomForestClassifier\n",
    "from sklearn.dummy import DummyClassifier\n",
    "\n",
    "from catboost import CatBoostClassifier\n",
    "\n",
    "import shap\n",
    "from lightgbm import LGBMClassifier\n",
    "pd.set_option('display.max_columns', None)\n",
    "%matplotlib inline"
   ]
  },
  {
   "cell_type": "code",
   "execution_count": 3,
   "id": "db362daf-972c-4ca1-96f4-6a0090c9dafb",
   "metadata": {},
   "outputs": [],
   "source": [
    "# Константы\n",
    "SEED = 5555"
   ]
  },
  {
   "cell_type": "markdown",
   "id": "74b1039a-9174-4931-80d0-e15afe7cb6eb",
   "metadata": {},
   "source": [
    "## 1. Загрузка и анализ данных"
   ]
  },
  {
   "cell_type": "markdown",
   "id": "de30b148-e650-4369-99c4-7f3f81d85e7b",
   "metadata": {},
   "source": [
    "### 1.1 Загрузка данных и первый взгляд"
   ]
  },
  {
   "cell_type": "code",
   "execution_count": 5,
   "id": "6b8dcc37-ddf9-4093-9dee-e230215beacb",
   "metadata": {},
   "outputs": [],
   "source": [
    "# Загрузим набор данных и преобразуем колонку с датами в формат datetime\n",
    "df = pd.read_csv('MainsLab_data_DS_22.csv', parse_dates=['service_date'])"
   ]
  },
  {
   "cell_type": "code",
   "execution_count": 6,
   "id": "5a44a3dc-9b7a-4731-9ec8-1e0d7defff22",
   "metadata": {},
   "outputs": [
    {
     "data": {
      "text/html": [
       "<div>\n",
       "<style scoped>\n",
       "    .dataframe tbody tr th:only-of-type {\n",
       "        vertical-align: middle;\n",
       "    }\n",
       "\n",
       "    .dataframe tbody tr th {\n",
       "        vertical-align: top;\n",
       "    }\n",
       "\n",
       "    .dataframe thead th {\n",
       "        text-align: right;\n",
       "    }\n",
       "</style>\n",
       "<table border=\"1\" class=\"dataframe\">\n",
       "  <thead>\n",
       "    <tr style=\"text-align: right;\">\n",
       "      <th></th>\n",
       "      <th>insured</th>\n",
       "      <th>service_date</th>\n",
       "      <th>sex_id</th>\n",
       "      <th>age_for_service_date</th>\n",
       "      <th>serv_count</th>\n",
       "      <th>serv_amount</th>\n",
       "    </tr>\n",
       "  </thead>\n",
       "  <tbody>\n",
       "    <tr>\n",
       "      <th>0</th>\n",
       "      <td>125045</td>\n",
       "      <td>2021-03-03</td>\n",
       "      <td>1.0</td>\n",
       "      <td>6</td>\n",
       "      <td>2.0</td>\n",
       "      <td>2260.0</td>\n",
       "    </tr>\n",
       "    <tr>\n",
       "      <th>1</th>\n",
       "      <td>125045</td>\n",
       "      <td>2021-04-11</td>\n",
       "      <td>1.0</td>\n",
       "      <td>6</td>\n",
       "      <td>1.0</td>\n",
       "      <td>1600.0</td>\n",
       "    </tr>\n",
       "    <tr>\n",
       "      <th>2</th>\n",
       "      <td>125045</td>\n",
       "      <td>2021-04-18</td>\n",
       "      <td>1.0</td>\n",
       "      <td>6</td>\n",
       "      <td>5.0</td>\n",
       "      <td>4510.0</td>\n",
       "    </tr>\n",
       "    <tr>\n",
       "      <th>3</th>\n",
       "      <td>125045</td>\n",
       "      <td>2021-04-23</td>\n",
       "      <td>1.0</td>\n",
       "      <td>6</td>\n",
       "      <td>1.0</td>\n",
       "      <td>380.0</td>\n",
       "    </tr>\n",
       "    <tr>\n",
       "      <th>4</th>\n",
       "      <td>125045</td>\n",
       "      <td>2021-06-09</td>\n",
       "      <td>1.0</td>\n",
       "      <td>6</td>\n",
       "      <td>1.0</td>\n",
       "      <td>2500.0</td>\n",
       "    </tr>\n",
       "    <tr>\n",
       "      <th>5</th>\n",
       "      <td>125045</td>\n",
       "      <td>2021-11-24</td>\n",
       "      <td>1.0</td>\n",
       "      <td>7</td>\n",
       "      <td>2.0</td>\n",
       "      <td>4100.0</td>\n",
       "    </tr>\n",
       "    <tr>\n",
       "      <th>6</th>\n",
       "      <td>125045</td>\n",
       "      <td>2022-01-17</td>\n",
       "      <td>1.0</td>\n",
       "      <td>7</td>\n",
       "      <td>6.0</td>\n",
       "      <td>6540.0</td>\n",
       "    </tr>\n",
       "    <tr>\n",
       "      <th>7</th>\n",
       "      <td>125046</td>\n",
       "      <td>2021-06-15</td>\n",
       "      <td>2.0</td>\n",
       "      <td>28</td>\n",
       "      <td>2.0</td>\n",
       "      <td>2610.0</td>\n",
       "    </tr>\n",
       "    <tr>\n",
       "      <th>8</th>\n",
       "      <td>125046</td>\n",
       "      <td>2021-06-17</td>\n",
       "      <td>2.0</td>\n",
       "      <td>28</td>\n",
       "      <td>5.0</td>\n",
       "      <td>2410.0</td>\n",
       "    </tr>\n",
       "    <tr>\n",
       "      <th>9</th>\n",
       "      <td>125046</td>\n",
       "      <td>2021-06-18</td>\n",
       "      <td>2.0</td>\n",
       "      <td>28</td>\n",
       "      <td>1.0</td>\n",
       "      <td>1300.0</td>\n",
       "    </tr>\n",
       "  </tbody>\n",
       "</table>\n",
       "</div>"
      ],
      "text/plain": [
       "   insured service_date  sex_id  age_for_service_date  serv_count  serv_amount\n",
       "0   125045   2021-03-03     1.0                     6         2.0       2260.0\n",
       "1   125045   2021-04-11     1.0                     6         1.0       1600.0\n",
       "2   125045   2021-04-18     1.0                     6         5.0       4510.0\n",
       "3   125045   2021-04-23     1.0                     6         1.0        380.0\n",
       "4   125045   2021-06-09     1.0                     6         1.0       2500.0\n",
       "5   125045   2021-11-24     1.0                     7         2.0       4100.0\n",
       "6   125045   2022-01-17     1.0                     7         6.0       6540.0\n",
       "7   125046   2021-06-15     2.0                    28         2.0       2610.0\n",
       "8   125046   2021-06-17     2.0                    28         5.0       2410.0\n",
       "9   125046   2021-06-18     2.0                    28         1.0       1300.0"
      ]
     },
     "execution_count": 6,
     "metadata": {},
     "output_type": "execute_result"
    }
   ],
   "source": [
    "df.head(10)"
   ]
  },
  {
   "cell_type": "code",
   "execution_count": 8,
   "id": "18489d3d-3a7d-4f67-8f63-f315005ff563",
   "metadata": {},
   "outputs": [
    {
     "name": "stdout",
     "output_type": "stream",
     "text": [
      "<class 'pandas.core.frame.DataFrame'>\n",
      "RangeIndex: 764333 entries, 0 to 764332\n",
      "Data columns (total 6 columns):\n",
      " #   Column                Non-Null Count   Dtype         \n",
      "---  ------                --------------   -----         \n",
      " 0   insured               764333 non-null  int64         \n",
      " 1   service_date          764333 non-null  datetime64[ns]\n",
      " 2   sex_id                764129 non-null  float64       \n",
      " 3   age_for_service_date  764333 non-null  int64         \n",
      " 4   serv_count            764333 non-null  float64       \n",
      " 5   serv_amount           764333 non-null  float64       \n",
      "dtypes: datetime64[ns](1), float64(3), int64(2)\n",
      "memory usage: 35.0 MB\n"
     ]
    }
   ],
   "source": [
    "df.info()"
   ]
  },
  {
   "cell_type": "code",
   "execution_count": 9,
   "id": "61eef10e-955b-4ce5-b89c-adfdcbcbe2df",
   "metadata": {},
   "outputs": [
    {
     "data": {
      "text/html": [
       "<div>\n",
       "<style scoped>\n",
       "    .dataframe tbody tr th:only-of-type {\n",
       "        vertical-align: middle;\n",
       "    }\n",
       "\n",
       "    .dataframe tbody tr th {\n",
       "        vertical-align: top;\n",
       "    }\n",
       "\n",
       "    .dataframe thead th {\n",
       "        text-align: right;\n",
       "    }\n",
       "</style>\n",
       "<table border=\"1\" class=\"dataframe\">\n",
       "  <thead>\n",
       "    <tr style=\"text-align: right;\">\n",
       "      <th></th>\n",
       "      <th>insured</th>\n",
       "      <th>sex_id</th>\n",
       "      <th>age_for_service_date</th>\n",
       "      <th>serv_count</th>\n",
       "      <th>serv_amount</th>\n",
       "    </tr>\n",
       "  </thead>\n",
       "  <tbody>\n",
       "    <tr>\n",
       "      <th>count</th>\n",
       "      <td>7.643330e+05</td>\n",
       "      <td>764129.000000</td>\n",
       "      <td>764333.000000</td>\n",
       "      <td>764333.000000</td>\n",
       "      <td>764333.000000</td>\n",
       "    </tr>\n",
       "    <tr>\n",
       "      <th>mean</th>\n",
       "      <td>4.730479e+05</td>\n",
       "      <td>1.653746</td>\n",
       "      <td>34.925981</td>\n",
       "      <td>2.360192</td>\n",
       "      <td>2242.992679</td>\n",
       "    </tr>\n",
       "    <tr>\n",
       "      <th>std</th>\n",
       "      <td>1.959460e+05</td>\n",
       "      <td>0.475776</td>\n",
       "      <td>16.035400</td>\n",
       "      <td>4.479210</td>\n",
       "      <td>2877.117835</td>\n",
       "    </tr>\n",
       "    <tr>\n",
       "      <th>min</th>\n",
       "      <td>1.250450e+05</td>\n",
       "      <td>1.000000</td>\n",
       "      <td>0.000000</td>\n",
       "      <td>0.000000</td>\n",
       "      <td>0.000000</td>\n",
       "    </tr>\n",
       "    <tr>\n",
       "      <th>25%</th>\n",
       "      <td>2.658610e+05</td>\n",
       "      <td>1.000000</td>\n",
       "      <td>28.000000</td>\n",
       "      <td>1.000000</td>\n",
       "      <td>921.000000</td>\n",
       "    </tr>\n",
       "    <tr>\n",
       "      <th>50%</th>\n",
       "      <td>5.167940e+05</td>\n",
       "      <td>2.000000</td>\n",
       "      <td>36.000000</td>\n",
       "      <td>1.000000</td>\n",
       "      <td>1450.000000</td>\n",
       "    </tr>\n",
       "    <tr>\n",
       "      <th>75%</th>\n",
       "      <td>6.284420e+05</td>\n",
       "      <td>2.000000</td>\n",
       "      <td>45.000000</td>\n",
       "      <td>3.000000</td>\n",
       "      <td>2610.000000</td>\n",
       "    </tr>\n",
       "    <tr>\n",
       "      <th>max</th>\n",
       "      <td>1.226151e+06</td>\n",
       "      <td>2.000000</td>\n",
       "      <td>120.000000</td>\n",
       "      <td>2103.000000</td>\n",
       "      <td>386800.000000</td>\n",
       "    </tr>\n",
       "  </tbody>\n",
       "</table>\n",
       "</div>"
      ],
      "text/plain": [
       "            insured         sex_id  age_for_service_date     serv_count  \\\n",
       "count  7.643330e+05  764129.000000         764333.000000  764333.000000   \n",
       "mean   4.730479e+05       1.653746             34.925981       2.360192   \n",
       "std    1.959460e+05       0.475776             16.035400       4.479210   \n",
       "min    1.250450e+05       1.000000              0.000000       0.000000   \n",
       "25%    2.658610e+05       1.000000             28.000000       1.000000   \n",
       "50%    5.167940e+05       2.000000             36.000000       1.000000   \n",
       "75%    6.284420e+05       2.000000             45.000000       3.000000   \n",
       "max    1.226151e+06       2.000000            120.000000    2103.000000   \n",
       "\n",
       "         serv_amount  \n",
       "count  764333.000000  \n",
       "mean     2242.992679  \n",
       "std      2877.117835  \n",
       "min         0.000000  \n",
       "25%       921.000000  \n",
       "50%      1450.000000  \n",
       "75%      2610.000000  \n",
       "max    386800.000000  "
      ]
     },
     "execution_count": 9,
     "metadata": {},
     "output_type": "execute_result"
    }
   ],
   "source": [
    "df.describe()"
   ]
  },
  {
   "cell_type": "code",
   "execution_count": 7,
   "id": "067921e3-cde0-4ff4-8b89-c470b47a18c1",
   "metadata": {},
   "outputs": [
    {
     "name": "stdout",
     "output_type": "stream",
     "text": [
      "количество дубликатов = 52\n"
     ]
    }
   ],
   "source": [
    "print('количество дубликатов =', df.duplicated().sum())"
   ]
  },
  {
   "cell_type": "code",
   "execution_count": 8,
   "id": "cf6dc6bc-d44c-433a-ace9-3fcaeaf881a7",
   "metadata": {},
   "outputs": [
    {
     "data": {
      "text/html": [
       "<div>\n",
       "<style scoped>\n",
       "    .dataframe tbody tr th:only-of-type {\n",
       "        vertical-align: middle;\n",
       "    }\n",
       "\n",
       "    .dataframe tbody tr th {\n",
       "        vertical-align: top;\n",
       "    }\n",
       "\n",
       "    .dataframe thead th {\n",
       "        text-align: right;\n",
       "    }\n",
       "</style>\n",
       "<table border=\"1\" class=\"dataframe\">\n",
       "  <thead>\n",
       "    <tr style=\"text-align: right;\">\n",
       "      <th></th>\n",
       "      <th>insured</th>\n",
       "      <th>service_date</th>\n",
       "      <th>sex_id</th>\n",
       "      <th>age_for_service_date</th>\n",
       "      <th>serv_count</th>\n",
       "      <th>serv_amount</th>\n",
       "    </tr>\n",
       "  </thead>\n",
       "  <tbody>\n",
       "    <tr>\n",
       "      <th>13059</th>\n",
       "      <td>146008</td>\n",
       "      <td>2021-03-25</td>\n",
       "      <td>2.0</td>\n",
       "      <td>44</td>\n",
       "      <td>1.0</td>\n",
       "      <td>1500.0</td>\n",
       "    </tr>\n",
       "    <tr>\n",
       "      <th>32378</th>\n",
       "      <td>159039</td>\n",
       "      <td>2021-02-18</td>\n",
       "      <td>2.0</td>\n",
       "      <td>44</td>\n",
       "      <td>2.0</td>\n",
       "      <td>2160.0</td>\n",
       "    </tr>\n",
       "    <tr>\n",
       "      <th>63032</th>\n",
       "      <td>178089</td>\n",
       "      <td>2021-01-22</td>\n",
       "      <td>2.0</td>\n",
       "      <td>31</td>\n",
       "      <td>1.0</td>\n",
       "      <td>1600.0</td>\n",
       "    </tr>\n",
       "    <tr>\n",
       "      <th>64365</th>\n",
       "      <td>178732</td>\n",
       "      <td>2021-08-14</td>\n",
       "      <td>2.0</td>\n",
       "      <td>31</td>\n",
       "      <td>2.0</td>\n",
       "      <td>1080.0</td>\n",
       "    </tr>\n",
       "    <tr>\n",
       "      <th>71397</th>\n",
       "      <td>185867</td>\n",
       "      <td>2021-03-27</td>\n",
       "      <td>2.0</td>\n",
       "      <td>39</td>\n",
       "      <td>1.0</td>\n",
       "      <td>2800.0</td>\n",
       "    </tr>\n",
       "  </tbody>\n",
       "</table>\n",
       "</div>"
      ],
      "text/plain": [
       "       insured service_date  sex_id  age_for_service_date  serv_count  \\\n",
       "13059   146008   2021-03-25     2.0                    44         1.0   \n",
       "32378   159039   2021-02-18     2.0                    44         2.0   \n",
       "63032   178089   2021-01-22     2.0                    31         1.0   \n",
       "64365   178732   2021-08-14     2.0                    31         2.0   \n",
       "71397   185867   2021-03-27     2.0                    39         1.0   \n",
       "\n",
       "       serv_amount  \n",
       "13059       1500.0  \n",
       "32378       2160.0  \n",
       "63032       1600.0  \n",
       "64365       1080.0  \n",
       "71397       2800.0  "
      ]
     },
     "execution_count": 8,
     "metadata": {},
     "output_type": "execute_result"
    }
   ],
   "source": [
    "# Рассмотрим дубликаты ближе\n",
    "df[df.duplicated()].head()"
   ]
  },
  {
   "cell_type": "code",
   "execution_count": 9,
   "id": "e54f4728-ad4e-4410-aaa1-fea0789a2262",
   "metadata": {},
   "outputs": [
    {
     "data": {
      "text/html": [
       "<div>\n",
       "<style scoped>\n",
       "    .dataframe tbody tr th:only-of-type {\n",
       "        vertical-align: middle;\n",
       "    }\n",
       "\n",
       "    .dataframe tbody tr th {\n",
       "        vertical-align: top;\n",
       "    }\n",
       "\n",
       "    .dataframe thead th {\n",
       "        text-align: right;\n",
       "    }\n",
       "</style>\n",
       "<table border=\"1\" class=\"dataframe\">\n",
       "  <thead>\n",
       "    <tr style=\"text-align: right;\">\n",
       "      <th></th>\n",
       "      <th>insured</th>\n",
       "      <th>service_date</th>\n",
       "      <th>sex_id</th>\n",
       "      <th>age_for_service_date</th>\n",
       "      <th>serv_count</th>\n",
       "      <th>serv_amount</th>\n",
       "    </tr>\n",
       "  </thead>\n",
       "  <tbody>\n",
       "    <tr>\n",
       "      <th>13054</th>\n",
       "      <td>146008</td>\n",
       "      <td>2021-01-14</td>\n",
       "      <td>2.0</td>\n",
       "      <td>44</td>\n",
       "      <td>5.0</td>\n",
       "      <td>3610.0</td>\n",
       "    </tr>\n",
       "    <tr>\n",
       "      <th>13055</th>\n",
       "      <td>146008</td>\n",
       "      <td>2021-01-20</td>\n",
       "      <td>2.0</td>\n",
       "      <td>44</td>\n",
       "      <td>2.0</td>\n",
       "      <td>2600.0</td>\n",
       "    </tr>\n",
       "    <tr>\n",
       "      <th>13056</th>\n",
       "      <td>146008</td>\n",
       "      <td>2021-01-28</td>\n",
       "      <td>2.0</td>\n",
       "      <td>44</td>\n",
       "      <td>1.0</td>\n",
       "      <td>1100.0</td>\n",
       "    </tr>\n",
       "    <tr>\n",
       "      <th>13057</th>\n",
       "      <td>146008</td>\n",
       "      <td>2021-03-22</td>\n",
       "      <td>2.0</td>\n",
       "      <td>44</td>\n",
       "      <td>1.0</td>\n",
       "      <td>1500.0</td>\n",
       "    </tr>\n",
       "    <tr>\n",
       "      <th>13058</th>\n",
       "      <td>146008</td>\n",
       "      <td>2021-03-25</td>\n",
       "      <td>2.0</td>\n",
       "      <td>44</td>\n",
       "      <td>1.0</td>\n",
       "      <td>1500.0</td>\n",
       "    </tr>\n",
       "    <tr>\n",
       "      <th>13059</th>\n",
       "      <td>146008</td>\n",
       "      <td>2021-03-25</td>\n",
       "      <td>2.0</td>\n",
       "      <td>44</td>\n",
       "      <td>1.0</td>\n",
       "      <td>1500.0</td>\n",
       "    </tr>\n",
       "    <tr>\n",
       "      <th>13060</th>\n",
       "      <td>146008</td>\n",
       "      <td>2021-03-26</td>\n",
       "      <td>2.0</td>\n",
       "      <td>44</td>\n",
       "      <td>2.0</td>\n",
       "      <td>2200.0</td>\n",
       "    </tr>\n",
       "    <tr>\n",
       "      <th>13061</th>\n",
       "      <td>146008</td>\n",
       "      <td>2021-03-29</td>\n",
       "      <td>2.0</td>\n",
       "      <td>44</td>\n",
       "      <td>1.0</td>\n",
       "      <td>1100.0</td>\n",
       "    </tr>\n",
       "    <tr>\n",
       "      <th>13062</th>\n",
       "      <td>146008</td>\n",
       "      <td>2021-04-06</td>\n",
       "      <td>2.0</td>\n",
       "      <td>44</td>\n",
       "      <td>1.0</td>\n",
       "      <td>1100.0</td>\n",
       "    </tr>\n",
       "  </tbody>\n",
       "</table>\n",
       "</div>"
      ],
      "text/plain": [
       "       insured service_date  sex_id  age_for_service_date  serv_count  \\\n",
       "13054   146008   2021-01-14     2.0                    44         5.0   \n",
       "13055   146008   2021-01-20     2.0                    44         2.0   \n",
       "13056   146008   2021-01-28     2.0                    44         1.0   \n",
       "13057   146008   2021-03-22     2.0                    44         1.0   \n",
       "13058   146008   2021-03-25     2.0                    44         1.0   \n",
       "13059   146008   2021-03-25     2.0                    44         1.0   \n",
       "13060   146008   2021-03-26     2.0                    44         2.0   \n",
       "13061   146008   2021-03-29     2.0                    44         1.0   \n",
       "13062   146008   2021-04-06     2.0                    44         1.0   \n",
       "\n",
       "       serv_amount  \n",
       "13054       3610.0  \n",
       "13055       2600.0  \n",
       "13056       1100.0  \n",
       "13057       1500.0  \n",
       "13058       1500.0  \n",
       "13059       1500.0  \n",
       "13060       2200.0  \n",
       "13061       1100.0  \n",
       "13062       1100.0  "
      ]
     },
     "execution_count": 9,
     "metadata": {},
     "output_type": "execute_result"
    }
   ],
   "source": [
    "# Возьмём один дубликат и посмотрим на него в контексте остальных строк по данному клиенту\n",
    "df[df['insured'] == 146008]"
   ]
  },
  {
   "cell_type": "markdown",
   "id": "40b79813-4705-4e13-abcf-7c14e9a08786",
   "metadata": {},
   "source": [
    "**Вывод:** \n",
    "1. Данные загружены.\n",
    "2. Пропуски присутствуют в колонке `sex_id`.\n",
    "3. Присутствуют полные дубликаты строк. Это два обращения одного и того-же клиента в один день или ошибка?"
   ]
  },
  {
   "cell_type": "markdown",
   "id": "b8a90387-60e9-4665-8606-fe9c4d68f526",
   "metadata": {
    "jp-MarkdownHeadingCollapsed": true,
    "tags": []
   },
   "source": [
    "### 1.2 Рассмотрим датасет ближе\n",
    "\n",
    "Каждая стока набора данных характеризует обращение за медицинской помощью одного клиента в определённую дату(количество и стоимость обращений)."
   ]
  },
  {
   "cell_type": "markdown",
   "id": "1f545235-2618-447a-b227-34b621fab7f7",
   "metadata": {
    "tags": []
   },
   "source": [
    "#### 1.2.1 Уникальный ид застрахованного лица"
   ]
  },
  {
   "cell_type": "code",
   "execution_count": 10,
   "id": "887aa908-01ea-4f28-9273-6c1d7dcaa110",
   "metadata": {
    "tags": []
   },
   "outputs": [
    {
     "data": {
      "text/plain": [
       "count    137645.000000\n",
       "mean          5.552930\n",
       "std           6.438355\n",
       "min           1.000000\n",
       "25%           1.000000\n",
       "50%           3.000000\n",
       "75%           7.000000\n",
       "max         113.000000\n",
       "Name: insured, dtype: float64"
      ]
     },
     "execution_count": 10,
     "metadata": {},
     "output_type": "execute_result"
    }
   ],
   "source": [
    "df['insured'].value_counts().describe()"
   ]
  },
  {
   "cell_type": "code",
   "execution_count": 11,
   "id": "9396dbee-2799-4eae-b271-c8934ac8d64a",
   "metadata": {
    "tags": []
   },
   "outputs": [
    {
     "data": {
      "image/png": "[encoded data removed]",
      "text/plain": [
       "<Figure size 432x288 with 1 Axes>"
      ]
     },
     "metadata": {
      "needs_background": "light"
     },
     "output_type": "display_data"
    }
   ],
   "source": [
    "df['insured'].value_counts().hist(bins=113);"
   ]
  },
  {
   "cell_type": "markdown",
   "id": "9c338633-b6e0-4ba9-955e-8ce9a0c832d9",
   "metadata": {},
   "source": [
    "**Вывод:** В наборе данных содержаться сведенья о 137645 клиентах. Большинство из них обращались за медицинской помощью 1-3 раза. Но есть и некоторые клиенты, которые обращались более 100 раз."
   ]
  },
  {
   "cell_type": "markdown",
   "id": "685c3614-99ec-49f6-8c3d-f6a13c189893",
   "metadata": {},
   "source": [
    "#### 1.2.2 Пол застрахованного"
   ]
  },
  {
   "cell_type": "code",
   "execution_count": 12,
   "id": "bafa06aa-0bd2-405f-acbc-f9ef27055a4d",
   "metadata": {},
   "outputs": [
    {
     "data": {
      "image/png": "[encoded data removed]",
      "text/plain": [
       "<Figure size 432x288 with 1 Axes>"
      ]
     },
     "metadata": {
      "needs_background": "light"
     },
     "output_type": "display_data"
    }
   ],
   "source": [
    "df['sex_id'].hist(bins=2);"
   ]
  },
  {
   "cell_type": "markdown",
   "id": "c8e7a351-7578-45ba-b175-590cd31cdbea",
   "metadata": {},
   "source": [
    "**Вывод:** Данные о поле клиентов распределены в отношении 1 к 2."
   ]
  },
  {
   "cell_type": "markdown",
   "id": "402bc97a-26a4-45fc-9041-2a5739528945",
   "metadata": {},
   "source": [
    "#### 1.2.3 Дата оказания услуги"
   ]
  },
  {
   "cell_type": "code",
   "execution_count": 13,
   "id": "78243958-cff9-4f7b-83f6-3ca011f56c0b",
   "metadata": {},
   "outputs": [
    {
     "data": {
      "text/plain": [
       "Timestamp('2021-01-01 00:00:00')"
      ]
     },
     "execution_count": 13,
     "metadata": {},
     "output_type": "execute_result"
    }
   ],
   "source": [
    "df['service_date'].min()"
   ]
  },
  {
   "cell_type": "code",
   "execution_count": 14,
   "id": "9f08a13e-e624-4ee1-9f13-2f86d050e4fd",
   "metadata": {},
   "outputs": [
    {
     "data": {
      "text/plain": [
       "Timestamp('2022-01-31 00:00:00')"
      ]
     },
     "execution_count": 14,
     "metadata": {},
     "output_type": "execute_result"
    }
   ],
   "source": [
    "df['service_date'].max()"
   ]
  },
  {
   "cell_type": "markdown",
   "id": "969ddadd-09c8-43ff-a283-b88d7383c045",
   "metadata": {},
   "source": [
    "Даты обращений лежат в диапозоне 1 января 2021 года - 31 января 2022 года."
   ]
  },
  {
   "cell_type": "code",
   "execution_count": 15,
   "id": "ed8ba9a1-62c6-4ac6-bfc6-d5c955e6a1eb",
   "metadata": {},
   "outputs": [
    {
     "data": {
      "image/png": "[encoded data removed]",
      "text/plain": [
       "<Figure size 432x288 with 1 Axes>"
      ]
     },
     "metadata": {
      "needs_background": "light"
     },
     "output_type": "display_data"
    }
   ],
   "source": [
    "df['service_date'].dt.month.hist(bins=12);"
   ]
  },
  {
   "cell_type": "code",
   "execution_count": 16,
   "id": "5eeae08b-d395-489d-b4c5-83fd77673584",
   "metadata": {},
   "outputs": [
    {
     "data": {
      "text/plain": [
       "133304"
      ]
     },
     "execution_count": 16,
     "metadata": {},
     "output_type": "execute_result"
    }
   ],
   "source": [
    "df[df['service_date'].dt.month == 2]['service_date'].count()"
   ]
  },
  {
   "cell_type": "code",
   "execution_count": 17,
   "id": "c71de68f-0265-4962-a2da-71e86d5b61fe",
   "metadata": {},
   "outputs": [
    {
     "data": {
      "text/plain": [
       "2021    101596\n",
       "2022     46943\n",
       "Name: service_date, dtype: int64"
      ]
     },
     "execution_count": 17,
     "metadata": {},
     "output_type": "execute_result"
    }
   ],
   "source": [
    "df[df['service_date'].dt.month == 1]['service_date'].dt.year.value_counts()"
   ]
  },
  {
   "cell_type": "markdown",
   "id": "75206cad-4444-4261-b0ae-744af7db83fa",
   "metadata": {},
   "source": [
    "По месяцам обращения за медицинской помощью для периода с марта 2021г. по январь 2022г. лежат в диапозоне от 40000 до 60000\n",
    "Январь и февраль 2021 года выбиваются из этого распределения со 101596 и 133304 соответственно. Возможно в эти месяцы ещё не пропало влияние пандемии коронавируса."
   ]
  },
  {
   "cell_type": "code",
   "execution_count": 18,
   "id": "1bcac09d-3d66-4ec5-a93f-3b006b1da606",
   "metadata": {},
   "outputs": [
    {
     "data": {
      "image/png": "[encoded data removed]",
      "text/plain": [
       "<Figure size 432x288 with 1 Axes>"
      ]
     },
     "metadata": {
      "needs_background": "light"
     },
     "output_type": "display_data"
    }
   ],
   "source": [
    "df['service_date'].dt.day.hist(bins=31);"
   ]
  },
  {
   "cell_type": "markdown",
   "id": "1e26c38f-7f32-42c9-88fb-952fec71555d",
   "metadata": {},
   "source": [
    "По дням внутри месяца количество обращений распределено прауктически равномерно. Разве что выбивается число 2, но не значительно."
   ]
  },
  {
   "cell_type": "code",
   "execution_count": 19,
   "id": "01c07f4f-c4d3-4c46-918c-9c87031d2f87",
   "metadata": {},
   "outputs": [
    {
     "data": {
      "image/png": "[encoded data removed]",
      "text/plain": [
       "<Figure size 432x288 with 1 Axes>"
      ]
     },
     "metadata": {
      "needs_background": "light"
     },
     "output_type": "display_data"
    }
   ],
   "source": [
    "df['service_date'].dt.dayofweek.hist(bins=7);"
   ]
  },
  {
   "cell_type": "markdown",
   "id": "6b88aa03-d9c4-49a5-b01e-87892b939fdb",
   "metadata": {},
   "source": [
    "По дням недели распределение обращений вполне закономерно. В буднии дни обращений поровну, в субботу меньше в воскресенье ещё меньше. Это обьясняется тем, что в будни осуществляется как плановый приём так и приём по для оказания неотложной медицинской помощи. Выходные обращаются, как правило, только за экстренной помощью."
   ]
  },
  {
   "cell_type": "markdown",
   "id": "2d67448b-7b65-453e-bb7f-03f755338d89",
   "metadata": {},
   "source": [
    "#### 1.2.4 Возраст застрахованного на дату оказания услуги"
   ]
  },
  {
   "cell_type": "code",
   "execution_count": 20,
   "id": "08f41f30-3413-46bc-980b-b91cec6c1bee",
   "metadata": {},
   "outputs": [
    {
     "data": {
      "text/plain": [
       "<AxesSubplot:>"
      ]
     },
     "execution_count": 20,
     "metadata": {},
     "output_type": "execute_result"
    },
    {
     "data": {
      "image/png": "[encoded data removed]",
      "text/plain": [
       "<Figure size 432x288 with 1 Axes>"
      ]
     },
     "metadata": {
      "needs_background": "light"
     },
     "output_type": "display_data"
    }
   ],
   "source": [
    "df['age_for_service_date'].hist(bins=120)"
   ]
  },
  {
   "cell_type": "code",
   "execution_count": 21,
   "id": "75304eb0-7869-484b-8af5-77bd1d361ef6",
   "metadata": {},
   "outputs": [
    {
     "data": {
      "image/png": "[encoded data removed]",
      "text/plain": [
       "<Figure size 432x288 with 1 Axes>"
      ]
     },
     "metadata": {
      "needs_background": "light"
     },
     "output_type": "display_data"
    }
   ],
   "source": [
    "plt.boxplot(df['age_for_service_date']);"
   ]
  },
  {
   "cell_type": "code",
   "execution_count": 22,
   "id": "e4a6d670-634d-489e-a5a0-ae72a8244427",
   "metadata": {},
   "outputs": [
    {
     "data": {
      "text/plain": [
       "0          6\n",
       "1          6\n",
       "2          6\n",
       "3          6\n",
       "4          6\n",
       "          ..\n",
       "764328    29\n",
       "764329    29\n",
       "764330    29\n",
       "764331    58\n",
       "764332    58\n",
       "Name: age_for_service_date, Length: 764333, dtype: int64"
      ]
     },
     "execution_count": 22,
     "metadata": {},
     "output_type": "execute_result"
    }
   ],
   "source": [
    "df['age_for_service_date']"
   ]
  },
  {
   "cell_type": "markdown",
   "id": "1ae56da0-287f-43c3-8bb8-cc759f7cfc7b",
   "metadata": {},
   "source": [
    "**Вывод:** \n",
    "1. Возраст клиентов лежит в диапозоне от 0 до 120 лет.\n",
    "2. 120 - это скорее всего ошибка в данных. Возможно это 12 лет.\n",
    "3. Слишком много нулевых значений. Возможно большая часть нулевых значений - это пропуски возраста.\n",
    "4. Распределение клиентов по возрасту довольно интересное. Больнинство клиентов имеют возраст от 28 до 45 лет. Средний возраст клиентов = 35 лет. Также, много клиентов с нулевым возрастом. Это говорит но том, что очень часто обращаются за мед помощью родители новорожденных. Далее, имеется локальный максимум обращений в возрасте около пяти лет, со спадом активности до совершеннолетия. Далее идёт возрастание обращений."
   ]
  },
  {
   "cell_type": "markdown",
   "id": "d8a243ec-1c26-49a2-8716-c11418e3c886",
   "metadata": {},
   "source": [
    "#### 1.2.5 Количество оказанных услуг"
   ]
  },
  {
   "cell_type": "code",
   "execution_count": 23,
   "id": "2fe7af1b-2003-4ac2-aeb6-7a3fa35fc56a",
   "metadata": {},
   "outputs": [
    {
     "data": {
      "text/plain": [
       "<AxesSubplot:>"
      ]
     },
     "execution_count": 23,
     "metadata": {},
     "output_type": "execute_result"
    },
    {
     "data": {
      "image/png": "[encoded data removed]",
      "text/plain": [
       "<Figure size 432x288 with 1 Axes>"
      ]
     },
     "metadata": {
      "needs_background": "light"
     },
     "output_type": "display_data"
    }
   ],
   "source": [
    "# df['serv_count'].hist()\n",
    "df[df['serv_count'] < 50]['serv_count'].hist()"
   ]
  },
  {
   "cell_type": "code",
   "execution_count": 24,
   "id": "0bb02aee-87e0-4d27-83cb-e926bff482bd",
   "metadata": {},
   "outputs": [
    {
     "data": {
      "image/png": "[encoded data removed]",
      "text/plain": [
       "<Figure size 432x288 with 1 Axes>"
      ]
     },
     "metadata": {
      "needs_background": "light"
     },
     "output_type": "display_data"
    }
   ],
   "source": [
    "plt.boxplot(df['serv_count']);"
   ]
  },
  {
   "cell_type": "code",
   "execution_count": 25,
   "id": "41b2f2c6-ab70-4e31-87ba-a40bea08358e",
   "metadata": {},
   "outputs": [
    {
     "data": {
      "image/png": "[encoded data removed]",
      "text/plain": [
       "<Figure size 432x288 with 1 Axes>"
      ]
     },
     "metadata": {
      "needs_background": "light"
     },
     "output_type": "display_data"
    }
   ],
   "source": [
    "plt.boxplot(df[df['serv_count'] < 500]['serv_count']);"
   ]
  },
  {
   "cell_type": "code",
   "execution_count": 26,
   "id": "d7a5f9d2-2b9f-4dfd-985d-6f923a796837",
   "metadata": {},
   "outputs": [
    {
     "data": {
      "text/html": [
       "<div>\n",
       "<style scoped>\n",
       "    .dataframe tbody tr th:only-of-type {\n",
       "        vertical-align: middle;\n",
       "    }\n",
       "\n",
       "    .dataframe tbody tr th {\n",
       "        vertical-align: top;\n",
       "    }\n",
       "\n",
       "    .dataframe thead th {\n",
       "        text-align: right;\n",
       "    }\n",
       "</style>\n",
       "<table border=\"1\" class=\"dataframe\">\n",
       "  <thead>\n",
       "    <tr style=\"text-align: right;\">\n",
       "      <th></th>\n",
       "      <th>insured</th>\n",
       "      <th>service_date</th>\n",
       "      <th>sex_id</th>\n",
       "      <th>age_for_service_date</th>\n",
       "      <th>serv_count</th>\n",
       "      <th>serv_amount</th>\n",
       "    </tr>\n",
       "  </thead>\n",
       "  <tbody>\n",
       "    <tr>\n",
       "      <th>153771</th>\n",
       "      <td>235243</td>\n",
       "      <td>2021-04-10</td>\n",
       "      <td>2.0</td>\n",
       "      <td>37</td>\n",
       "      <td>0.0</td>\n",
       "      <td>855.0</td>\n",
       "    </tr>\n",
       "    <tr>\n",
       "      <th>167522</th>\n",
       "      <td>244392</td>\n",
       "      <td>2021-04-30</td>\n",
       "      <td>2.0</td>\n",
       "      <td>29</td>\n",
       "      <td>0.0</td>\n",
       "      <td>855.0</td>\n",
       "    </tr>\n",
       "  </tbody>\n",
       "</table>\n",
       "</div>"
      ],
      "text/plain": [
       "        insured service_date  sex_id  age_for_service_date  serv_count  \\\n",
       "153771   235243   2021-04-10     2.0                    37         0.0   \n",
       "167522   244392   2021-04-30     2.0                    29         0.0   \n",
       "\n",
       "        serv_amount  \n",
       "153771        855.0  \n",
       "167522        855.0  "
      ]
     },
     "execution_count": 26,
     "metadata": {},
     "output_type": "execute_result"
    }
   ],
   "source": [
    "# Посмотрим на записи где количество услуг = 0\n",
    "df[df['serv_count'] == 0]"
   ]
  },
  {
   "cell_type": "markdown",
   "id": "c86ef131-f9eb-4c3c-b05e-2f56082f9d7b",
   "metadata": {},
   "source": [
    "**Вывод:** Большинство клиентов обращались за помощью в один день от 1 до 3 раз. Однако в наборе данных присутствуют записи об обращениях в одну дату до 2610 раз. Это, мягко говоря, сомнительно. Возможно, в данном наборе данных эта колонка содержит не только количество обращений в день, но и какие-либо другие значения? Например количество медицинских препаратов, израсходованных для лечения клиента? Или их объём? Также, вызывают вопросы нулевые значения в данной колонке. Это обращение застрахованног, но услуга не была оказана? Но стоимость услуг не нулевая - скорее всего это ошибка. "
   ]
  },
  {
   "cell_type": "markdown",
   "id": "4de6964c-6a25-406e-ad37-b9a363ad4820",
   "metadata": {},
   "source": [
    "#### 1.2.6 Суммарная цена оказанных услуг"
   ]
  },
  {
   "cell_type": "code",
   "execution_count": 27,
   "id": "76bfafc5-f993-42f5-8f59-6c9c0e905a40",
   "metadata": {},
   "outputs": [
    {
     "data": {
      "image/png": "[encoded data removed]",
      "text/plain": [
       "<Figure size 432x288 with 1 Axes>"
      ]
     },
     "metadata": {
      "needs_background": "light"
     },
     "output_type": "display_data"
    }
   ],
   "source": [
    "df[df['serv_amount'] < 500000]['serv_amount'].hist(bins=100);"
   ]
  },
  {
   "cell_type": "code",
   "execution_count": 28,
   "id": "1f906231-3a51-42fd-b6cb-603153500d96",
   "metadata": {},
   "outputs": [
    {
     "data": {
      "text/html": [
       "<div>\n",
       "<style scoped>\n",
       "    .dataframe tbody tr th:only-of-type {\n",
       "        vertical-align: middle;\n",
       "    }\n",
       "\n",
       "    .dataframe tbody tr th {\n",
       "        vertical-align: top;\n",
       "    }\n",
       "\n",
       "    .dataframe thead th {\n",
       "        text-align: right;\n",
       "    }\n",
       "</style>\n",
       "<table border=\"1\" class=\"dataframe\">\n",
       "  <thead>\n",
       "    <tr style=\"text-align: right;\">\n",
       "      <th></th>\n",
       "      <th>insured</th>\n",
       "      <th>service_date</th>\n",
       "      <th>sex_id</th>\n",
       "      <th>age_for_service_date</th>\n",
       "      <th>serv_count</th>\n",
       "      <th>serv_amount</th>\n",
       "    </tr>\n",
       "  </thead>\n",
       "  <tbody>\n",
       "    <tr>\n",
       "      <th>60170</th>\n",
       "      <td>176296</td>\n",
       "      <td>2021-01-08</td>\n",
       "      <td>1.0</td>\n",
       "      <td>62</td>\n",
       "      <td>2.0</td>\n",
       "      <td>276962.73</td>\n",
       "    </tr>\n",
       "    <tr>\n",
       "      <th>60195</th>\n",
       "      <td>176296</td>\n",
       "      <td>2021-02-12</td>\n",
       "      <td>1.0</td>\n",
       "      <td>62</td>\n",
       "      <td>3.0</td>\n",
       "      <td>274593.26</td>\n",
       "    </tr>\n",
       "    <tr>\n",
       "      <th>351879</th>\n",
       "      <td>501588</td>\n",
       "      <td>2021-01-22</td>\n",
       "      <td>2.0</td>\n",
       "      <td>24</td>\n",
       "      <td>20.0</td>\n",
       "      <td>386800.00</td>\n",
       "    </tr>\n",
       "  </tbody>\n",
       "</table>\n",
       "</div>"
      ],
      "text/plain": [
       "        insured service_date  sex_id  age_for_service_date  serv_count  \\\n",
       "60170    176296   2021-01-08     1.0                    62         2.0   \n",
       "60195    176296   2021-02-12     1.0                    62         3.0   \n",
       "351879   501588   2021-01-22     2.0                    24        20.0   \n",
       "\n",
       "        serv_amount  \n",
       "60170     276962.73  \n",
       "60195     274593.26  \n",
       "351879    386800.00  "
      ]
     },
     "execution_count": 28,
     "metadata": {},
     "output_type": "execute_result"
    }
   ],
   "source": [
    "df[df['serv_amount'] > 200000]"
   ]
  },
  {
   "cell_type": "code",
   "execution_count": 29,
   "id": "37b0aaca-fa96-46bc-b3a5-f5ae8d8cc185",
   "metadata": {},
   "outputs": [
    {
     "data": {
      "text/html": [
       "<div>\n",
       "<style scoped>\n",
       "    .dataframe tbody tr th:only-of-type {\n",
       "        vertical-align: middle;\n",
       "    }\n",
       "\n",
       "    .dataframe tbody tr th {\n",
       "        vertical-align: top;\n",
       "    }\n",
       "\n",
       "    .dataframe thead th {\n",
       "        text-align: right;\n",
       "    }\n",
       "</style>\n",
       "<table border=\"1\" class=\"dataframe\">\n",
       "  <thead>\n",
       "    <tr style=\"text-align: right;\">\n",
       "      <th></th>\n",
       "      <th>insured</th>\n",
       "      <th>service_date</th>\n",
       "      <th>sex_id</th>\n",
       "      <th>age_for_service_date</th>\n",
       "      <th>serv_count</th>\n",
       "      <th>serv_amount</th>\n",
       "    </tr>\n",
       "  </thead>\n",
       "  <tbody>\n",
       "    <tr>\n",
       "      <th>351878</th>\n",
       "      <td>501588</td>\n",
       "      <td>2021-01-12</td>\n",
       "      <td>2.0</td>\n",
       "      <td>24</td>\n",
       "      <td>2.0</td>\n",
       "      <td>2100.0</td>\n",
       "    </tr>\n",
       "    <tr>\n",
       "      <th>351879</th>\n",
       "      <td>501588</td>\n",
       "      <td>2021-01-22</td>\n",
       "      <td>2.0</td>\n",
       "      <td>24</td>\n",
       "      <td>20.0</td>\n",
       "      <td>386800.0</td>\n",
       "    </tr>\n",
       "    <tr>\n",
       "      <th>351880</th>\n",
       "      <td>501588</td>\n",
       "      <td>2021-02-17</td>\n",
       "      <td>2.0</td>\n",
       "      <td>24</td>\n",
       "      <td>10.0</td>\n",
       "      <td>5200.0</td>\n",
       "    </tr>\n",
       "    <tr>\n",
       "      <th>351881</th>\n",
       "      <td>501588</td>\n",
       "      <td>2021-04-23</td>\n",
       "      <td>2.0</td>\n",
       "      <td>25</td>\n",
       "      <td>1.0</td>\n",
       "      <td>1500.0</td>\n",
       "    </tr>\n",
       "    <tr>\n",
       "      <th>351882</th>\n",
       "      <td>501588</td>\n",
       "      <td>2021-05-24</td>\n",
       "      <td>2.0</td>\n",
       "      <td>25</td>\n",
       "      <td>1.0</td>\n",
       "      <td>1500.0</td>\n",
       "    </tr>\n",
       "    <tr>\n",
       "      <th>351883</th>\n",
       "      <td>501588</td>\n",
       "      <td>2021-05-25</td>\n",
       "      <td>2.0</td>\n",
       "      <td>25</td>\n",
       "      <td>1.0</td>\n",
       "      <td>1400.0</td>\n",
       "    </tr>\n",
       "    <tr>\n",
       "      <th>351884</th>\n",
       "      <td>501588</td>\n",
       "      <td>2021-05-31</td>\n",
       "      <td>2.0</td>\n",
       "      <td>25</td>\n",
       "      <td>1.0</td>\n",
       "      <td>1500.0</td>\n",
       "    </tr>\n",
       "    <tr>\n",
       "      <th>351885</th>\n",
       "      <td>501588</td>\n",
       "      <td>2021-06-04</td>\n",
       "      <td>2.0</td>\n",
       "      <td>25</td>\n",
       "      <td>2.0</td>\n",
       "      <td>2490.0</td>\n",
       "    </tr>\n",
       "    <tr>\n",
       "      <th>351886</th>\n",
       "      <td>501588</td>\n",
       "      <td>2021-06-07</td>\n",
       "      <td>2.0</td>\n",
       "      <td>25</td>\n",
       "      <td>1.0</td>\n",
       "      <td>990.0</td>\n",
       "    </tr>\n",
       "    <tr>\n",
       "      <th>351887</th>\n",
       "      <td>501588</td>\n",
       "      <td>2021-10-20</td>\n",
       "      <td>2.0</td>\n",
       "      <td>25</td>\n",
       "      <td>1.0</td>\n",
       "      <td>1500.0</td>\n",
       "    </tr>\n",
       "    <tr>\n",
       "      <th>351888</th>\n",
       "      <td>501588</td>\n",
       "      <td>2021-12-29</td>\n",
       "      <td>2.0</td>\n",
       "      <td>25</td>\n",
       "      <td>1.0</td>\n",
       "      <td>1500.0</td>\n",
       "    </tr>\n",
       "  </tbody>\n",
       "</table>\n",
       "</div>"
      ],
      "text/plain": [
       "        insured service_date  sex_id  age_for_service_date  serv_count  \\\n",
       "351878   501588   2021-01-12     2.0                    24         2.0   \n",
       "351879   501588   2021-01-22     2.0                    24        20.0   \n",
       "351880   501588   2021-02-17     2.0                    24        10.0   \n",
       "351881   501588   2021-04-23     2.0                    25         1.0   \n",
       "351882   501588   2021-05-24     2.0                    25         1.0   \n",
       "351883   501588   2021-05-25     2.0                    25         1.0   \n",
       "351884   501588   2021-05-31     2.0                    25         1.0   \n",
       "351885   501588   2021-06-04     2.0                    25         2.0   \n",
       "351886   501588   2021-06-07     2.0                    25         1.0   \n",
       "351887   501588   2021-10-20     2.0                    25         1.0   \n",
       "351888   501588   2021-12-29     2.0                    25         1.0   \n",
       "\n",
       "        serv_amount  \n",
       "351878       2100.0  \n",
       "351879     386800.0  \n",
       "351880       5200.0  \n",
       "351881       1500.0  \n",
       "351882       1500.0  \n",
       "351883       1400.0  \n",
       "351884       1500.0  \n",
       "351885       2490.0  \n",
       "351886        990.0  \n",
       "351887       1500.0  \n",
       "351888       1500.0  "
      ]
     },
     "execution_count": 29,
     "metadata": {},
     "output_type": "execute_result"
    }
   ],
   "source": [
    "df[df['insured'] == 501588]"
   ]
  },
  {
   "cell_type": "code",
   "execution_count": 30,
   "id": "b995e712-ac40-4776-9e48-6517c5f83e9f",
   "metadata": {},
   "outputs": [
    {
     "data": {
      "image/png": "[encoded data removed]",
      "text/plain": [
       "<Figure size 432x288 with 1 Axes>"
      ]
     },
     "metadata": {
      "needs_background": "light"
     },
     "output_type": "display_data"
    }
   ],
   "source": [
    "plt.boxplot(df['serv_amount']);"
   ]
  },
  {
   "cell_type": "code",
   "execution_count": 31,
   "id": "211f0eb1-ca67-4e5c-9980-79e2f52d74b6",
   "metadata": {},
   "outputs": [
    {
     "data": {
      "image/png": "[encoded data removed]",
      "text/plain": [
       "<Figure size 432x288 with 1 Axes>"
      ]
     },
     "metadata": {
      "needs_background": "light"
     },
     "output_type": "display_data"
    }
   ],
   "source": [
    "plt.boxplot(df[df['serv_amount'] < 5000]['serv_amount']);"
   ]
  },
  {
   "cell_type": "markdown",
   "id": "ab30f5ba-e39f-49b2-a1da-d2c5d5f63e49",
   "metadata": {},
   "source": [
    "**Вывод:** Для большинства обращений, стоимость медицинских услуг лежит в диапозоне 900-2600. В некоторых случаях стоимость достигает очень больших значений- до 400000. Это ошибки или дорогостиящие операции?"
   ]
  },
  {
   "cell_type": "markdown",
   "id": "7dc4cd71-515b-4e25-8d1a-2b2bc3670f72",
   "metadata": {},
   "source": [
    "#### 1.2.7 Построим матрицу корреляций"
   ]
  },
  {
   "cell_type": "code",
   "execution_count": 32,
   "id": "20cfc64f-8ed2-47ad-9765-1121765cefc9",
   "metadata": {},
   "outputs": [
    {
     "data": {
      "image/png": "[encoded data removed]",
      "text/plain": [
       "<Figure size 432x288 with 2 Axes>"
      ]
     },
     "metadata": {
      "needs_background": "light"
     },
     "output_type": "display_data"
    }
   ],
   "source": [
    "sns.heatmap(df.corr(), annot=True);"
   ]
  },
  {
   "cell_type": "code",
   "execution_count": 33,
   "id": "b288d320-5aa4-496a-8143-334db202915b",
   "metadata": {},
   "outputs": [
    {
     "data": {
      "image/png": "[encoded data removed]",
      "text/plain": [
       "<Figure size 900x900 with 30 Axes>"
      ]
     },
     "metadata": {
      "needs_background": "light"
     },
     "output_type": "display_data"
    }
   ],
   "source": [
    "sns.pairplot(df);"
   ]
  },
  {
   "cell_type": "markdown",
   "id": "e1c42fb2-5880-484a-900d-5f0cccf0f832",
   "metadata": {},
   "source": [
    "**Вывод:** Сильных корреляционных зависимостей между значениями в разных колонках датасета не обнаружено."
   ]
  },
  {
   "cell_type": "markdown",
   "id": "149b2aef-6498-427d-b9cc-0fff5837f384",
   "metadata": {
    "tags": []
   },
   "source": [
    "**Вывод по разделу**\n",
    "1. Набор данных содержит сведенья об обращении застрахованных по ДМС в лечебные учреждения в период с 01 января 2021 года по 31 января 2022 года.\n",
    "2. В наборе данных содержаться сведенья о 137645 клиентах. Большинство из них обращались за медицинской помощью 1-3 раза за вышеуказанный период. Но есть и некоторые клиенты, которые обращались более 100 раз.\n",
    "3. Большинство клиентов в один день получили от 1 до 3 услуг. Однако в наборе данных присутствуют записи о получении в одну дату до 2610 услуг. Также присутствуют нулевые значения. Не понятно что считается услугой? Это количество обращений к врачу или количество потраченных ресурсов на пациента?\n",
    "4. Для большинства клиентов, стоимость медицинских услуг за один день лежит в диапозоне 900-2600. В некоторых случаях стоимость достигает очень больших значений- до 400000. Это ошибки или дорогостиящие операции?\n",
    "5. Данные о поле клиентов распределены в отношении 1 к 2.\n",
    "6. Распределение клиентов по возрасту довольно интересное. Больнинство клиентов имеют возраст от 28 до 45 лет. Средний возраст клиентов = 35 лет. Также, много клиентов с нулевым возрастом. Это говорит но том, что очень часто обращаются за мед помощью родители новорожденных. Далее, имеется локальный максимум обращений в возрасте около пяти лет, со спадом активности до совершеннолетия. Далее идёт возрастание обращений до 35 лет с последующим спадом. Присутствуют клиенты с возрастом 120 лет - возможно это ошибка.\n",
    "7. Пропуски присутствуют в колонке `sex_id`.\n",
    "8. Присутствует 52 полных дубликата строк. Скорее всего - это ошибка ввода данных, которую следует удалить. Однако, возможно, это два обращения за один день.\n",
    "9. Сильные корреляционные зависимостей между значениями в разных колонках датасета отсутствуют.\n",
    "\n",
    "По результатам анализа данных, для лучшего понимания данных и более качественной обработки и будущей модели, необходимо задать следующие вопросы тому, кто составлял датасет:\n",
    "1. Как формировалась колонка с количеством услуг? Являются-ли нормальными данные с очень большим количеством услуг?\n",
    "2. До каких пределов может доходить стоимость услуг?\n",
    "3. Правда-ли существует клиент с возрастом 120 лет или это ошибка. Большое количество клиентов с нулевым возрастом - это достоверные сведенья, или это пропуски истинных значений?\n",
    "4. Дубликаты строк - это ошибки или два обращения в один день?"
   ]
  },
  {
   "cell_type": "markdown",
   "id": "6b307b0f-71cb-46ad-b814-00a5e83293d8",
   "metadata": {},
   "source": [
    "## 2. Подготовка данных\n",
    "\n",
    "1. Предобработка.\n",
    "    - Дубликаты - удалить\n",
    "    - Обработка пропусков.\n",
    "    - Выбросы - обработать\n",
    "2. Генерация доп признаков:\n",
    "    - Признаки на основе даты обращения\n",
    "    - Целевой признак\n",
    "3. Группировка по ID клиента и извлечение признаков\n",
    "4. Формирование выборок."
   ]
  },
  {
   "cell_type": "markdown",
   "id": "25010246-03bf-4bde-bb0f-9ba7fe3bbd99",
   "metadata": {},
   "source": [
    "### 2.1 Предобработка\n",
    "    - Удалим дубликаты\n",
    "    - Обработаем пропуски. Так как восстановить значения неоткуда, заполним наиболее частым значением.\n",
    "    - Обработаем выбросы. Удалим только самые большие выбросы в колонках `serv_amount` и `serv_count`.\n",
    "    - Обработаем недостоверные данные"
   ]
  },
  {
   "cell_type": "code",
   "execution_count": 10,
   "id": "9c23f101-0659-456b-aa3f-bd75c3283c39",
   "metadata": {},
   "outputs": [],
   "source": [
    "# Удалим дубликаты\n",
    "df = df.drop_duplicates()"
   ]
  },
  {
   "cell_type": "code",
   "execution_count": 11,
   "id": "071168fa-b00f-468e-934c-6893f6a87b95",
   "metadata": {},
   "outputs": [],
   "source": [
    "# Заполним пропуски наиболее частым значением\n",
    "df['sex_id'] = df['sex_id'].fillna(2)"
   ]
  },
  {
   "cell_type": "code",
   "execution_count": 12,
   "id": "5002c4da-4892-4ed7-aecf-481f6f2ddf24",
   "metadata": {},
   "outputs": [],
   "source": [
    "# Обработка выбросов\n",
    "df = df[df['serv_amount'] < 200000]\n",
    "df = df[df['serv_count'] < 500]"
   ]
  },
  {
   "cell_type": "code",
   "execution_count": 13,
   "id": "50e83bf6-31ee-4667-bb3d-d87c5a32a7d6",
   "metadata": {},
   "outputs": [],
   "source": [
    "# Заменим на 1 количество услуг равное нулю\n",
    "df.loc[df['serv_count'] == 0, 'serv_count'] = 1"
   ]
  },
  {
   "cell_type": "markdown",
   "id": "18a1e12d-eee6-4511-8477-86e5de966dc9",
   "metadata": {},
   "source": [
    "**Вывод:** Дубликаты удалены, пропуски заполнены, выбросы обработаны."
   ]
  },
  {
   "cell_type": "markdown",
   "id": "016bc94b-dba3-48b4-9576-927c18c26258",
   "metadata": {},
   "source": [
    "### 2.2 Генерация признаков\n",
    "\n",
    "1. Выделим дополнительные признаки.\n",
    "2. Выделим целевой признак."
   ]
  },
  {
   "cell_type": "markdown",
   "id": "8213c8fd-8f46-4860-97cb-bf82fbf234d3",
   "metadata": {},
   "source": [
    "#### 2.2.1 Формирование признаков\n",
    "\n",
    "На данном этапе сложно сказать какой признак будет положительно влиять на работу модели, поэтому выделим из даты несколько признаков, а в последующей работе оставим наиболее эффективные:\n",
    "1. Признаки выделенные из даты оказания услуг:\n",
    "    - день месяца\n",
    "    - день недели\n",
    "    - день года\n",
    "    - месяц\n",
    "2. Другие признаки:\n",
    "    - средняя цена одной услуги за одно обращение"
   ]
  },
  {
   "cell_type": "code",
   "execution_count": 14,
   "id": "cc95bea1-3335-4c51-a8ce-371fc7351d7e",
   "metadata": {},
   "outputs": [],
   "source": [
    "# День\n",
    "df['day'] = df['service_date'].dt.day\n",
    "# День недели\n",
    "df['day_of_week'] = df['service_date'].dt.dayofweek\n",
    "# День в году\n",
    "df['day_of_year'] = df['service_date'].dt.dayofyear\n",
    "# Месяц\n",
    "df['month'] = df['service_date'].dt.month"
   ]
  },
  {
   "cell_type": "code",
   "execution_count": 15,
   "id": "d9774173-53ca-4731-8b82-b58176b6c6e9",
   "metadata": {},
   "outputs": [],
   "source": [
    "# Признак цена единицы мед услуг\n",
    "df['serv_amuont_perone'] = df['serv_amount'] / df['serv_count']"
   ]
  },
  {
   "cell_type": "markdown",
   "id": "99ee78ef-407e-40f5-b878-5b2b5acc3384",
   "metadata": {},
   "source": [
    "#### 2.2.2 Выделение целевого признака\n",
    "\n",
    "Целевым признаком является факт обращения застрахованного в январе 2022 года. `1`-обращался, `0`- не обращался.\n",
    "\n",
    "Для выделения целевого признака:\n",
    "1. Сформируем колонку `label` в которую запишем `1` - если в строка относится к обращению в январе 2022г и `0` - если нет.\n",
    "2. Заполним единицами все строки, в которых присутствуют пользователи обратившиеся в январе 2022г. \n",
    "3. Теперь строки с обращениями в январе 2022 г. нам больше не нужны, так как они не будут участвовать в работе модели(иначе это будет утечкой данных). Удалим их."
   ]
  },
  {
   "cell_type": "code",
   "execution_count": 16,
   "id": "0276eb60-b0bc-423f-80a6-c2682b7fd2cd",
   "metadata": {},
   "outputs": [],
   "source": [
    "# Целевой признак\n",
    "df['label'] = (df['service_date'].dt.year == 2022)*1\n",
    "# Пока у нас единицы только в строках с обращением в январе 2022, \n",
    "# а нам надо чтобы 1 были во всех строках с индексом у которых есть хотя-бы одна единица в целевой переменной\n",
    "df = df.merge(df.groupby('insured')['label'].max(), on='insured')\n",
    "# Удалим лишнюю колонку\n",
    "df = df.drop(columns=['label_x'])\n",
    "# Переименуем колонку с итоговым целевым признаком\n",
    "df = df.rename({'label_y': 'label'}, axis=1)"
   ]
  },
  {
   "cell_type": "code",
   "execution_count": 19,
   "id": "1f740128-1bf6-42e2-a333-4a3142cf8f7a",
   "metadata": {},
   "outputs": [
    {
     "data": {
      "text/html": [
       "<div>\n",
       "<style scoped>\n",
       "    .dataframe tbody tr th:only-of-type {\n",
       "        vertical-align: middle;\n",
       "    }\n",
       "\n",
       "    .dataframe tbody tr th {\n",
       "        vertical-align: top;\n",
       "    }\n",
       "\n",
       "    .dataframe thead th {\n",
       "        text-align: right;\n",
       "    }\n",
       "</style>\n",
       "<table border=\"1\" class=\"dataframe\">\n",
       "  <thead>\n",
       "    <tr style=\"text-align: right;\">\n",
       "      <th></th>\n",
       "      <th>insured</th>\n",
       "      <th>service_date</th>\n",
       "      <th>sex_id</th>\n",
       "      <th>age_for_service_date</th>\n",
       "      <th>serv_count</th>\n",
       "      <th>serv_amount</th>\n",
       "      <th>day</th>\n",
       "      <th>day_of_week</th>\n",
       "      <th>day_of_year</th>\n",
       "      <th>month</th>\n",
       "      <th>serv_amuont_perone</th>\n",
       "      <th>label</th>\n",
       "    </tr>\n",
       "  </thead>\n",
       "  <tbody>\n",
       "    <tr>\n",
       "      <th>0</th>\n",
       "      <td>125045</td>\n",
       "      <td>2021-03-03</td>\n",
       "      <td>1.0</td>\n",
       "      <td>6</td>\n",
       "      <td>2.0</td>\n",
       "      <td>2260.0</td>\n",
       "      <td>3</td>\n",
       "      <td>2</td>\n",
       "      <td>62</td>\n",
       "      <td>3</td>\n",
       "      <td>1130.000000</td>\n",
       "      <td>1</td>\n",
       "    </tr>\n",
       "    <tr>\n",
       "      <th>1</th>\n",
       "      <td>125045</td>\n",
       "      <td>2021-04-11</td>\n",
       "      <td>1.0</td>\n",
       "      <td>6</td>\n",
       "      <td>1.0</td>\n",
       "      <td>1600.0</td>\n",
       "      <td>11</td>\n",
       "      <td>6</td>\n",
       "      <td>101</td>\n",
       "      <td>4</td>\n",
       "      <td>1600.000000</td>\n",
       "      <td>1</td>\n",
       "    </tr>\n",
       "    <tr>\n",
       "      <th>2</th>\n",
       "      <td>125045</td>\n",
       "      <td>2021-04-18</td>\n",
       "      <td>1.0</td>\n",
       "      <td>6</td>\n",
       "      <td>5.0</td>\n",
       "      <td>4510.0</td>\n",
       "      <td>18</td>\n",
       "      <td>6</td>\n",
       "      <td>108</td>\n",
       "      <td>4</td>\n",
       "      <td>902.000000</td>\n",
       "      <td>1</td>\n",
       "    </tr>\n",
       "    <tr>\n",
       "      <th>3</th>\n",
       "      <td>125045</td>\n",
       "      <td>2021-04-23</td>\n",
       "      <td>1.0</td>\n",
       "      <td>6</td>\n",
       "      <td>1.0</td>\n",
       "      <td>380.0</td>\n",
       "      <td>23</td>\n",
       "      <td>4</td>\n",
       "      <td>113</td>\n",
       "      <td>4</td>\n",
       "      <td>380.000000</td>\n",
       "      <td>1</td>\n",
       "    </tr>\n",
       "    <tr>\n",
       "      <th>4</th>\n",
       "      <td>125045</td>\n",
       "      <td>2021-06-09</td>\n",
       "      <td>1.0</td>\n",
       "      <td>6</td>\n",
       "      <td>1.0</td>\n",
       "      <td>2500.0</td>\n",
       "      <td>9</td>\n",
       "      <td>2</td>\n",
       "      <td>160</td>\n",
       "      <td>6</td>\n",
       "      <td>2500.000000</td>\n",
       "      <td>1</td>\n",
       "    </tr>\n",
       "    <tr>\n",
       "      <th>5</th>\n",
       "      <td>125045</td>\n",
       "      <td>2021-11-24</td>\n",
       "      <td>1.0</td>\n",
       "      <td>7</td>\n",
       "      <td>2.0</td>\n",
       "      <td>4100.0</td>\n",
       "      <td>24</td>\n",
       "      <td>2</td>\n",
       "      <td>328</td>\n",
       "      <td>11</td>\n",
       "      <td>2050.000000</td>\n",
       "      <td>1</td>\n",
       "    </tr>\n",
       "    <tr>\n",
       "      <th>6</th>\n",
       "      <td>125045</td>\n",
       "      <td>2022-01-17</td>\n",
       "      <td>1.0</td>\n",
       "      <td>7</td>\n",
       "      <td>6.0</td>\n",
       "      <td>6540.0</td>\n",
       "      <td>17</td>\n",
       "      <td>0</td>\n",
       "      <td>17</td>\n",
       "      <td>1</td>\n",
       "      <td>1090.000000</td>\n",
       "      <td>1</td>\n",
       "    </tr>\n",
       "    <tr>\n",
       "      <th>7</th>\n",
       "      <td>125046</td>\n",
       "      <td>2021-06-15</td>\n",
       "      <td>2.0</td>\n",
       "      <td>28</td>\n",
       "      <td>2.0</td>\n",
       "      <td>2610.0</td>\n",
       "      <td>15</td>\n",
       "      <td>1</td>\n",
       "      <td>166</td>\n",
       "      <td>6</td>\n",
       "      <td>1305.000000</td>\n",
       "      <td>0</td>\n",
       "    </tr>\n",
       "    <tr>\n",
       "      <th>8</th>\n",
       "      <td>125046</td>\n",
       "      <td>2021-06-17</td>\n",
       "      <td>2.0</td>\n",
       "      <td>28</td>\n",
       "      <td>5.0</td>\n",
       "      <td>2410.0</td>\n",
       "      <td>17</td>\n",
       "      <td>3</td>\n",
       "      <td>168</td>\n",
       "      <td>6</td>\n",
       "      <td>482.000000</td>\n",
       "      <td>0</td>\n",
       "    </tr>\n",
       "    <tr>\n",
       "      <th>9</th>\n",
       "      <td>125046</td>\n",
       "      <td>2021-06-18</td>\n",
       "      <td>2.0</td>\n",
       "      <td>28</td>\n",
       "      <td>1.0</td>\n",
       "      <td>1300.0</td>\n",
       "      <td>18</td>\n",
       "      <td>4</td>\n",
       "      <td>169</td>\n",
       "      <td>6</td>\n",
       "      <td>1300.000000</td>\n",
       "      <td>0</td>\n",
       "    </tr>\n",
       "    <tr>\n",
       "      <th>10</th>\n",
       "      <td>125046</td>\n",
       "      <td>2021-10-17</td>\n",
       "      <td>2.0</td>\n",
       "      <td>29</td>\n",
       "      <td>3.0</td>\n",
       "      <td>6500.0</td>\n",
       "      <td>17</td>\n",
       "      <td>6</td>\n",
       "      <td>290</td>\n",
       "      <td>10</td>\n",
       "      <td>2166.666667</td>\n",
       "      <td>0</td>\n",
       "    </tr>\n",
       "    <tr>\n",
       "      <th>11</th>\n",
       "      <td>125046</td>\n",
       "      <td>2021-10-18</td>\n",
       "      <td>2.0</td>\n",
       "      <td>29</td>\n",
       "      <td>4.0</td>\n",
       "      <td>3890.0</td>\n",
       "      <td>18</td>\n",
       "      <td>0</td>\n",
       "      <td>291</td>\n",
       "      <td>10</td>\n",
       "      <td>972.500000</td>\n",
       "      <td>0</td>\n",
       "    </tr>\n",
       "    <tr>\n",
       "      <th>12</th>\n",
       "      <td>125046</td>\n",
       "      <td>2021-10-20</td>\n",
       "      <td>2.0</td>\n",
       "      <td>29</td>\n",
       "      <td>2.0</td>\n",
       "      <td>4600.0</td>\n",
       "      <td>20</td>\n",
       "      <td>2</td>\n",
       "      <td>293</td>\n",
       "      <td>10</td>\n",
       "      <td>2300.000000</td>\n",
       "      <td>0</td>\n",
       "    </tr>\n",
       "    <tr>\n",
       "      <th>13</th>\n",
       "      <td>125046</td>\n",
       "      <td>2021-11-21</td>\n",
       "      <td>2.0</td>\n",
       "      <td>29</td>\n",
       "      <td>11.0</td>\n",
       "      <td>13390.0</td>\n",
       "      <td>21</td>\n",
       "      <td>6</td>\n",
       "      <td>325</td>\n",
       "      <td>11</td>\n",
       "      <td>1217.272727</td>\n",
       "      <td>0</td>\n",
       "    </tr>\n",
       "    <tr>\n",
       "      <th>14</th>\n",
       "      <td>125046</td>\n",
       "      <td>2021-11-22</td>\n",
       "      <td>2.0</td>\n",
       "      <td>29</td>\n",
       "      <td>6.0</td>\n",
       "      <td>2310.0</td>\n",
       "      <td>22</td>\n",
       "      <td>0</td>\n",
       "      <td>326</td>\n",
       "      <td>11</td>\n",
       "      <td>385.000000</td>\n",
       "      <td>0</td>\n",
       "    </tr>\n",
       "    <tr>\n",
       "      <th>15</th>\n",
       "      <td>125046</td>\n",
       "      <td>2021-11-25</td>\n",
       "      <td>2.0</td>\n",
       "      <td>29</td>\n",
       "      <td>6.0</td>\n",
       "      <td>3330.0</td>\n",
       "      <td>25</td>\n",
       "      <td>3</td>\n",
       "      <td>329</td>\n",
       "      <td>11</td>\n",
       "      <td>555.000000</td>\n",
       "      <td>0</td>\n",
       "    </tr>\n",
       "    <tr>\n",
       "      <th>16</th>\n",
       "      <td>125046</td>\n",
       "      <td>2021-11-27</td>\n",
       "      <td>2.0</td>\n",
       "      <td>29</td>\n",
       "      <td>1.0</td>\n",
       "      <td>1900.0</td>\n",
       "      <td>27</td>\n",
       "      <td>5</td>\n",
       "      <td>331</td>\n",
       "      <td>11</td>\n",
       "      <td>1900.000000</td>\n",
       "      <td>0</td>\n",
       "    </tr>\n",
       "    <tr>\n",
       "      <th>17</th>\n",
       "      <td>125046</td>\n",
       "      <td>2021-12-04</td>\n",
       "      <td>2.0</td>\n",
       "      <td>29</td>\n",
       "      <td>1.0</td>\n",
       "      <td>1300.0</td>\n",
       "      <td>4</td>\n",
       "      <td>5</td>\n",
       "      <td>338</td>\n",
       "      <td>12</td>\n",
       "      <td>1300.000000</td>\n",
       "      <td>0</td>\n",
       "    </tr>\n",
       "    <tr>\n",
       "      <th>18</th>\n",
       "      <td>125046</td>\n",
       "      <td>2021-12-11</td>\n",
       "      <td>2.0</td>\n",
       "      <td>29</td>\n",
       "      <td>1.0</td>\n",
       "      <td>1300.0</td>\n",
       "      <td>11</td>\n",
       "      <td>5</td>\n",
       "      <td>345</td>\n",
       "      <td>12</td>\n",
       "      <td>1300.000000</td>\n",
       "      <td>0</td>\n",
       "    </tr>\n",
       "    <tr>\n",
       "      <th>19</th>\n",
       "      <td>125047</td>\n",
       "      <td>2021-06-03</td>\n",
       "      <td>2.0</td>\n",
       "      <td>53</td>\n",
       "      <td>8.0</td>\n",
       "      <td>7060.0</td>\n",
       "      <td>3</td>\n",
       "      <td>3</td>\n",
       "      <td>154</td>\n",
       "      <td>6</td>\n",
       "      <td>882.500000</td>\n",
       "      <td>0</td>\n",
       "    </tr>\n",
       "    <tr>\n",
       "      <th>20</th>\n",
       "      <td>125048</td>\n",
       "      <td>2021-02-01</td>\n",
       "      <td>1.0</td>\n",
       "      <td>17</td>\n",
       "      <td>1.0</td>\n",
       "      <td>1900.0</td>\n",
       "      <td>1</td>\n",
       "      <td>0</td>\n",
       "      <td>32</td>\n",
       "      <td>2</td>\n",
       "      <td>1900.000000</td>\n",
       "      <td>1</td>\n",
       "    </tr>\n",
       "    <tr>\n",
       "      <th>21</th>\n",
       "      <td>125048</td>\n",
       "      <td>2021-02-22</td>\n",
       "      <td>1.0</td>\n",
       "      <td>17</td>\n",
       "      <td>1.0</td>\n",
       "      <td>1500.0</td>\n",
       "      <td>22</td>\n",
       "      <td>0</td>\n",
       "      <td>53</td>\n",
       "      <td>2</td>\n",
       "      <td>1500.000000</td>\n",
       "      <td>1</td>\n",
       "    </tr>\n",
       "    <tr>\n",
       "      <th>22</th>\n",
       "      <td>125048</td>\n",
       "      <td>2021-03-08</td>\n",
       "      <td>1.0</td>\n",
       "      <td>17</td>\n",
       "      <td>4.0</td>\n",
       "      <td>9370.0</td>\n",
       "      <td>8</td>\n",
       "      <td>0</td>\n",
       "      <td>67</td>\n",
       "      <td>3</td>\n",
       "      <td>2342.500000</td>\n",
       "      <td>1</td>\n",
       "    </tr>\n",
       "    <tr>\n",
       "      <th>23</th>\n",
       "      <td>125048</td>\n",
       "      <td>2021-05-03</td>\n",
       "      <td>1.0</td>\n",
       "      <td>17</td>\n",
       "      <td>1.0</td>\n",
       "      <td>1300.0</td>\n",
       "      <td>3</td>\n",
       "      <td>0</td>\n",
       "      <td>123</td>\n",
       "      <td>5</td>\n",
       "      <td>1300.000000</td>\n",
       "      <td>1</td>\n",
       "    </tr>\n",
       "    <tr>\n",
       "      <th>24</th>\n",
       "      <td>125048</td>\n",
       "      <td>2021-05-09</td>\n",
       "      <td>1.0</td>\n",
       "      <td>17</td>\n",
       "      <td>19.0</td>\n",
       "      <td>10600.0</td>\n",
       "      <td>9</td>\n",
       "      <td>6</td>\n",
       "      <td>129</td>\n",
       "      <td>5</td>\n",
       "      <td>557.894737</td>\n",
       "      <td>1</td>\n",
       "    </tr>\n",
       "    <tr>\n",
       "      <th>25</th>\n",
       "      <td>125048</td>\n",
       "      <td>2021-05-10</td>\n",
       "      <td>1.0</td>\n",
       "      <td>17</td>\n",
       "      <td>3.0</td>\n",
       "      <td>3640.0</td>\n",
       "      <td>10</td>\n",
       "      <td>0</td>\n",
       "      <td>130</td>\n",
       "      <td>5</td>\n",
       "      <td>1213.333333</td>\n",
       "      <td>1</td>\n",
       "    </tr>\n",
       "    <tr>\n",
       "      <th>26</th>\n",
       "      <td>125048</td>\n",
       "      <td>2021-05-19</td>\n",
       "      <td>1.0</td>\n",
       "      <td>17</td>\n",
       "      <td>2.0</td>\n",
       "      <td>2410.0</td>\n",
       "      <td>19</td>\n",
       "      <td>2</td>\n",
       "      <td>139</td>\n",
       "      <td>5</td>\n",
       "      <td>1205.000000</td>\n",
       "      <td>1</td>\n",
       "    </tr>\n",
       "    <tr>\n",
       "      <th>27</th>\n",
       "      <td>125048</td>\n",
       "      <td>2021-05-22</td>\n",
       "      <td>1.0</td>\n",
       "      <td>17</td>\n",
       "      <td>1.0</td>\n",
       "      <td>1010.0</td>\n",
       "      <td>22</td>\n",
       "      <td>5</td>\n",
       "      <td>142</td>\n",
       "      <td>5</td>\n",
       "      <td>1010.000000</td>\n",
       "      <td>1</td>\n",
       "    </tr>\n",
       "    <tr>\n",
       "      <th>28</th>\n",
       "      <td>125048</td>\n",
       "      <td>2021-05-25</td>\n",
       "      <td>1.0</td>\n",
       "      <td>17</td>\n",
       "      <td>2.0</td>\n",
       "      <td>2410.0</td>\n",
       "      <td>25</td>\n",
       "      <td>1</td>\n",
       "      <td>145</td>\n",
       "      <td>5</td>\n",
       "      <td>1205.000000</td>\n",
       "      <td>1</td>\n",
       "    </tr>\n",
       "    <tr>\n",
       "      <th>29</th>\n",
       "      <td>125048</td>\n",
       "      <td>2021-05-29</td>\n",
       "      <td>1.0</td>\n",
       "      <td>17</td>\n",
       "      <td>1.0</td>\n",
       "      <td>660.0</td>\n",
       "      <td>29</td>\n",
       "      <td>5</td>\n",
       "      <td>149</td>\n",
       "      <td>5</td>\n",
       "      <td>660.000000</td>\n",
       "      <td>1</td>\n",
       "    </tr>\n",
       "    <tr>\n",
       "      <th>30</th>\n",
       "      <td>125048</td>\n",
       "      <td>2021-06-12</td>\n",
       "      <td>1.0</td>\n",
       "      <td>17</td>\n",
       "      <td>4.0</td>\n",
       "      <td>3600.0</td>\n",
       "      <td>12</td>\n",
       "      <td>5</td>\n",
       "      <td>163</td>\n",
       "      <td>6</td>\n",
       "      <td>900.000000</td>\n",
       "      <td>1</td>\n",
       "    </tr>\n",
       "    <tr>\n",
       "      <th>31</th>\n",
       "      <td>125048</td>\n",
       "      <td>2021-06-22</td>\n",
       "      <td>1.0</td>\n",
       "      <td>17</td>\n",
       "      <td>2.0</td>\n",
       "      <td>2560.0</td>\n",
       "      <td>22</td>\n",
       "      <td>1</td>\n",
       "      <td>173</td>\n",
       "      <td>6</td>\n",
       "      <td>1280.000000</td>\n",
       "      <td>1</td>\n",
       "    </tr>\n",
       "    <tr>\n",
       "      <th>32</th>\n",
       "      <td>125048</td>\n",
       "      <td>2021-06-26</td>\n",
       "      <td>1.0</td>\n",
       "      <td>17</td>\n",
       "      <td>1.0</td>\n",
       "      <td>1300.0</td>\n",
       "      <td>26</td>\n",
       "      <td>5</td>\n",
       "      <td>177</td>\n",
       "      <td>6</td>\n",
       "      <td>1300.000000</td>\n",
       "      <td>1</td>\n",
       "    </tr>\n",
       "    <tr>\n",
       "      <th>33</th>\n",
       "      <td>125048</td>\n",
       "      <td>2021-07-10</td>\n",
       "      <td>1.0</td>\n",
       "      <td>17</td>\n",
       "      <td>2.0</td>\n",
       "      <td>2840.0</td>\n",
       "      <td>10</td>\n",
       "      <td>5</td>\n",
       "      <td>191</td>\n",
       "      <td>7</td>\n",
       "      <td>1420.000000</td>\n",
       "      <td>1</td>\n",
       "    </tr>\n",
       "    <tr>\n",
       "      <th>34</th>\n",
       "      <td>125048</td>\n",
       "      <td>2021-07-30</td>\n",
       "      <td>1.0</td>\n",
       "      <td>17</td>\n",
       "      <td>1.0</td>\n",
       "      <td>3000.0</td>\n",
       "      <td>30</td>\n",
       "      <td>4</td>\n",
       "      <td>211</td>\n",
       "      <td>7</td>\n",
       "      <td>3000.000000</td>\n",
       "      <td>1</td>\n",
       "    </tr>\n",
       "    <tr>\n",
       "      <th>35</th>\n",
       "      <td>125048</td>\n",
       "      <td>2021-08-05</td>\n",
       "      <td>1.0</td>\n",
       "      <td>17</td>\n",
       "      <td>2.0</td>\n",
       "      <td>2840.0</td>\n",
       "      <td>5</td>\n",
       "      <td>3</td>\n",
       "      <td>217</td>\n",
       "      <td>8</td>\n",
       "      <td>1420.000000</td>\n",
       "      <td>1</td>\n",
       "    </tr>\n",
       "    <tr>\n",
       "      <th>36</th>\n",
       "      <td>125048</td>\n",
       "      <td>2021-08-16</td>\n",
       "      <td>1.0</td>\n",
       "      <td>17</td>\n",
       "      <td>6.0</td>\n",
       "      <td>5210.0</td>\n",
       "      <td>16</td>\n",
       "      <td>0</td>\n",
       "      <td>228</td>\n",
       "      <td>8</td>\n",
       "      <td>868.333333</td>\n",
       "      <td>1</td>\n",
       "    </tr>\n",
       "    <tr>\n",
       "      <th>37</th>\n",
       "      <td>125048</td>\n",
       "      <td>2021-08-19</td>\n",
       "      <td>1.0</td>\n",
       "      <td>17</td>\n",
       "      <td>2.0</td>\n",
       "      <td>2250.0</td>\n",
       "      <td>19</td>\n",
       "      <td>3</td>\n",
       "      <td>231</td>\n",
       "      <td>8</td>\n",
       "      <td>1125.000000</td>\n",
       "      <td>1</td>\n",
       "    </tr>\n",
       "    <tr>\n",
       "      <th>38</th>\n",
       "      <td>125048</td>\n",
       "      <td>2021-08-28</td>\n",
       "      <td>1.0</td>\n",
       "      <td>17</td>\n",
       "      <td>1.0</td>\n",
       "      <td>1300.0</td>\n",
       "      <td>28</td>\n",
       "      <td>5</td>\n",
       "      <td>240</td>\n",
       "      <td>8</td>\n",
       "      <td>1300.000000</td>\n",
       "      <td>1</td>\n",
       "    </tr>\n",
       "    <tr>\n",
       "      <th>39</th>\n",
       "      <td>125048</td>\n",
       "      <td>2021-10-22</td>\n",
       "      <td>1.0</td>\n",
       "      <td>18</td>\n",
       "      <td>1.0</td>\n",
       "      <td>1500.0</td>\n",
       "      <td>22</td>\n",
       "      <td>4</td>\n",
       "      <td>295</td>\n",
       "      <td>10</td>\n",
       "      <td>1500.000000</td>\n",
       "      <td>1</td>\n",
       "    </tr>\n",
       "    <tr>\n",
       "      <th>40</th>\n",
       "      <td>125048</td>\n",
       "      <td>2021-10-25</td>\n",
       "      <td>1.0</td>\n",
       "      <td>18</td>\n",
       "      <td>14.0</td>\n",
       "      <td>7510.0</td>\n",
       "      <td>25</td>\n",
       "      <td>0</td>\n",
       "      <td>298</td>\n",
       "      <td>10</td>\n",
       "      <td>536.428571</td>\n",
       "      <td>1</td>\n",
       "    </tr>\n",
       "    <tr>\n",
       "      <th>41</th>\n",
       "      <td>125048</td>\n",
       "      <td>2021-10-29</td>\n",
       "      <td>1.0</td>\n",
       "      <td>18</td>\n",
       "      <td>8.0</td>\n",
       "      <td>23230.0</td>\n",
       "      <td>29</td>\n",
       "      <td>4</td>\n",
       "      <td>302</td>\n",
       "      <td>10</td>\n",
       "      <td>2903.750000</td>\n",
       "      <td>1</td>\n",
       "    </tr>\n",
       "    <tr>\n",
       "      <th>42</th>\n",
       "      <td>125048</td>\n",
       "      <td>2021-10-31</td>\n",
       "      <td>1.0</td>\n",
       "      <td>18</td>\n",
       "      <td>1.0</td>\n",
       "      <td>1300.0</td>\n",
       "      <td>31</td>\n",
       "      <td>6</td>\n",
       "      <td>304</td>\n",
       "      <td>10</td>\n",
       "      <td>1300.000000</td>\n",
       "      <td>1</td>\n",
       "    </tr>\n",
       "    <tr>\n",
       "      <th>43</th>\n",
       "      <td>125048</td>\n",
       "      <td>2021-11-05</td>\n",
       "      <td>1.0</td>\n",
       "      <td>18</td>\n",
       "      <td>5.0</td>\n",
       "      <td>5620.0</td>\n",
       "      <td>5</td>\n",
       "      <td>4</td>\n",
       "      <td>309</td>\n",
       "      <td>11</td>\n",
       "      <td>1124.000000</td>\n",
       "      <td>1</td>\n",
       "    </tr>\n",
       "    <tr>\n",
       "      <th>44</th>\n",
       "      <td>125048</td>\n",
       "      <td>2021-11-08</td>\n",
       "      <td>1.0</td>\n",
       "      <td>18</td>\n",
       "      <td>8.0</td>\n",
       "      <td>7240.0</td>\n",
       "      <td>8</td>\n",
       "      <td>0</td>\n",
       "      <td>312</td>\n",
       "      <td>11</td>\n",
       "      <td>905.000000</td>\n",
       "      <td>1</td>\n",
       "    </tr>\n",
       "    <tr>\n",
       "      <th>45</th>\n",
       "      <td>125048</td>\n",
       "      <td>2021-11-09</td>\n",
       "      <td>1.0</td>\n",
       "      <td>18</td>\n",
       "      <td>5.0</td>\n",
       "      <td>9480.0</td>\n",
       "      <td>9</td>\n",
       "      <td>1</td>\n",
       "      <td>313</td>\n",
       "      <td>11</td>\n",
       "      <td>1896.000000</td>\n",
       "      <td>1</td>\n",
       "    </tr>\n",
       "    <tr>\n",
       "      <th>46</th>\n",
       "      <td>125048</td>\n",
       "      <td>2021-11-13</td>\n",
       "      <td>1.0</td>\n",
       "      <td>18</td>\n",
       "      <td>1.0</td>\n",
       "      <td>3500.0</td>\n",
       "      <td>13</td>\n",
       "      <td>5</td>\n",
       "      <td>317</td>\n",
       "      <td>11</td>\n",
       "      <td>3500.000000</td>\n",
       "      <td>1</td>\n",
       "    </tr>\n",
       "    <tr>\n",
       "      <th>47</th>\n",
       "      <td>125048</td>\n",
       "      <td>2021-11-16</td>\n",
       "      <td>1.0</td>\n",
       "      <td>18</td>\n",
       "      <td>1.0</td>\n",
       "      <td>2200.0</td>\n",
       "      <td>16</td>\n",
       "      <td>1</td>\n",
       "      <td>320</td>\n",
       "      <td>11</td>\n",
       "      <td>2200.000000</td>\n",
       "      <td>1</td>\n",
       "    </tr>\n",
       "    <tr>\n",
       "      <th>48</th>\n",
       "      <td>125048</td>\n",
       "      <td>2021-12-08</td>\n",
       "      <td>1.0</td>\n",
       "      <td>18</td>\n",
       "      <td>1.0</td>\n",
       "      <td>1300.0</td>\n",
       "      <td>8</td>\n",
       "      <td>2</td>\n",
       "      <td>342</td>\n",
       "      <td>12</td>\n",
       "      <td>1300.000000</td>\n",
       "      <td>1</td>\n",
       "    </tr>\n",
       "    <tr>\n",
       "      <th>49</th>\n",
       "      <td>125048</td>\n",
       "      <td>2021-12-16</td>\n",
       "      <td>1.0</td>\n",
       "      <td>18</td>\n",
       "      <td>2.0</td>\n",
       "      <td>4050.0</td>\n",
       "      <td>16</td>\n",
       "      <td>3</td>\n",
       "      <td>350</td>\n",
       "      <td>12</td>\n",
       "      <td>2025.000000</td>\n",
       "      <td>1</td>\n",
       "    </tr>\n",
       "  </tbody>\n",
       "</table>\n",
       "</div>"
      ],
      "text/plain": [
       "    insured service_date  sex_id  age_for_service_date  serv_count  \\\n",
       "0    125045   2021-03-03     1.0                     6         2.0   \n",
       "1    125045   2021-04-11     1.0                     6         1.0   \n",
       "2    125045   2021-04-18     1.0                     6         5.0   \n",
       "3    125045   2021-04-23     1.0                     6         1.0   \n",
       "4    125045   2021-06-09     1.0                     6         1.0   \n",
       "5    125045   2021-11-24     1.0                     7         2.0   \n",
       "6    125045   2022-01-17     1.0                     7         6.0   \n",
       "7    125046   2021-06-15     2.0                    28         2.0   \n",
       "8    125046   2021-06-17     2.0                    28         5.0   \n",
       "9    125046   2021-06-18     2.0                    28         1.0   \n",
       "10   125046   2021-10-17     2.0                    29         3.0   \n",
       "11   125046   2021-10-18     2.0                    29         4.0   \n",
       "12   125046   2021-10-20     2.0                    29         2.0   \n",
       "13   125046   2021-11-21     2.0                    29        11.0   \n",
       "14   125046   2021-11-22     2.0                    29         6.0   \n",
       "15   125046   2021-11-25     2.0                    29         6.0   \n",
       "16   125046   2021-11-27     2.0                    29         1.0   \n",
       "17   125046   2021-12-04     2.0                    29         1.0   \n",
       "18   125046   2021-12-11     2.0                    29         1.0   \n",
       "19   125047   2021-06-03     2.0                    53         8.0   \n",
       "20   125048   2021-02-01     1.0                    17         1.0   \n",
       "21   125048   2021-02-22     1.0                    17         1.0   \n",
       "22   125048   2021-03-08     1.0                    17         4.0   \n",
       "23   125048   2021-05-03     1.0                    17         1.0   \n",
       "24   125048   2021-05-09     1.0                    17        19.0   \n",
       "25   125048   2021-05-10     1.0                    17         3.0   \n",
       "26   125048   2021-05-19     1.0                    17         2.0   \n",
       "27   125048   2021-05-22     1.0                    17         1.0   \n",
       "28   125048   2021-05-25     1.0                    17         2.0   \n",
       "29   125048   2021-05-29     1.0                    17         1.0   \n",
       "30   125048   2021-06-12     1.0                    17         4.0   \n",
       "31   125048   2021-06-22     1.0                    17         2.0   \n",
       "32   125048   2021-06-26     1.0                    17         1.0   \n",
       "33   125048   2021-07-10     1.0                    17         2.0   \n",
       "34   125048   2021-07-30     1.0                    17         1.0   \n",
       "35   125048   2021-08-05     1.0                    17         2.0   \n",
       "36   125048   2021-08-16     1.0                    17         6.0   \n",
       "37   125048   2021-08-19     1.0                    17         2.0   \n",
       "38   125048   2021-08-28     1.0                    17         1.0   \n",
       "39   125048   2021-10-22     1.0                    18         1.0   \n",
       "40   125048   2021-10-25     1.0                    18        14.0   \n",
       "41   125048   2021-10-29     1.0                    18         8.0   \n",
       "42   125048   2021-10-31     1.0                    18         1.0   \n",
       "43   125048   2021-11-05     1.0                    18         5.0   \n",
       "44   125048   2021-11-08     1.0                    18         8.0   \n",
       "45   125048   2021-11-09     1.0                    18         5.0   \n",
       "46   125048   2021-11-13     1.0                    18         1.0   \n",
       "47   125048   2021-11-16     1.0                    18         1.0   \n",
       "48   125048   2021-12-08     1.0                    18         1.0   \n",
       "49   125048   2021-12-16     1.0                    18         2.0   \n",
       "\n",
       "    serv_amount  day  day_of_week  day_of_year  month  serv_amuont_perone  \\\n",
       "0        2260.0    3            2           62      3         1130.000000   \n",
       "1        1600.0   11            6          101      4         1600.000000   \n",
       "2        4510.0   18            6          108      4          902.000000   \n",
       "3         380.0   23            4          113      4          380.000000   \n",
       "4        2500.0    9            2          160      6         2500.000000   \n",
       "5        4100.0   24            2          328     11         2050.000000   \n",
       "6        6540.0   17            0           17      1         1090.000000   \n",
       "7        2610.0   15            1          166      6         1305.000000   \n",
       "8        2410.0   17            3          168      6          482.000000   \n",
       "9        1300.0   18            4          169      6         1300.000000   \n",
       "10       6500.0   17            6          290     10         2166.666667   \n",
       "11       3890.0   18            0          291     10          972.500000   \n",
       "12       4600.0   20            2          293     10         2300.000000   \n",
       "13      13390.0   21            6          325     11         1217.272727   \n",
       "14       2310.0   22            0          326     11          385.000000   \n",
       "15       3330.0   25            3          329     11          555.000000   \n",
       "16       1900.0   27            5          331     11         1900.000000   \n",
       "17       1300.0    4            5          338     12         1300.000000   \n",
       "18       1300.0   11            5          345     12         1300.000000   \n",
       "19       7060.0    3            3          154      6          882.500000   \n",
       "20       1900.0    1            0           32      2         1900.000000   \n",
       "21       1500.0   22            0           53      2         1500.000000   \n",
       "22       9370.0    8            0           67      3         2342.500000   \n",
       "23       1300.0    3            0          123      5         1300.000000   \n",
       "24      10600.0    9            6          129      5          557.894737   \n",
       "25       3640.0   10            0          130      5         1213.333333   \n",
       "26       2410.0   19            2          139      5         1205.000000   \n",
       "27       1010.0   22            5          142      5         1010.000000   \n",
       "28       2410.0   25            1          145      5         1205.000000   \n",
       "29        660.0   29            5          149      5          660.000000   \n",
       "30       3600.0   12            5          163      6          900.000000   \n",
       "31       2560.0   22            1          173      6         1280.000000   \n",
       "32       1300.0   26            5          177      6         1300.000000   \n",
       "33       2840.0   10            5          191      7         1420.000000   \n",
       "34       3000.0   30            4          211      7         3000.000000   \n",
       "35       2840.0    5            3          217      8         1420.000000   \n",
       "36       5210.0   16            0          228      8          868.333333   \n",
       "37       2250.0   19            3          231      8         1125.000000   \n",
       "38       1300.0   28            5          240      8         1300.000000   \n",
       "39       1500.0   22            4          295     10         1500.000000   \n",
       "40       7510.0   25            0          298     10          536.428571   \n",
       "41      23230.0   29            4          302     10         2903.750000   \n",
       "42       1300.0   31            6          304     10         1300.000000   \n",
       "43       5620.0    5            4          309     11         1124.000000   \n",
       "44       7240.0    8            0          312     11          905.000000   \n",
       "45       9480.0    9            1          313     11         1896.000000   \n",
       "46       3500.0   13            5          317     11         3500.000000   \n",
       "47       2200.0   16            1          320     11         2200.000000   \n",
       "48       1300.0    8            2          342     12         1300.000000   \n",
       "49       4050.0   16            3          350     12         2025.000000   \n",
       "\n",
       "    label  \n",
       "0       1  \n",
       "1       1  \n",
       "2       1  \n",
       "3       1  \n",
       "4       1  \n",
       "5       1  \n",
       "6       1  \n",
       "7       0  \n",
       "8       0  \n",
       "9       0  \n",
       "10      0  \n",
       "11      0  \n",
       "12      0  \n",
       "13      0  \n",
       "14      0  \n",
       "15      0  \n",
       "16      0  \n",
       "17      0  \n",
       "18      0  \n",
       "19      0  \n",
       "20      1  \n",
       "21      1  \n",
       "22      1  \n",
       "23      1  \n",
       "24      1  \n",
       "25      1  \n",
       "26      1  \n",
       "27      1  \n",
       "28      1  \n",
       "29      1  \n",
       "30      1  \n",
       "31      1  \n",
       "32      1  \n",
       "33      1  \n",
       "34      1  \n",
       "35      1  \n",
       "36      1  \n",
       "37      1  \n",
       "38      1  \n",
       "39      1  \n",
       "40      1  \n",
       "41      1  \n",
       "42      1  \n",
       "43      1  \n",
       "44      1  \n",
       "45      1  \n",
       "46      1  \n",
       "47      1  \n",
       "48      1  \n",
       "49      1  "
      ]
     },
     "execution_count": 19,
     "metadata": {},
     "output_type": "execute_result"
    }
   ],
   "source": [
    "df.head(50)"
   ]
  },
  {
   "cell_type": "code",
   "execution_count": 27,
   "id": "f2bf8b4e-fffb-49da-9dce-2100087ade4c",
   "metadata": {},
   "outputs": [
    {
     "data": {
      "text/plain": [
       "<AxesSubplot:>"
      ]
     },
     "execution_count": 27,
     "metadata": {},
     "output_type": "execute_result"
    },
    {
     "data": {
      "image/png": "[encoded data removed]",
      "text/plain": [
       "<Figure size 432x288 with 1 Axes>"
      ]
     },
     "metadata": {
      "needs_background": "light"
     },
     "output_type": "display_data"
    }
   ],
   "source": [
    "df[df['insured'] == 125048][['day_of_year',\n",
    "                             'month',\n",
    "                             'serv_count',\n",
    "                             'serv_amount',\n",
    "                             'serv_amuont_perone'\n",
    "                            ]].plot()"
   ]
  },
  {
   "cell_type": "code",
   "execution_count": 26,
   "id": "f0c77d41-27a2-4258-b8c5-ed54414ef2c4",
   "metadata": {},
   "outputs": [
    {
     "data": {
      "text/plain": [
       "<AxesSubplot:>"
      ]
     },
     "execution_count": 26,
     "metadata": {},
     "output_type": "execute_result"
    },
    {
     "data": {
      "image/png": "[encoded data removed]",
      "text/plain": [
       "<Figure size 432x288 with 1 Axes>"
      ]
     },
     "metadata": {
      "needs_background": "light"
     },
     "output_type": "display_data"
    }
   ],
   "source": [
    "df[df['insured'] == 125046][['day_of_year',\n",
    "                             'month',\n",
    "                             'serv_count',\n",
    "                             'serv_amount',\n",
    "                             'serv_amuont_perone'\n",
    "                            ]].plot()"
   ]
  },
  {
   "cell_type": "code",
   "execution_count": null,
   "id": "66f570b1-d322-4f27-96bf-1b590d6d77da",
   "metadata": {},
   "outputs": [],
   "source": []
  },
  {
   "cell_type": "code",
   "execution_count": 42,
   "id": "2a915a8a-b472-44dd-8267-67c397422bde",
   "metadata": {},
   "outputs": [],
   "source": [
    "# после выделения целевого признака, удалим записи с обращениями в январе 2022г.\n",
    "df = df[df['service_date'].dt.year == 2021]"
   ]
  },
  {
   "cell_type": "code",
   "execution_count": 43,
   "id": "256bfa97-a2be-45a9-a583-5938bf75e9e7",
   "metadata": {},
   "outputs": [
    {
     "data": {
      "image/png": "[encoded data removed]",
      "text/plain": [
       "<Figure size 432x288 with 1 Axes>"
      ]
     },
     "metadata": {
      "needs_background": "light"
     },
     "output_type": "display_data"
    }
   ],
   "source": [
    "df['label'].hist(bins=2);"
   ]
  },
  {
   "cell_type": "code",
   "execution_count": 44,
   "id": "46d2b17c-03bc-4676-a6ec-03ac5fb2f28c",
   "metadata": {},
   "outputs": [
    {
     "name": "stdout",
     "output_type": "stream",
     "text": [
      "<class 'pandas.core.frame.DataFrame'>\n",
      "Int64Index: 717338 entries, 0 to 764220\n",
      "Data columns (total 12 columns):\n",
      " #   Column                Non-Null Count   Dtype         \n",
      "---  ------                --------------   -----         \n",
      " 0   insured               717338 non-null  int64         \n",
      " 1   service_date          717338 non-null  datetime64[ns]\n",
      " 2   sex_id                717338 non-null  float64       \n",
      " 3   age_for_service_date  717338 non-null  int64         \n",
      " 4   serv_count            717338 non-null  float64       \n",
      " 5   serv_amount           717338 non-null  float64       \n",
      " 6   day                   717338 non-null  int64         \n",
      " 7   day_of_week           717338 non-null  int64         \n",
      " 8   day_of_year           717338 non-null  int64         \n",
      " 9   month                 717338 non-null  int64         \n",
      " 10  serv_amuont_perone    717338 non-null  float64       \n",
      " 11  label                 717338 non-null  int32         \n",
      "dtypes: datetime64[ns](1), float64(4), int32(1), int64(6)\n",
      "memory usage: 68.4 MB\n"
     ]
    }
   ],
   "source": [
    "df.info()"
   ]
  },
  {
   "cell_type": "markdown",
   "id": "d7f30d6d-555c-4944-bdc7-8230ffcec32b",
   "metadata": {},
   "source": [
    "**Вывод** \n",
    "1. Сформировали признаки на основе даты обращения.\n",
    "2. Сформировали колонку целевого признака.\n",
    "3. Удалили строки с обращениями в январе 2022 года."
   ]
  },
  {
   "cell_type": "markdown",
   "id": "a609164d-f1c6-47b5-81f0-2977f26d7a6c",
   "metadata": {},
   "source": [
    "### 2.3 Извлечение признаков\n",
    "\n",
    "На данном этапе имеем набор данных с обработанными пропусками и дубликатами, а также со сформрованными дополнительными признаками и целевым признаком. Однако, такой датасет ещё не готов для построения модели машинного обучения. Для каждого пользователя мы имеем по несколько обращений, которые складываються во временной ряд. Для формирования окончательного набора данных, который можно будет подать в модель, необходимо сгруппировать данные по ИД застрахованного и извлечь характеристики временного ряда. Для этого воспользуемся методами библиотеки `tsfresh`. Извлекать признаки временных рядов будем из всех колонок кроме `sex_id` и `age_for_service_date` так как они практически не меняются(только возраст может изменться на +1 год), и по сути являются категориальными признаками."
   ]
  },
  {
   "cell_type": "code",
   "execution_count": 45,
   "id": "ad75b5e8-0b02-443e-9508-ce09192e2eb3",
   "metadata": {},
   "outputs": [
    {
     "name": "stderr",
     "output_type": "stream",
     "text": [
      "Feature Extraction: 100%|██████████| 20/20 [02:08<00:00,  6.44s/it]\n"
     ]
    },
    {
     "name": "stdout",
     "output_type": "stream",
     "text": [
      "CPU times: total: 2min 10s\n",
      "Wall time: 2min 18s\n"
     ]
    }
   ],
   "source": [
    "%%time\n",
    "# Извлечение признаков\n",
    "df_extracted_features = extract_features(df.drop(['sex_id', 'age_for_service_date', 'label'], axis=1),\n",
    "                                         default_fc_parameters=MinimalFCParameters(),#EfficientFCParameters(),\n",
    "                                         column_id='insured',\n",
    "                                         column_sort='service_date',\n",
    "                                         # disable_progressbar=False,\n",
    "                                         # n_jobs=0,\n",
    "                                        )"
   ]
  },
  {
   "cell_type": "code",
   "execution_count": 46,
   "id": "1713bf5c-b342-42f8-9737-815147194214",
   "metadata": {},
   "outputs": [
    {
     "data": {
      "text/html": [
       "<div>\n",
       "<style scoped>\n",
       "    .dataframe tbody tr th:only-of-type {\n",
       "        vertical-align: middle;\n",
       "    }\n",
       "\n",
       "    .dataframe tbody tr th {\n",
       "        vertical-align: top;\n",
       "    }\n",
       "\n",
       "    .dataframe thead th {\n",
       "        text-align: right;\n",
       "    }\n",
       "</style>\n",
       "<table border=\"1\" class=\"dataframe\">\n",
       "  <thead>\n",
       "    <tr style=\"text-align: right;\">\n",
       "      <th></th>\n",
       "      <th>serv_count__sum_values</th>\n",
       "      <th>serv_count__median</th>\n",
       "      <th>serv_count__mean</th>\n",
       "      <th>serv_count__length</th>\n",
       "      <th>serv_count__standard_deviation</th>\n",
       "      <th>serv_count__variance</th>\n",
       "      <th>serv_count__root_mean_square</th>\n",
       "      <th>serv_count__maximum</th>\n",
       "      <th>serv_count__minimum</th>\n",
       "      <th>serv_amount__sum_values</th>\n",
       "      <th>serv_amount__median</th>\n",
       "      <th>serv_amount__mean</th>\n",
       "      <th>serv_amount__length</th>\n",
       "      <th>serv_amount__standard_deviation</th>\n",
       "      <th>serv_amount__variance</th>\n",
       "      <th>serv_amount__root_mean_square</th>\n",
       "      <th>serv_amount__maximum</th>\n",
       "      <th>serv_amount__minimum</th>\n",
       "      <th>day__sum_values</th>\n",
       "      <th>day__median</th>\n",
       "      <th>day__mean</th>\n",
       "      <th>day__length</th>\n",
       "      <th>day__standard_deviation</th>\n",
       "      <th>day__variance</th>\n",
       "      <th>day__root_mean_square</th>\n",
       "      <th>day__maximum</th>\n",
       "      <th>day__minimum</th>\n",
       "      <th>day_of_week__sum_values</th>\n",
       "      <th>day_of_week__median</th>\n",
       "      <th>day_of_week__mean</th>\n",
       "      <th>day_of_week__length</th>\n",
       "      <th>day_of_week__standard_deviation</th>\n",
       "      <th>day_of_week__variance</th>\n",
       "      <th>day_of_week__root_mean_square</th>\n",
       "      <th>day_of_week__maximum</th>\n",
       "      <th>day_of_week__minimum</th>\n",
       "      <th>day_of_year__sum_values</th>\n",
       "      <th>day_of_year__median</th>\n",
       "      <th>day_of_year__mean</th>\n",
       "      <th>day_of_year__length</th>\n",
       "      <th>day_of_year__standard_deviation</th>\n",
       "      <th>day_of_year__variance</th>\n",
       "      <th>day_of_year__root_mean_square</th>\n",
       "      <th>day_of_year__maximum</th>\n",
       "      <th>day_of_year__minimum</th>\n",
       "      <th>month__sum_values</th>\n",
       "      <th>month__median</th>\n",
       "      <th>month__mean</th>\n",
       "      <th>month__length</th>\n",
       "      <th>month__standard_deviation</th>\n",
       "      <th>month__variance</th>\n",
       "      <th>month__root_mean_square</th>\n",
       "      <th>month__maximum</th>\n",
       "      <th>month__minimum</th>\n",
       "      <th>serv_amuont_perone__sum_values</th>\n",
       "      <th>serv_amuont_perone__median</th>\n",
       "      <th>serv_amuont_perone__mean</th>\n",
       "      <th>serv_amuont_perone__length</th>\n",
       "      <th>serv_amuont_perone__standard_deviation</th>\n",
       "      <th>serv_amuont_perone__variance</th>\n",
       "      <th>serv_amuont_perone__root_mean_square</th>\n",
       "      <th>serv_amuont_perone__maximum</th>\n",
       "      <th>serv_amuont_perone__minimum</th>\n",
       "    </tr>\n",
       "  </thead>\n",
       "  <tbody>\n",
       "    <tr>\n",
       "      <th>125045</th>\n",
       "      <td>12.0</td>\n",
       "      <td>1.5</td>\n",
       "      <td>2.000000</td>\n",
       "      <td>6.0</td>\n",
       "      <td>1.414214</td>\n",
       "      <td>2.000000</td>\n",
       "      <td>2.449490</td>\n",
       "      <td>5.0</td>\n",
       "      <td>1.0</td>\n",
       "      <td>15350.00</td>\n",
       "      <td>2380.0</td>\n",
       "      <td>2558.333333</td>\n",
       "      <td>6.0</td>\n",
       "      <td>1410.773035</td>\n",
       "      <td>1.990281e+06</td>\n",
       "      <td>2921.532132</td>\n",
       "      <td>4510.0</td>\n",
       "      <td>380.00</td>\n",
       "      <td>88.0</td>\n",
       "      <td>14.5</td>\n",
       "      <td>14.666667</td>\n",
       "      <td>6.0</td>\n",
       "      <td>7.630349</td>\n",
       "      <td>58.222222</td>\n",
       "      <td>16.532796</td>\n",
       "      <td>24.0</td>\n",
       "      <td>3.0</td>\n",
       "      <td>22.0</td>\n",
       "      <td>3.0</td>\n",
       "      <td>3.666667</td>\n",
       "      <td>6.0</td>\n",
       "      <td>1.795055</td>\n",
       "      <td>3.222222</td>\n",
       "      <td>4.082483</td>\n",
       "      <td>6.0</td>\n",
       "      <td>2.0</td>\n",
       "      <td>872.0</td>\n",
       "      <td>110.5</td>\n",
       "      <td>145.333333</td>\n",
       "      <td>6.0</td>\n",
       "      <td>86.536441</td>\n",
       "      <td>7488.555556</td>\n",
       "      <td>169.145894</td>\n",
       "      <td>328.0</td>\n",
       "      <td>62.0</td>\n",
       "      <td>32.0</td>\n",
       "      <td>4.0</td>\n",
       "      <td>5.333333</td>\n",
       "      <td>6.0</td>\n",
       "      <td>2.687419</td>\n",
       "      <td>7.222222</td>\n",
       "      <td>5.972158</td>\n",
       "      <td>11.0</td>\n",
       "      <td>3.0</td>\n",
       "      <td>8562.000000</td>\n",
       "      <td>1365.000000</td>\n",
       "      <td>1427.000000</td>\n",
       "      <td>6.0</td>\n",
       "      <td>710.566675</td>\n",
       "      <td>504905.000000</td>\n",
       "      <td>1594.124838</td>\n",
       "      <td>2500.000000</td>\n",
       "      <td>380.000000</td>\n",
       "    </tr>\n",
       "    <tr>\n",
       "      <th>125046</th>\n",
       "      <td>43.0</td>\n",
       "      <td>2.5</td>\n",
       "      <td>3.583333</td>\n",
       "      <td>12.0</td>\n",
       "      <td>2.899952</td>\n",
       "      <td>8.409722</td>\n",
       "      <td>4.609772</td>\n",
       "      <td>11.0</td>\n",
       "      <td>1.0</td>\n",
       "      <td>44840.00</td>\n",
       "      <td>2510.0</td>\n",
       "      <td>3736.666667</td>\n",
       "      <td>12.0</td>\n",
       "      <td>3266.079029</td>\n",
       "      <td>1.066727e+07</td>\n",
       "      <td>4962.857040</td>\n",
       "      <td>13390.0</td>\n",
       "      <td>1300.00</td>\n",
       "      <td>215.0</td>\n",
       "      <td>18.0</td>\n",
       "      <td>17.916667</td>\n",
       "      <td>12.0</td>\n",
       "      <td>5.880169</td>\n",
       "      <td>34.576389</td>\n",
       "      <td>18.856917</td>\n",
       "      <td>27.0</td>\n",
       "      <td>4.0</td>\n",
       "      <td>40.0</td>\n",
       "      <td>3.5</td>\n",
       "      <td>3.333333</td>\n",
       "      <td>12.0</td>\n",
       "      <td>2.094968</td>\n",
       "      <td>4.388889</td>\n",
       "      <td>3.937004</td>\n",
       "      <td>6.0</td>\n",
       "      <td>0.0</td>\n",
       "      <td>3371.0</td>\n",
       "      <td>309.0</td>\n",
       "      <td>280.916667</td>\n",
       "      <td>12.0</td>\n",
       "      <td>67.683649</td>\n",
       "      <td>4581.076389</td>\n",
       "      <td>288.955446</td>\n",
       "      <td>345.0</td>\n",
       "      <td>166.0</td>\n",
       "      <td>116.0</td>\n",
       "      <td>10.5</td>\n",
       "      <td>9.666667</td>\n",
       "      <td>12.0</td>\n",
       "      <td>2.211083</td>\n",
       "      <td>4.888889</td>\n",
       "      <td>9.916317</td>\n",
       "      <td>12.0</td>\n",
       "      <td>6.0</td>\n",
       "      <td>15183.439394</td>\n",
       "      <td>1300.000000</td>\n",
       "      <td>1265.286616</td>\n",
       "      <td>12.0</td>\n",
       "      <td>596.667826</td>\n",
       "      <td>356012.494546</td>\n",
       "      <td>1398.914835</td>\n",
       "      <td>2300.000000</td>\n",
       "      <td>385.000000</td>\n",
       "    </tr>\n",
       "    <tr>\n",
       "      <th>125047</th>\n",
       "      <td>8.0</td>\n",
       "      <td>8.0</td>\n",
       "      <td>8.000000</td>\n",
       "      <td>1.0</td>\n",
       "      <td>0.000000</td>\n",
       "      <td>0.000000</td>\n",
       "      <td>8.000000</td>\n",
       "      <td>8.0</td>\n",
       "      <td>8.0</td>\n",
       "      <td>7060.00</td>\n",
       "      <td>7060.0</td>\n",
       "      <td>7060.000000</td>\n",
       "      <td>1.0</td>\n",
       "      <td>0.000000</td>\n",
       "      <td>0.000000e+00</td>\n",
       "      <td>7060.000000</td>\n",
       "      <td>7060.0</td>\n",
       "      <td>7060.00</td>\n",
       "      <td>3.0</td>\n",
       "      <td>3.0</td>\n",
       "      <td>3.000000</td>\n",
       "      <td>1.0</td>\n",
       "      <td>0.000000</td>\n",
       "      <td>0.000000</td>\n",
       "      <td>3.000000</td>\n",
       "      <td>3.0</td>\n",
       "      <td>3.0</td>\n",
       "      <td>3.0</td>\n",
       "      <td>3.0</td>\n",
       "      <td>3.000000</td>\n",
       "      <td>1.0</td>\n",
       "      <td>0.000000</td>\n",
       "      <td>0.000000</td>\n",
       "      <td>3.000000</td>\n",
       "      <td>3.0</td>\n",
       "      <td>3.0</td>\n",
       "      <td>154.0</td>\n",
       "      <td>154.0</td>\n",
       "      <td>154.000000</td>\n",
       "      <td>1.0</td>\n",
       "      <td>0.000000</td>\n",
       "      <td>0.000000</td>\n",
       "      <td>154.000000</td>\n",
       "      <td>154.0</td>\n",
       "      <td>154.0</td>\n",
       "      <td>6.0</td>\n",
       "      <td>6.0</td>\n",
       "      <td>6.000000</td>\n",
       "      <td>1.0</td>\n",
       "      <td>0.000000</td>\n",
       "      <td>0.000000</td>\n",
       "      <td>6.000000</td>\n",
       "      <td>6.0</td>\n",
       "      <td>6.0</td>\n",
       "      <td>882.500000</td>\n",
       "      <td>882.500000</td>\n",
       "      <td>882.500000</td>\n",
       "      <td>1.0</td>\n",
       "      <td>0.000000</td>\n",
       "      <td>0.000000</td>\n",
       "      <td>882.500000</td>\n",
       "      <td>882.500000</td>\n",
       "      <td>882.500000</td>\n",
       "    </tr>\n",
       "    <tr>\n",
       "      <th>125048</th>\n",
       "      <td>119.0</td>\n",
       "      <td>2.0</td>\n",
       "      <td>3.606061</td>\n",
       "      <td>33.0</td>\n",
       "      <td>4.022206</td>\n",
       "      <td>16.178145</td>\n",
       "      <td>5.402020</td>\n",
       "      <td>19.0</td>\n",
       "      <td>1.0</td>\n",
       "      <td>136710.00</td>\n",
       "      <td>2840.0</td>\n",
       "      <td>4142.727273</td>\n",
       "      <td>33.0</td>\n",
       "      <td>4231.730266</td>\n",
       "      <td>1.790754e+07</td>\n",
       "      <td>5921.970137</td>\n",
       "      <td>23230.0</td>\n",
       "      <td>660.00</td>\n",
       "      <td>570.0</td>\n",
       "      <td>19.0</td>\n",
       "      <td>17.272727</td>\n",
       "      <td>33.0</td>\n",
       "      <td>8.729166</td>\n",
       "      <td>76.198347</td>\n",
       "      <td>19.353177</td>\n",
       "      <td>31.0</td>\n",
       "      <td>1.0</td>\n",
       "      <td>85.0</td>\n",
       "      <td>3.0</td>\n",
       "      <td>2.575758</td>\n",
       "      <td>33.0</td>\n",
       "      <td>2.074817</td>\n",
       "      <td>4.304867</td>\n",
       "      <td>3.307475</td>\n",
       "      <td>6.0</td>\n",
       "      <td>0.0</td>\n",
       "      <td>7476.0</td>\n",
       "      <td>228.0</td>\n",
       "      <td>226.545455</td>\n",
       "      <td>33.0</td>\n",
       "      <td>95.667699</td>\n",
       "      <td>9152.308540</td>\n",
       "      <td>245.916961</td>\n",
       "      <td>362.0</td>\n",
       "      <td>32.0</td>\n",
       "      <td>261.0</td>\n",
       "      <td>8.0</td>\n",
       "      <td>7.909091</td>\n",
       "      <td>33.0</td>\n",
       "      <td>3.088234</td>\n",
       "      <td>9.537190</td>\n",
       "      <td>8.490637</td>\n",
       "      <td>12.0</td>\n",
       "      <td>2.0</td>\n",
       "      <td>47492.128864</td>\n",
       "      <td>1300.000000</td>\n",
       "      <td>1439.155420</td>\n",
       "      <td>33.0</td>\n",
       "      <td>709.372258</td>\n",
       "      <td>503209.000894</td>\n",
       "      <td>1604.486623</td>\n",
       "      <td>3500.000000</td>\n",
       "      <td>338.888889</td>\n",
       "    </tr>\n",
       "    <tr>\n",
       "      <th>125049</th>\n",
       "      <td>21.0</td>\n",
       "      <td>2.5</td>\n",
       "      <td>3.500000</td>\n",
       "      <td>6.0</td>\n",
       "      <td>2.217356</td>\n",
       "      <td>4.916667</td>\n",
       "      <td>4.143268</td>\n",
       "      <td>7.0</td>\n",
       "      <td>1.0</td>\n",
       "      <td>20301.92</td>\n",
       "      <td>1581.7</td>\n",
       "      <td>3383.653333</td>\n",
       "      <td>6.0</td>\n",
       "      <td>3903.064475</td>\n",
       "      <td>1.523391e+07</td>\n",
       "      <td>5165.561168</td>\n",
       "      <td>12073.0</td>\n",
       "      <td>1259.16</td>\n",
       "      <td>136.0</td>\n",
       "      <td>22.5</td>\n",
       "      <td>22.666667</td>\n",
       "      <td>6.0</td>\n",
       "      <td>4.027682</td>\n",
       "      <td>16.222222</td>\n",
       "      <td>23.021729</td>\n",
       "      <td>28.0</td>\n",
       "      <td>17.0</td>\n",
       "      <td>21.0</td>\n",
       "      <td>3.0</td>\n",
       "      <td>3.500000</td>\n",
       "      <td>6.0</td>\n",
       "      <td>1.892969</td>\n",
       "      <td>3.583333</td>\n",
       "      <td>3.979112</td>\n",
       "      <td>6.0</td>\n",
       "      <td>1.0</td>\n",
       "      <td>136.0</td>\n",
       "      <td>22.5</td>\n",
       "      <td>22.666667</td>\n",
       "      <td>6.0</td>\n",
       "      <td>4.027682</td>\n",
       "      <td>16.222222</td>\n",
       "      <td>23.021729</td>\n",
       "      <td>28.0</td>\n",
       "      <td>17.0</td>\n",
       "      <td>6.0</td>\n",
       "      <td>1.0</td>\n",
       "      <td>1.000000</td>\n",
       "      <td>6.0</td>\n",
       "      <td>0.000000</td>\n",
       "      <td>0.000000</td>\n",
       "      <td>1.000000</td>\n",
       "      <td>1.0</td>\n",
       "      <td>1.0</td>\n",
       "      <td>5518.494286</td>\n",
       "      <td>778.843333</td>\n",
       "      <td>919.749048</td>\n",
       "      <td>6.0</td>\n",
       "      <td>459.536477</td>\n",
       "      <td>211173.773776</td>\n",
       "      <td>1028.159562</td>\n",
       "      <td>1724.714286</td>\n",
       "      <td>274.933333</td>\n",
       "    </tr>\n",
       "  </tbody>\n",
       "</table>\n",
       "</div>"
      ],
      "text/plain": [
       "        serv_count__sum_values  serv_count__median  serv_count__mean  \\\n",
       "125045                    12.0                 1.5          2.000000   \n",
       "125046                    43.0                 2.5          3.583333   \n",
       "125047                     8.0                 8.0          8.000000   \n",
       "125048                   119.0                 2.0          3.606061   \n",
       "125049                    21.0                 2.5          3.500000   \n",
       "\n",
       "        serv_count__length  serv_count__standard_deviation  \\\n",
       "125045                 6.0                        1.414214   \n",
       "125046                12.0                        2.899952   \n",
       "125047                 1.0                        0.000000   \n",
       "125048                33.0                        4.022206   \n",
       "125049                 6.0                        2.217356   \n",
       "\n",
       "        serv_count__variance  serv_count__root_mean_square  \\\n",
       "125045              2.000000                      2.449490   \n",
       "125046              8.409722                      4.609772   \n",
       "125047              0.000000                      8.000000   \n",
       "125048             16.178145                      5.402020   \n",
       "125049              4.916667                      4.143268   \n",
       "\n",
       "        serv_count__maximum  serv_count__minimum  serv_amount__sum_values  \\\n",
       "125045                  5.0                  1.0                 15350.00   \n",
       "125046                 11.0                  1.0                 44840.00   \n",
       "125047                  8.0                  8.0                  7060.00   \n",
       "125048                 19.0                  1.0                136710.00   \n",
       "125049                  7.0                  1.0                 20301.92   \n",
       "\n",
       "        serv_amount__median  serv_amount__mean  serv_amount__length  \\\n",
       "125045               2380.0        2558.333333                  6.0   \n",
       "125046               2510.0        3736.666667                 12.0   \n",
       "125047               7060.0        7060.000000                  1.0   \n",
       "125048               2840.0        4142.727273                 33.0   \n",
       "125049               1581.7        3383.653333                  6.0   \n",
       "\n",
       "        serv_amount__standard_deviation  serv_amount__variance  \\\n",
       "125045                      1410.773035           1.990281e+06   \n",
       "125046                      3266.079029           1.066727e+07   \n",
       "125047                         0.000000           0.000000e+00   \n",
       "125048                      4231.730266           1.790754e+07   \n",
       "125049                      3903.064475           1.523391e+07   \n",
       "\n",
       "        serv_amount__root_mean_square  serv_amount__maximum  \\\n",
       "125045                    2921.532132                4510.0   \n",
       "125046                    4962.857040               13390.0   \n",
       "125047                    7060.000000                7060.0   \n",
       "125048                    5921.970137               23230.0   \n",
       "125049                    5165.561168               12073.0   \n",
       "\n",
       "        serv_amount__minimum  day__sum_values  day__median  day__mean  \\\n",
       "125045                380.00             88.0         14.5  14.666667   \n",
       "125046               1300.00            215.0         18.0  17.916667   \n",
       "125047               7060.00              3.0          3.0   3.000000   \n",
       "125048                660.00            570.0         19.0  17.272727   \n",
       "125049               1259.16            136.0         22.5  22.666667   \n",
       "\n",
       "        day__length  day__standard_deviation  day__variance  \\\n",
       "125045          6.0                 7.630349      58.222222   \n",
       "125046         12.0                 5.880169      34.576389   \n",
       "125047          1.0                 0.000000       0.000000   \n",
       "125048         33.0                 8.729166      76.198347   \n",
       "125049          6.0                 4.027682      16.222222   \n",
       "\n",
       "        day__root_mean_square  day__maximum  day__minimum  \\\n",
       "125045              16.532796          24.0           3.0   \n",
       "125046              18.856917          27.0           4.0   \n",
       "125047               3.000000           3.0           3.0   \n",
       "125048              19.353177          31.0           1.0   \n",
       "125049              23.021729          28.0          17.0   \n",
       "\n",
       "        day_of_week__sum_values  day_of_week__median  day_of_week__mean  \\\n",
       "125045                     22.0                  3.0           3.666667   \n",
       "125046                     40.0                  3.5           3.333333   \n",
       "125047                      3.0                  3.0           3.000000   \n",
       "125048                     85.0                  3.0           2.575758   \n",
       "125049                     21.0                  3.0           3.500000   \n",
       "\n",
       "        day_of_week__length  day_of_week__standard_deviation  \\\n",
       "125045                  6.0                         1.795055   \n",
       "125046                 12.0                         2.094968   \n",
       "125047                  1.0                         0.000000   \n",
       "125048                 33.0                         2.074817   \n",
       "125049                  6.0                         1.892969   \n",
       "\n",
       "        day_of_week__variance  day_of_week__root_mean_square  \\\n",
       "125045               3.222222                       4.082483   \n",
       "125046               4.388889                       3.937004   \n",
       "125047               0.000000                       3.000000   \n",
       "125048               4.304867                       3.307475   \n",
       "125049               3.583333                       3.979112   \n",
       "\n",
       "        day_of_week__maximum  day_of_week__minimum  day_of_year__sum_values  \\\n",
       "125045                   6.0                   2.0                    872.0   \n",
       "125046                   6.0                   0.0                   3371.0   \n",
       "125047                   3.0                   3.0                    154.0   \n",
       "125048                   6.0                   0.0                   7476.0   \n",
       "125049                   6.0                   1.0                    136.0   \n",
       "\n",
       "        day_of_year__median  day_of_year__mean  day_of_year__length  \\\n",
       "125045                110.5         145.333333                  6.0   \n",
       "125046                309.0         280.916667                 12.0   \n",
       "125047                154.0         154.000000                  1.0   \n",
       "125048                228.0         226.545455                 33.0   \n",
       "125049                 22.5          22.666667                  6.0   \n",
       "\n",
       "        day_of_year__standard_deviation  day_of_year__variance  \\\n",
       "125045                        86.536441            7488.555556   \n",
       "125046                        67.683649            4581.076389   \n",
       "125047                         0.000000               0.000000   \n",
       "125048                        95.667699            9152.308540   \n",
       "125049                         4.027682              16.222222   \n",
       "\n",
       "        day_of_year__root_mean_square  day_of_year__maximum  \\\n",
       "125045                     169.145894                 328.0   \n",
       "125046                     288.955446                 345.0   \n",
       "125047                     154.000000                 154.0   \n",
       "125048                     245.916961                 362.0   \n",
       "125049                      23.021729                  28.0   \n",
       "\n",
       "        day_of_year__minimum  month__sum_values  month__median  month__mean  \\\n",
       "125045                  62.0               32.0            4.0     5.333333   \n",
       "125046                 166.0              116.0           10.5     9.666667   \n",
       "125047                 154.0                6.0            6.0     6.000000   \n",
       "125048                  32.0              261.0            8.0     7.909091   \n",
       "125049                  17.0                6.0            1.0     1.000000   \n",
       "\n",
       "        month__length  month__standard_deviation  month__variance  \\\n",
       "125045            6.0                   2.687419         7.222222   \n",
       "125046           12.0                   2.211083         4.888889   \n",
       "125047            1.0                   0.000000         0.000000   \n",
       "125048           33.0                   3.088234         9.537190   \n",
       "125049            6.0                   0.000000         0.000000   \n",
       "\n",
       "        month__root_mean_square  month__maximum  month__minimum  \\\n",
       "125045                 5.972158            11.0             3.0   \n",
       "125046                 9.916317            12.0             6.0   \n",
       "125047                 6.000000             6.0             6.0   \n",
       "125048                 8.490637            12.0             2.0   \n",
       "125049                 1.000000             1.0             1.0   \n",
       "\n",
       "        serv_amuont_perone__sum_values  serv_amuont_perone__median  \\\n",
       "125045                     8562.000000                 1365.000000   \n",
       "125046                    15183.439394                 1300.000000   \n",
       "125047                      882.500000                  882.500000   \n",
       "125048                    47492.128864                 1300.000000   \n",
       "125049                     5518.494286                  778.843333   \n",
       "\n",
       "        serv_amuont_perone__mean  serv_amuont_perone__length  \\\n",
       "125045               1427.000000                         6.0   \n",
       "125046               1265.286616                        12.0   \n",
       "125047                882.500000                         1.0   \n",
       "125048               1439.155420                        33.0   \n",
       "125049                919.749048                         6.0   \n",
       "\n",
       "        serv_amuont_perone__standard_deviation  serv_amuont_perone__variance  \\\n",
       "125045                              710.566675                 504905.000000   \n",
       "125046                              596.667826                 356012.494546   \n",
       "125047                                0.000000                      0.000000   \n",
       "125048                              709.372258                 503209.000894   \n",
       "125049                              459.536477                 211173.773776   \n",
       "\n",
       "        serv_amuont_perone__root_mean_square  serv_amuont_perone__maximum  \\\n",
       "125045                           1594.124838                  2500.000000   \n",
       "125046                           1398.914835                  2300.000000   \n",
       "125047                            882.500000                   882.500000   \n",
       "125048                           1604.486623                  3500.000000   \n",
       "125049                           1028.159562                  1724.714286   \n",
       "\n",
       "        serv_amuont_perone__minimum  \n",
       "125045                   380.000000  \n",
       "125046                   385.000000  \n",
       "125047                   882.500000  \n",
       "125048                   338.888889  \n",
       "125049                   274.933333  "
      ]
     },
     "execution_count": 46,
     "metadata": {},
     "output_type": "execute_result"
    }
   ],
   "source": [
    "df_extracted_features.head()"
   ]
  },
  {
   "cell_type": "code",
   "execution_count": 47,
   "id": "942bd98c-1768-4c32-8404-680cd6eca88e",
   "metadata": {},
   "outputs": [
    {
     "data": {
      "text/plain": [
       "(131270, 63)"
      ]
     },
     "execution_count": 47,
     "metadata": {},
     "output_type": "execute_result"
    }
   ],
   "source": [
    "df_extracted_features.shape"
   ]
  },
  {
   "cell_type": "code",
   "execution_count": 48,
   "id": "d10aa222-389d-47a0-81c8-ad6a7904dacc",
   "metadata": {},
   "outputs": [
    {
     "name": "stderr",
     "output_type": "stream",
     "text": [
      "Indexing with multiple keys (implicitly converted to a tuple of keys) will be deprecated, use a list instead.\n"
     ]
    }
   ],
   "source": [
    "# К полученному набору данных добавим целевой признак , пол и возраст\n",
    "df_extracted_features = df_extracted_features.merge(df.groupby('insured')['label', 'sex_id', 'age_for_service_date'].first(), right_index=True, left_index=True)"
   ]
  },
  {
   "cell_type": "code",
   "execution_count": 49,
   "id": "4a1c248c-6102-4ebf-b122-23cc60a9b0c3",
   "metadata": {},
   "outputs": [
    {
     "data": {
      "text/html": [
       "<div>\n",
       "<style scoped>\n",
       "    .dataframe tbody tr th:only-of-type {\n",
       "        vertical-align: middle;\n",
       "    }\n",
       "\n",
       "    .dataframe tbody tr th {\n",
       "        vertical-align: top;\n",
       "    }\n",
       "\n",
       "    .dataframe thead th {\n",
       "        text-align: right;\n",
       "    }\n",
       "</style>\n",
       "<table border=\"1\" class=\"dataframe\">\n",
       "  <thead>\n",
       "    <tr style=\"text-align: right;\">\n",
       "      <th></th>\n",
       "      <th>serv_count__sum_values</th>\n",
       "      <th>serv_count__median</th>\n",
       "      <th>serv_count__mean</th>\n",
       "      <th>serv_count__length</th>\n",
       "      <th>serv_count__standard_deviation</th>\n",
       "      <th>serv_count__variance</th>\n",
       "      <th>serv_count__root_mean_square</th>\n",
       "      <th>serv_count__maximum</th>\n",
       "      <th>serv_count__minimum</th>\n",
       "      <th>serv_amount__sum_values</th>\n",
       "      <th>serv_amount__median</th>\n",
       "      <th>serv_amount__mean</th>\n",
       "      <th>serv_amount__length</th>\n",
       "      <th>serv_amount__standard_deviation</th>\n",
       "      <th>serv_amount__variance</th>\n",
       "      <th>serv_amount__root_mean_square</th>\n",
       "      <th>serv_amount__maximum</th>\n",
       "      <th>serv_amount__minimum</th>\n",
       "      <th>day__sum_values</th>\n",
       "      <th>day__median</th>\n",
       "      <th>day__mean</th>\n",
       "      <th>day__length</th>\n",
       "      <th>day__standard_deviation</th>\n",
       "      <th>day__variance</th>\n",
       "      <th>day__root_mean_square</th>\n",
       "      <th>day__maximum</th>\n",
       "      <th>day__minimum</th>\n",
       "      <th>day_of_week__sum_values</th>\n",
       "      <th>day_of_week__median</th>\n",
       "      <th>day_of_week__mean</th>\n",
       "      <th>day_of_week__length</th>\n",
       "      <th>day_of_week__standard_deviation</th>\n",
       "      <th>day_of_week__variance</th>\n",
       "      <th>day_of_week__root_mean_square</th>\n",
       "      <th>day_of_week__maximum</th>\n",
       "      <th>day_of_week__minimum</th>\n",
       "      <th>day_of_year__sum_values</th>\n",
       "      <th>day_of_year__median</th>\n",
       "      <th>day_of_year__mean</th>\n",
       "      <th>day_of_year__length</th>\n",
       "      <th>day_of_year__standard_deviation</th>\n",
       "      <th>day_of_year__variance</th>\n",
       "      <th>day_of_year__root_mean_square</th>\n",
       "      <th>day_of_year__maximum</th>\n",
       "      <th>day_of_year__minimum</th>\n",
       "      <th>month__sum_values</th>\n",
       "      <th>month__median</th>\n",
       "      <th>month__mean</th>\n",
       "      <th>month__length</th>\n",
       "      <th>month__standard_deviation</th>\n",
       "      <th>month__variance</th>\n",
       "      <th>month__root_mean_square</th>\n",
       "      <th>month__maximum</th>\n",
       "      <th>month__minimum</th>\n",
       "      <th>serv_amuont_perone__sum_values</th>\n",
       "      <th>serv_amuont_perone__median</th>\n",
       "      <th>serv_amuont_perone__mean</th>\n",
       "      <th>serv_amuont_perone__length</th>\n",
       "      <th>serv_amuont_perone__standard_deviation</th>\n",
       "      <th>serv_amuont_perone__variance</th>\n",
       "      <th>serv_amuont_perone__root_mean_square</th>\n",
       "      <th>serv_amuont_perone__maximum</th>\n",
       "      <th>serv_amuont_perone__minimum</th>\n",
       "      <th>label</th>\n",
       "      <th>sex_id</th>\n",
       "      <th>age_for_service_date</th>\n",
       "    </tr>\n",
       "  </thead>\n",
       "  <tbody>\n",
       "    <tr>\n",
       "      <th>125045</th>\n",
       "      <td>12.0</td>\n",
       "      <td>1.5</td>\n",
       "      <td>2.000000</td>\n",
       "      <td>6.0</td>\n",
       "      <td>1.414214</td>\n",
       "      <td>2.000000</td>\n",
       "      <td>2.449490</td>\n",
       "      <td>5.0</td>\n",
       "      <td>1.0</td>\n",
       "      <td>15350.00</td>\n",
       "      <td>2380.0</td>\n",
       "      <td>2558.333333</td>\n",
       "      <td>6.0</td>\n",
       "      <td>1410.773035</td>\n",
       "      <td>1.990281e+06</td>\n",
       "      <td>2921.532132</td>\n",
       "      <td>4510.0</td>\n",
       "      <td>380.00</td>\n",
       "      <td>88.0</td>\n",
       "      <td>14.5</td>\n",
       "      <td>14.666667</td>\n",
       "      <td>6.0</td>\n",
       "      <td>7.630349</td>\n",
       "      <td>58.222222</td>\n",
       "      <td>16.532796</td>\n",
       "      <td>24.0</td>\n",
       "      <td>3.0</td>\n",
       "      <td>22.0</td>\n",
       "      <td>3.0</td>\n",
       "      <td>3.666667</td>\n",
       "      <td>6.0</td>\n",
       "      <td>1.795055</td>\n",
       "      <td>3.222222</td>\n",
       "      <td>4.082483</td>\n",
       "      <td>6.0</td>\n",
       "      <td>2.0</td>\n",
       "      <td>872.0</td>\n",
       "      <td>110.5</td>\n",
       "      <td>145.333333</td>\n",
       "      <td>6.0</td>\n",
       "      <td>86.536441</td>\n",
       "      <td>7488.555556</td>\n",
       "      <td>169.145894</td>\n",
       "      <td>328.0</td>\n",
       "      <td>62.0</td>\n",
       "      <td>32.0</td>\n",
       "      <td>4.0</td>\n",
       "      <td>5.333333</td>\n",
       "      <td>6.0</td>\n",
       "      <td>2.687419</td>\n",
       "      <td>7.222222</td>\n",
       "      <td>5.972158</td>\n",
       "      <td>11.0</td>\n",
       "      <td>3.0</td>\n",
       "      <td>8562.000000</td>\n",
       "      <td>1365.000000</td>\n",
       "      <td>1427.000000</td>\n",
       "      <td>6.0</td>\n",
       "      <td>710.566675</td>\n",
       "      <td>504905.000000</td>\n",
       "      <td>1594.124838</td>\n",
       "      <td>2500.000000</td>\n",
       "      <td>380.000000</td>\n",
       "      <td>1</td>\n",
       "      <td>1.0</td>\n",
       "      <td>6</td>\n",
       "    </tr>\n",
       "    <tr>\n",
       "      <th>125046</th>\n",
       "      <td>43.0</td>\n",
       "      <td>2.5</td>\n",
       "      <td>3.583333</td>\n",
       "      <td>12.0</td>\n",
       "      <td>2.899952</td>\n",
       "      <td>8.409722</td>\n",
       "      <td>4.609772</td>\n",
       "      <td>11.0</td>\n",
       "      <td>1.0</td>\n",
       "      <td>44840.00</td>\n",
       "      <td>2510.0</td>\n",
       "      <td>3736.666667</td>\n",
       "      <td>12.0</td>\n",
       "      <td>3266.079029</td>\n",
       "      <td>1.066727e+07</td>\n",
       "      <td>4962.857040</td>\n",
       "      <td>13390.0</td>\n",
       "      <td>1300.00</td>\n",
       "      <td>215.0</td>\n",
       "      <td>18.0</td>\n",
       "      <td>17.916667</td>\n",
       "      <td>12.0</td>\n",
       "      <td>5.880169</td>\n",
       "      <td>34.576389</td>\n",
       "      <td>18.856917</td>\n",
       "      <td>27.0</td>\n",
       "      <td>4.0</td>\n",
       "      <td>40.0</td>\n",
       "      <td>3.5</td>\n",
       "      <td>3.333333</td>\n",
       "      <td>12.0</td>\n",
       "      <td>2.094968</td>\n",
       "      <td>4.388889</td>\n",
       "      <td>3.937004</td>\n",
       "      <td>6.0</td>\n",
       "      <td>0.0</td>\n",
       "      <td>3371.0</td>\n",
       "      <td>309.0</td>\n",
       "      <td>280.916667</td>\n",
       "      <td>12.0</td>\n",
       "      <td>67.683649</td>\n",
       "      <td>4581.076389</td>\n",
       "      <td>288.955446</td>\n",
       "      <td>345.0</td>\n",
       "      <td>166.0</td>\n",
       "      <td>116.0</td>\n",
       "      <td>10.5</td>\n",
       "      <td>9.666667</td>\n",
       "      <td>12.0</td>\n",
       "      <td>2.211083</td>\n",
       "      <td>4.888889</td>\n",
       "      <td>9.916317</td>\n",
       "      <td>12.0</td>\n",
       "      <td>6.0</td>\n",
       "      <td>15183.439394</td>\n",
       "      <td>1300.000000</td>\n",
       "      <td>1265.286616</td>\n",
       "      <td>12.0</td>\n",
       "      <td>596.667826</td>\n",
       "      <td>356012.494546</td>\n",
       "      <td>1398.914835</td>\n",
       "      <td>2300.000000</td>\n",
       "      <td>385.000000</td>\n",
       "      <td>0</td>\n",
       "      <td>2.0</td>\n",
       "      <td>28</td>\n",
       "    </tr>\n",
       "    <tr>\n",
       "      <th>125047</th>\n",
       "      <td>8.0</td>\n",
       "      <td>8.0</td>\n",
       "      <td>8.000000</td>\n",
       "      <td>1.0</td>\n",
       "      <td>0.000000</td>\n",
       "      <td>0.000000</td>\n",
       "      <td>8.000000</td>\n",
       "      <td>8.0</td>\n",
       "      <td>8.0</td>\n",
       "      <td>7060.00</td>\n",
       "      <td>7060.0</td>\n",
       "      <td>7060.000000</td>\n",
       "      <td>1.0</td>\n",
       "      <td>0.000000</td>\n",
       "      <td>0.000000e+00</td>\n",
       "      <td>7060.000000</td>\n",
       "      <td>7060.0</td>\n",
       "      <td>7060.00</td>\n",
       "      <td>3.0</td>\n",
       "      <td>3.0</td>\n",
       "      <td>3.000000</td>\n",
       "      <td>1.0</td>\n",
       "      <td>0.000000</td>\n",
       "      <td>0.000000</td>\n",
       "      <td>3.000000</td>\n",
       "      <td>3.0</td>\n",
       "      <td>3.0</td>\n",
       "      <td>3.0</td>\n",
       "      <td>3.0</td>\n",
       "      <td>3.000000</td>\n",
       "      <td>1.0</td>\n",
       "      <td>0.000000</td>\n",
       "      <td>0.000000</td>\n",
       "      <td>3.000000</td>\n",
       "      <td>3.0</td>\n",
       "      <td>3.0</td>\n",
       "      <td>154.0</td>\n",
       "      <td>154.0</td>\n",
       "      <td>154.000000</td>\n",
       "      <td>1.0</td>\n",
       "      <td>0.000000</td>\n",
       "      <td>0.000000</td>\n",
       "      <td>154.000000</td>\n",
       "      <td>154.0</td>\n",
       "      <td>154.0</td>\n",
       "      <td>6.0</td>\n",
       "      <td>6.0</td>\n",
       "      <td>6.000000</td>\n",
       "      <td>1.0</td>\n",
       "      <td>0.000000</td>\n",
       "      <td>0.000000</td>\n",
       "      <td>6.000000</td>\n",
       "      <td>6.0</td>\n",
       "      <td>6.0</td>\n",
       "      <td>882.500000</td>\n",
       "      <td>882.500000</td>\n",
       "      <td>882.500000</td>\n",
       "      <td>1.0</td>\n",
       "      <td>0.000000</td>\n",
       "      <td>0.000000</td>\n",
       "      <td>882.500000</td>\n",
       "      <td>882.500000</td>\n",
       "      <td>882.500000</td>\n",
       "      <td>0</td>\n",
       "      <td>2.0</td>\n",
       "      <td>53</td>\n",
       "    </tr>\n",
       "    <tr>\n",
       "      <th>125048</th>\n",
       "      <td>119.0</td>\n",
       "      <td>2.0</td>\n",
       "      <td>3.606061</td>\n",
       "      <td>33.0</td>\n",
       "      <td>4.022206</td>\n",
       "      <td>16.178145</td>\n",
       "      <td>5.402020</td>\n",
       "      <td>19.0</td>\n",
       "      <td>1.0</td>\n",
       "      <td>136710.00</td>\n",
       "      <td>2840.0</td>\n",
       "      <td>4142.727273</td>\n",
       "      <td>33.0</td>\n",
       "      <td>4231.730266</td>\n",
       "      <td>1.790754e+07</td>\n",
       "      <td>5921.970137</td>\n",
       "      <td>23230.0</td>\n",
       "      <td>660.00</td>\n",
       "      <td>570.0</td>\n",
       "      <td>19.0</td>\n",
       "      <td>17.272727</td>\n",
       "      <td>33.0</td>\n",
       "      <td>8.729166</td>\n",
       "      <td>76.198347</td>\n",
       "      <td>19.353177</td>\n",
       "      <td>31.0</td>\n",
       "      <td>1.0</td>\n",
       "      <td>85.0</td>\n",
       "      <td>3.0</td>\n",
       "      <td>2.575758</td>\n",
       "      <td>33.0</td>\n",
       "      <td>2.074817</td>\n",
       "      <td>4.304867</td>\n",
       "      <td>3.307475</td>\n",
       "      <td>6.0</td>\n",
       "      <td>0.0</td>\n",
       "      <td>7476.0</td>\n",
       "      <td>228.0</td>\n",
       "      <td>226.545455</td>\n",
       "      <td>33.0</td>\n",
       "      <td>95.667699</td>\n",
       "      <td>9152.308540</td>\n",
       "      <td>245.916961</td>\n",
       "      <td>362.0</td>\n",
       "      <td>32.0</td>\n",
       "      <td>261.0</td>\n",
       "      <td>8.0</td>\n",
       "      <td>7.909091</td>\n",
       "      <td>33.0</td>\n",
       "      <td>3.088234</td>\n",
       "      <td>9.537190</td>\n",
       "      <td>8.490637</td>\n",
       "      <td>12.0</td>\n",
       "      <td>2.0</td>\n",
       "      <td>47492.128864</td>\n",
       "      <td>1300.000000</td>\n",
       "      <td>1439.155420</td>\n",
       "      <td>33.0</td>\n",
       "      <td>709.372258</td>\n",
       "      <td>503209.000894</td>\n",
       "      <td>1604.486623</td>\n",
       "      <td>3500.000000</td>\n",
       "      <td>338.888889</td>\n",
       "      <td>1</td>\n",
       "      <td>1.0</td>\n",
       "      <td>17</td>\n",
       "    </tr>\n",
       "    <tr>\n",
       "      <th>125049</th>\n",
       "      <td>21.0</td>\n",
       "      <td>2.5</td>\n",
       "      <td>3.500000</td>\n",
       "      <td>6.0</td>\n",
       "      <td>2.217356</td>\n",
       "      <td>4.916667</td>\n",
       "      <td>4.143268</td>\n",
       "      <td>7.0</td>\n",
       "      <td>1.0</td>\n",
       "      <td>20301.92</td>\n",
       "      <td>1581.7</td>\n",
       "      <td>3383.653333</td>\n",
       "      <td>6.0</td>\n",
       "      <td>3903.064475</td>\n",
       "      <td>1.523391e+07</td>\n",
       "      <td>5165.561168</td>\n",
       "      <td>12073.0</td>\n",
       "      <td>1259.16</td>\n",
       "      <td>136.0</td>\n",
       "      <td>22.5</td>\n",
       "      <td>22.666667</td>\n",
       "      <td>6.0</td>\n",
       "      <td>4.027682</td>\n",
       "      <td>16.222222</td>\n",
       "      <td>23.021729</td>\n",
       "      <td>28.0</td>\n",
       "      <td>17.0</td>\n",
       "      <td>21.0</td>\n",
       "      <td>3.0</td>\n",
       "      <td>3.500000</td>\n",
       "      <td>6.0</td>\n",
       "      <td>1.892969</td>\n",
       "      <td>3.583333</td>\n",
       "      <td>3.979112</td>\n",
       "      <td>6.0</td>\n",
       "      <td>1.0</td>\n",
       "      <td>136.0</td>\n",
       "      <td>22.5</td>\n",
       "      <td>22.666667</td>\n",
       "      <td>6.0</td>\n",
       "      <td>4.027682</td>\n",
       "      <td>16.222222</td>\n",
       "      <td>23.021729</td>\n",
       "      <td>28.0</td>\n",
       "      <td>17.0</td>\n",
       "      <td>6.0</td>\n",
       "      <td>1.0</td>\n",
       "      <td>1.000000</td>\n",
       "      <td>6.0</td>\n",
       "      <td>0.000000</td>\n",
       "      <td>0.000000</td>\n",
       "      <td>1.000000</td>\n",
       "      <td>1.0</td>\n",
       "      <td>1.0</td>\n",
       "      <td>5518.494286</td>\n",
       "      <td>778.843333</td>\n",
       "      <td>919.749048</td>\n",
       "      <td>6.0</td>\n",
       "      <td>459.536477</td>\n",
       "      <td>211173.773776</td>\n",
       "      <td>1028.159562</td>\n",
       "      <td>1724.714286</td>\n",
       "      <td>274.933333</td>\n",
       "      <td>0</td>\n",
       "      <td>1.0</td>\n",
       "      <td>1</td>\n",
       "    </tr>\n",
       "  </tbody>\n",
       "</table>\n",
       "</div>"
      ],
      "text/plain": [
       "        serv_count__sum_values  serv_count__median  serv_count__mean  \\\n",
       "125045                    12.0                 1.5          2.000000   \n",
       "125046                    43.0                 2.5          3.583333   \n",
       "125047                     8.0                 8.0          8.000000   \n",
       "125048                   119.0                 2.0          3.606061   \n",
       "125049                    21.0                 2.5          3.500000   \n",
       "\n",
       "        serv_count__length  serv_count__standard_deviation  \\\n",
       "125045                 6.0                        1.414214   \n",
       "125046                12.0                        2.899952   \n",
       "125047                 1.0                        0.000000   \n",
       "125048                33.0                        4.022206   \n",
       "125049                 6.0                        2.217356   \n",
       "\n",
       "        serv_count__variance  serv_count__root_mean_square  \\\n",
       "125045              2.000000                      2.449490   \n",
       "125046              8.409722                      4.609772   \n",
       "125047              0.000000                      8.000000   \n",
       "125048             16.178145                      5.402020   \n",
       "125049              4.916667                      4.143268   \n",
       "\n",
       "        serv_count__maximum  serv_count__minimum  serv_amount__sum_values  \\\n",
       "125045                  5.0                  1.0                 15350.00   \n",
       "125046                 11.0                  1.0                 44840.00   \n",
       "125047                  8.0                  8.0                  7060.00   \n",
       "125048                 19.0                  1.0                136710.00   \n",
       "125049                  7.0                  1.0                 20301.92   \n",
       "\n",
       "        serv_amount__median  serv_amount__mean  serv_amount__length  \\\n",
       "125045               2380.0        2558.333333                  6.0   \n",
       "125046               2510.0        3736.666667                 12.0   \n",
       "125047               7060.0        7060.000000                  1.0   \n",
       "125048               2840.0        4142.727273                 33.0   \n",
       "125049               1581.7        3383.653333                  6.0   \n",
       "\n",
       "        serv_amount__standard_deviation  serv_amount__variance  \\\n",
       "125045                      1410.773035           1.990281e+06   \n",
       "125046                      3266.079029           1.066727e+07   \n",
       "125047                         0.000000           0.000000e+00   \n",
       "125048                      4231.730266           1.790754e+07   \n",
       "125049                      3903.064475           1.523391e+07   \n",
       "\n",
       "        serv_amount__root_mean_square  serv_amount__maximum  \\\n",
       "125045                    2921.532132                4510.0   \n",
       "125046                    4962.857040               13390.0   \n",
       "125047                    7060.000000                7060.0   \n",
       "125048                    5921.970137               23230.0   \n",
       "125049                    5165.561168               12073.0   \n",
       "\n",
       "        serv_amount__minimum  day__sum_values  day__median  day__mean  \\\n",
       "125045                380.00             88.0         14.5  14.666667   \n",
       "125046               1300.00            215.0         18.0  17.916667   \n",
       "125047               7060.00              3.0          3.0   3.000000   \n",
       "125048                660.00            570.0         19.0  17.272727   \n",
       "125049               1259.16            136.0         22.5  22.666667   \n",
       "\n",
       "        day__length  day__standard_deviation  day__variance  \\\n",
       "125045          6.0                 7.630349      58.222222   \n",
       "125046         12.0                 5.880169      34.576389   \n",
       "125047          1.0                 0.000000       0.000000   \n",
       "125048         33.0                 8.729166      76.198347   \n",
       "125049          6.0                 4.027682      16.222222   \n",
       "\n",
       "        day__root_mean_square  day__maximum  day__minimum  \\\n",
       "125045              16.532796          24.0           3.0   \n",
       "125046              18.856917          27.0           4.0   \n",
       "125047               3.000000           3.0           3.0   \n",
       "125048              19.353177          31.0           1.0   \n",
       "125049              23.021729          28.0          17.0   \n",
       "\n",
       "        day_of_week__sum_values  day_of_week__median  day_of_week__mean  \\\n",
       "125045                     22.0                  3.0           3.666667   \n",
       "125046                     40.0                  3.5           3.333333   \n",
       "125047                      3.0                  3.0           3.000000   \n",
       "125048                     85.0                  3.0           2.575758   \n",
       "125049                     21.0                  3.0           3.500000   \n",
       "\n",
       "        day_of_week__length  day_of_week__standard_deviation  \\\n",
       "125045                  6.0                         1.795055   \n",
       "125046                 12.0                         2.094968   \n",
       "125047                  1.0                         0.000000   \n",
       "125048                 33.0                         2.074817   \n",
       "125049                  6.0                         1.892969   \n",
       "\n",
       "        day_of_week__variance  day_of_week__root_mean_square  \\\n",
       "125045               3.222222                       4.082483   \n",
       "125046               4.388889                       3.937004   \n",
       "125047               0.000000                       3.000000   \n",
       "125048               4.304867                       3.307475   \n",
       "125049               3.583333                       3.979112   \n",
       "\n",
       "        day_of_week__maximum  day_of_week__minimum  day_of_year__sum_values  \\\n",
       "125045                   6.0                   2.0                    872.0   \n",
       "125046                   6.0                   0.0                   3371.0   \n",
       "125047                   3.0                   3.0                    154.0   \n",
       "125048                   6.0                   0.0                   7476.0   \n",
       "125049                   6.0                   1.0                    136.0   \n",
       "\n",
       "        day_of_year__median  day_of_year__mean  day_of_year__length  \\\n",
       "125045                110.5         145.333333                  6.0   \n",
       "125046                309.0         280.916667                 12.0   \n",
       "125047                154.0         154.000000                  1.0   \n",
       "125048                228.0         226.545455                 33.0   \n",
       "125049                 22.5          22.666667                  6.0   \n",
       "\n",
       "        day_of_year__standard_deviation  day_of_year__variance  \\\n",
       "125045                        86.536441            7488.555556   \n",
       "125046                        67.683649            4581.076389   \n",
       "125047                         0.000000               0.000000   \n",
       "125048                        95.667699            9152.308540   \n",
       "125049                         4.027682              16.222222   \n",
       "\n",
       "        day_of_year__root_mean_square  day_of_year__maximum  \\\n",
       "125045                     169.145894                 328.0   \n",
       "125046                     288.955446                 345.0   \n",
       "125047                     154.000000                 154.0   \n",
       "125048                     245.916961                 362.0   \n",
       "125049                      23.021729                  28.0   \n",
       "\n",
       "        day_of_year__minimum  month__sum_values  month__median  month__mean  \\\n",
       "125045                  62.0               32.0            4.0     5.333333   \n",
       "125046                 166.0              116.0           10.5     9.666667   \n",
       "125047                 154.0                6.0            6.0     6.000000   \n",
       "125048                  32.0              261.0            8.0     7.909091   \n",
       "125049                  17.0                6.0            1.0     1.000000   \n",
       "\n",
       "        month__length  month__standard_deviation  month__variance  \\\n",
       "125045            6.0                   2.687419         7.222222   \n",
       "125046           12.0                   2.211083         4.888889   \n",
       "125047            1.0                   0.000000         0.000000   \n",
       "125048           33.0                   3.088234         9.537190   \n",
       "125049            6.0                   0.000000         0.000000   \n",
       "\n",
       "        month__root_mean_square  month__maximum  month__minimum  \\\n",
       "125045                 5.972158            11.0             3.0   \n",
       "125046                 9.916317            12.0             6.0   \n",
       "125047                 6.000000             6.0             6.0   \n",
       "125048                 8.490637            12.0             2.0   \n",
       "125049                 1.000000             1.0             1.0   \n",
       "\n",
       "        serv_amuont_perone__sum_values  serv_amuont_perone__median  \\\n",
       "125045                     8562.000000                 1365.000000   \n",
       "125046                    15183.439394                 1300.000000   \n",
       "125047                      882.500000                  882.500000   \n",
       "125048                    47492.128864                 1300.000000   \n",
       "125049                     5518.494286                  778.843333   \n",
       "\n",
       "        serv_amuont_perone__mean  serv_amuont_perone__length  \\\n",
       "125045               1427.000000                         6.0   \n",
       "125046               1265.286616                        12.0   \n",
       "125047                882.500000                         1.0   \n",
       "125048               1439.155420                        33.0   \n",
       "125049                919.749048                         6.0   \n",
       "\n",
       "        serv_amuont_perone__standard_deviation  serv_amuont_perone__variance  \\\n",
       "125045                              710.566675                 504905.000000   \n",
       "125046                              596.667826                 356012.494546   \n",
       "125047                                0.000000                      0.000000   \n",
       "125048                              709.372258                 503209.000894   \n",
       "125049                              459.536477                 211173.773776   \n",
       "\n",
       "        serv_amuont_perone__root_mean_square  serv_amuont_perone__maximum  \\\n",
       "125045                           1594.124838                  2500.000000   \n",
       "125046                           1398.914835                  2300.000000   \n",
       "125047                            882.500000                   882.500000   \n",
       "125048                           1604.486623                  3500.000000   \n",
       "125049                           1028.159562                  1724.714286   \n",
       "\n",
       "        serv_amuont_perone__minimum  label  sex_id  age_for_service_date  \n",
       "125045                   380.000000      1     1.0                     6  \n",
       "125046                   385.000000      0     2.0                    28  \n",
       "125047                   882.500000      0     2.0                    53  \n",
       "125048                   338.888889      1     1.0                    17  \n",
       "125049                   274.933333      0     1.0                     1  "
      ]
     },
     "execution_count": 49,
     "metadata": {},
     "output_type": "execute_result"
    }
   ],
   "source": [
    "df_extracted_features.head()"
   ]
  },
  {
   "cell_type": "code",
   "execution_count": 50,
   "id": "c4ec7b9a-438f-4724-8847-97cd79713d26",
   "metadata": {},
   "outputs": [
    {
     "data": {
      "image/png": "[encoded data removed]",
      "text/plain": [
       "<Figure size 432x288 with 1 Axes>"
      ]
     },
     "metadata": {
      "needs_background": "light"
     },
     "output_type": "display_data"
    }
   ],
   "source": [
    "df_extracted_features['label'].hist(bins=2);"
   ]
  },
  {
   "cell_type": "code",
   "execution_count": 51,
   "id": "a082907a-cc7b-48eb-9a96-6fb62e9295ce",
   "metadata": {},
   "outputs": [
    {
     "data": {
      "text/plain": [
       "(131270, 66)"
      ]
     },
     "execution_count": 51,
     "metadata": {},
     "output_type": "execute_result"
    }
   ],
   "source": [
    "df_extracted_features.shape"
   ]
  },
  {
   "cell_type": "markdown",
   "id": "8e0a0a7c-d60f-465d-9e28-095e275f651c",
   "metadata": {},
   "source": [
    "#### 2.3.1 Формирование признаков \n",
    "\n",
    "1. Сформируем признак со случайными значениями для последующей оценки важности признаков.\n",
    "2. Сформируем признак с прогнозируемым днём следующего обращения(Последний день + средний период обращений)."
   ]
  },
  {
   "cell_type": "code",
   "execution_count": 52,
   "id": "cabb00a8-4bb5-4a14-a2c1-322a6a30a218",
   "metadata": {},
   "outputs": [],
   "source": [
    "# Добавим случайный признак для последующего анализа важности признаков\n",
    "df_extracted_features['random'] = np.random.rand(df_extracted_features.shape[0])"
   ]
  },
  {
   "cell_type": "code",
   "execution_count": 53,
   "id": "6f736d8f-2411-47ac-a9ac-e05efb4b2de8",
   "metadata": {},
   "outputs": [],
   "source": [
    "# \n",
    "df_extracted_features['prognoz_day'] = ((df_extracted_features['day_of_year__maximum'] - df_extracted_features['day_of_year__minimum'])\n",
    "                                        /(df_extracted_features['day_of_year__length'] - 1) + df_extracted_features['day_of_year__maximum'])\n"
   ]
  },
  {
   "cell_type": "markdown",
   "id": "418a0a77-ab33-4bba-b5cb-4442339db056",
   "metadata": {},
   "source": [
    "**Вывод**\n",
    "\n",
    "Набор данных для обучения модели сформирован."
   ]
  },
  {
   "cell_type": "markdown",
   "id": "0c6cc183-7c16-4121-8b8a-e39858471434",
   "metadata": {},
   "source": [
    "### 2.4 Подготовка выборок для обучения модели\n",
    "\n",
    "Разделим датасет на три выборки:\n",
    "- Обучающую - 60%\n",
    "- Валидационную - 20%\n",
    "- Тестовую -20%"
   ]
  },
  {
   "cell_type": "code",
   "execution_count": 54,
   "id": "99bdb610-5054-420c-9715-e50b2d5d65b7",
   "metadata": {},
   "outputs": [],
   "source": [
    "# Выделим признаки и целевой признак\n",
    "X = df_extracted_features.drop(['label'], axis=1)\n",
    "y = df_extracted_features['label']"
   ]
  },
  {
   "cell_type": "code",
   "execution_count": 55,
   "id": "15592007-6157-4c62-985c-0a5e6a004bed",
   "metadata": {},
   "outputs": [],
   "source": [
    "# Разделим данные на выборки\n",
    "X_train, X_vt, y_train, y_vt = train_test_split(X, y, test_size=0.4, random_state=SEED)\n",
    "X_valid, X_test, y_valid, y_test = train_test_split(X_vt, y_vt, test_size=0.5, random_state=SEED)\n"
   ]
  },
  {
   "cell_type": "code",
   "execution_count": 56,
   "id": "4020f9a4-34e4-4dbf-9d04-1b4c1cc82c94",
   "metadata": {},
   "outputs": [
    {
     "data": {
      "text/html": [
       "<div>\n",
       "<style scoped>\n",
       "    .dataframe tbody tr th:only-of-type {\n",
       "        vertical-align: middle;\n",
       "    }\n",
       "\n",
       "    .dataframe tbody tr th {\n",
       "        vertical-align: top;\n",
       "    }\n",
       "\n",
       "    .dataframe thead th {\n",
       "        text-align: right;\n",
       "    }\n",
       "</style>\n",
       "<table border=\"1\" class=\"dataframe\">\n",
       "  <thead>\n",
       "    <tr style=\"text-align: right;\">\n",
       "      <th></th>\n",
       "      <th>X_train</th>\n",
       "      <th>y_train</th>\n",
       "      <th>X_test</th>\n",
       "      <th>y_test</th>\n",
       "    </tr>\n",
       "  </thead>\n",
       "  <tbody>\n",
       "    <tr>\n",
       "      <th>0</th>\n",
       "      <td>78762</td>\n",
       "      <td>78762</td>\n",
       "      <td>26254</td>\n",
       "      <td>26254</td>\n",
       "    </tr>\n",
       "  </tbody>\n",
       "</table>\n",
       "</div>"
      ],
      "text/plain": [
       "   X_train  y_train  X_test  y_test\n",
       "0    78762    78762   26254   26254"
      ]
     },
     "execution_count": 56,
     "metadata": {},
     "output_type": "execute_result"
    }
   ],
   "source": [
    "# Проверим размеры выборок\n",
    "pd.DataFrame({'X_train':X_train.shape[0],\n",
    "              'y_train':y_train.shape,\n",
    "              'X_test':X_test.shape[0],\n",
    "              'y_test':y_test.shape\n",
    "})"
   ]
  },
  {
   "cell_type": "markdown",
   "id": "68791c59-1d37-4bfa-acac-9f5f39509c20",
   "metadata": {},
   "source": [
    "**Вывод:** Выборки сформированы."
   ]
  },
  {
   "cell_type": "markdown",
   "id": "078e8cf5-58c9-4d3e-ab3a-de32a28d7ff5",
   "metadata": {},
   "source": [
    "**Вывод по разделу**\n",
    "\n",
    "Произведена предобработка данных, выделены дополнительные признаки и целевой признак. Сформирован набор данных для обучения модели и подготовлены выборки\n",
    "\n"
   ]
  },
  {
   "cell_type": "markdown",
   "id": "1385434f-49e2-4cea-a7e4-9bda904b95da",
   "metadata": {},
   "source": [
    "## 3. Обучение моделей\n",
    "\n",
    "1. Обучим модель CatBoostClassifier и LGBMClassifier, определим важность признаков для каждой из них и определимся с их набором для дальнейшей работы.\n",
    "2. Обучим несколько моделей с подбором гиперпараметров\n",
    "3. Выберем лучшую модель и протестируем её на отложенной тестовой выборке, а также проверим её работу на адекватность.\n",
    "\n",
    "Так как присутствует сильный дисбалланс классов в целевой переменной? в дальнейшей работе в качестве метрики качества модели будем использовать ROC-AUC. Данная метрика отражает как точность, так и полноту классификации."
   ]
  },
  {
   "cell_type": "markdown",
   "id": "34f51c78-fe59-4840-a0cf-f708d25ba5c0",
   "metadata": {},
   "source": [
    "### 3.1 Обучение моделей и оценка важности признаков"
   ]
  },
  {
   "cell_type": "markdown",
   "id": "602585f0-fef0-420c-992f-9ac3d4a843fa",
   "metadata": {},
   "source": [
    "#### 3.1.1 CatBoostClassifier"
   ]
  },
  {
   "cell_type": "code",
   "execution_count": 57,
   "id": "265dc995-2d98-4e11-9738-627ba3543526",
   "metadata": {
    "scrolled": true,
    "tags": []
   },
   "outputs": [
    {
     "name": "stdout",
     "output_type": "stream",
     "text": [
      "Learning rate set to 0.066475\n",
      "0:\tlearn: 0.6651353\ttotal: 198ms\tremaining: 3m 17s\n",
      "100:\tlearn: 0.4689794\ttotal: 2.23s\tremaining: 19.9s\n",
      "200:\tlearn: 0.4503235\ttotal: 4.25s\tremaining: 16.9s\n",
      "300:\tlearn: 0.4300860\ttotal: 6.2s\tremaining: 14.4s\n",
      "400:\tlearn: 0.4107914\ttotal: 8.07s\tremaining: 12.1s\n",
      "500:\tlearn: 0.3944399\ttotal: 9.98s\tremaining: 9.94s\n",
      "600:\tlearn: 0.3794779\ttotal: 11.9s\tremaining: 7.88s\n",
      "700:\tlearn: 0.3650920\ttotal: 13.7s\tremaining: 5.84s\n",
      "800:\tlearn: 0.3513701\ttotal: 15.6s\tremaining: 3.87s\n",
      "900:\tlearn: 0.3387662\ttotal: 17.5s\tremaining: 1.92s\n",
      "999:\tlearn: 0.3269516\ttotal: 19.6s\tremaining: 0us\n"
     ]
    },
    {
     "data": {
      "text/plain": [
       "<catboost.core.CatBoostClassifier at 0x26052aaae20>"
      ]
     },
     "execution_count": 57,
     "metadata": {},
     "output_type": "execute_result"
    }
   ],
   "source": [
    "cat_clf = CatBoostClassifier(verbose=100,\n",
    "                             auto_class_weights='Balanced',\n",
    "                             random_state=5555\n",
    "                            )\n",
    "\n",
    "cat_clf.fit(X_train, y_train)#, cat_features=['sex_id__minimum', 'age_for_service_date__maximum'])"
   ]
  },
  {
   "cell_type": "code",
   "execution_count": 58,
   "id": "1240cf7d-fb29-49c1-9676-33ad3058f09c",
   "metadata": {},
   "outputs": [
    {
     "data": {
      "text/plain": [
       "0.7525757438512949"
      ]
     },
     "execution_count": 58,
     "metadata": {},
     "output_type": "execute_result"
    }
   ],
   "source": [
    "predict = cat_clf.predict(X_valid)\n",
    "roc_auc_score(y_valid, predict)"
   ]
  },
  {
   "cell_type": "code",
   "execution_count": 59,
   "id": "b440094a-e00c-4021-9634-f88143326851",
   "metadata": {},
   "outputs": [
    {
     "data": {
      "text/plain": [
       "0.7887559990858536"
      ]
     },
     "execution_count": 59,
     "metadata": {},
     "output_type": "execute_result"
    }
   ],
   "source": [
    "accuracy_score(y_valid, predict)"
   ]
  },
  {
   "cell_type": "code",
   "execution_count": 60,
   "id": "f1d87fcf-3343-40a8-b6bb-7b7edef34666",
   "metadata": {},
   "outputs": [
    {
     "data": {
      "image/png": "[encoded data removed]",
      "text/plain": [
       "<Figure size 720x1440 with 1 Axes>"
      ]
     },
     "metadata": {
      "needs_background": "light"
     },
     "output_type": "display_data"
    }
   ],
   "source": [
    "# Выделим признаки\n",
    "efectiv_score = pd.DataFrame(data={'score': cat_clf.feature_importances_}, \n",
    "                            index=X.columns).sort_values(by='score')\n",
    "# Выведем их на экран\n",
    "ax = efectiv_score.plot(kind='barh', grid=True, figsize=(10,20), legend=False)\n",
    "ax.set_title(\"Важность признаков\", fontsize=16)\n",
    "ax.set_ylabel(\"признаки\")\n",
    "ax.set_xlabel(\"score\")\n",
    "plt.show;"
   ]
  },
  {
   "cell_type": "markdown",
   "id": "52668d81-62d8-4d00-aae7-4e11e6807901",
   "metadata": {},
   "source": [
    "**Вывод** \n",
    "1. Модель CatBoostClassifier без подбора гиперпараметров показывает качество AUC-ROC=0.74 и accuracy=0.78.\n",
    "2. Оценка важности признаков говорит нам о том, что, по сути, только два признака эффективны: `day_of_year__maximum`, `age_for_service_date__maximum`. Значимость остальных признаков - ниже уровня случайного признака."
   ]
  },
  {
   "cell_type": "markdown",
   "id": "1aadc404-e437-4a04-a109-1f6a43a7e017",
   "metadata": {},
   "source": [
    "#### 3.1.2 LGBMClassifier"
   ]
  },
  {
   "cell_type": "code",
   "execution_count": 61,
   "id": "0493939c-2697-418e-991f-504213d59725",
   "metadata": {},
   "outputs": [
    {
     "data": {
      "text/plain": [
       "LGBMClassifier(class_weight='balanced')"
      ]
     },
     "execution_count": 61,
     "metadata": {},
     "output_type": "execute_result"
    }
   ],
   "source": [
    "lgbm_clf = LGBMClassifier(class_weight='balanced')\n",
    "lgbm_clf.fit(X_train, y_train)"
   ]
  },
  {
   "cell_type": "code",
   "execution_count": 62,
   "id": "8fc02a57-a25b-43d7-9575-b43a561eed18",
   "metadata": {},
   "outputs": [
    {
     "data": {
      "text/plain": [
       "0.7663202147713892"
      ]
     },
     "execution_count": 62,
     "metadata": {},
     "output_type": "execute_result"
    }
   ],
   "source": [
    "predict = lgbm_clf.predict(X_valid)\n",
    "roc_auc_score(y_valid, predict)"
   ]
  },
  {
   "cell_type": "code",
   "execution_count": 63,
   "id": "7db4193e-e282-4b26-aca7-381ba9ee5869",
   "metadata": {},
   "outputs": [
    {
     "data": {
      "text/plain": [
       "0.7497905081130495"
      ]
     },
     "execution_count": 63,
     "metadata": {},
     "output_type": "execute_result"
    }
   ],
   "source": [
    "accuracy_score(y_valid, predict)"
   ]
  },
  {
   "cell_type": "code",
   "execution_count": 64,
   "id": "d1ae4ded-11bb-42f6-8e8d-11ac99fdc4bc",
   "metadata": {},
   "outputs": [
    {
     "data": {
      "image/png": "[encoded data removed]",
      "text/plain": [
       "<Figure size 720x1440 with 1 Axes>"
      ]
     },
     "metadata": {
      "needs_background": "light"
     },
     "output_type": "display_data"
    }
   ],
   "source": [
    "# Выделим признаки\n",
    "efectiv_score = pd.DataFrame(data={'score': lgbm_clf.feature_importances_}, \n",
    "                            index=X.columns).sort_values(by='score')\n",
    "# Выведем их на экран\n",
    "ax = efectiv_score.plot(kind='barh', grid=True, figsize=(10,20), legend=False)\n",
    "ax.set_title(\"Важность признаков\", fontsize=16)\n",
    "ax.set_ylabel(\"признаки\")\n",
    "ax.set_xlabel(\"score\")\n",
    "plt.show;"
   ]
  },
  {
   "cell_type": "markdown",
   "id": "6d8fe886-5138-4516-a158-98f8066761c8",
   "metadata": {},
   "source": [
    "**Вывод:** \n",
    "1. Модель LGBMClassifier без подбора гиперпараметров показывает качество AUC-ROC=0.76 и accuracy=0.75.\n",
    "2. Оценка важности признаков даёт результат, аналогичный модели CatBoost."
   ]
  },
  {
   "cell_type": "markdown",
   "id": "f5d438cc-87b7-4cfe-9d20-c49c8106b101",
   "metadata": {},
   "source": [
    "#### 3.1.3 Окончательный выбор признаков\n",
    "\n",
    "1. Признаки по значимости выше случайного для обоих моделей одинаковые.\n",
    "2. Возмём по три признака ниже случайного из каждой модели и построим для них корреляционую матрицу.\n",
    "3. Удалим признаки с высокой взаимной корреляцией"
   ]
  },
  {
   "cell_type": "code",
   "execution_count": 65,
   "id": "c74c5e4d-5705-4376-9dd2-3d4525cc4078",
   "metadata": {},
   "outputs": [
    {
     "data": {
      "image/png": "[encoded data removed]",
      "text/plain": [
       "<Figure size 432x288 with 2 Axes>"
      ]
     },
     "metadata": {
      "needs_background": "light"
     },
     "output_type": "display_data"
    }
   ],
   "source": [
    "\n",
    "sns.heatmap(df_extracted_features[['day_of_year__maximum',\n",
    "                                  'age_for_service_date',\n",
    "                                  'serv_amuont_perone__median',\n",
    "                                  'prognoz_day',\n",
    "                                  'serv_amount__minimum',\n",
    "                                  'day_of_year__median',\n",
    "                                  'serv_amuont_perone__maximum',\n",
    "                                  'label'\n",
    "]].corr(), annot=True);"
   ]
  },
  {
   "cell_type": "markdown",
   "id": "ee9c5cd2-02a1-439c-961c-4ad9ac9d9d8a",
   "metadata": {},
   "source": [
    "**Вывод:** Признаки `day_of_year__maximum`,`prognoz_day` и `day_of_year__median` имеют высокую корреляцию. Из них оставим только `day_of_year__maximum`.\n",
    "\n",
    "Итого набор признаков:\n",
    "- `day_of_year__maximum`\n",
    "- `age_for_service_date`\n",
    "- `serv_amuont_perone__median`\n",
    "- `serv_amount__minimum`\n",
    "- `serv_amuont_perone__maximum`"
   ]
  },
  {
   "cell_type": "code",
   "execution_count": 66,
   "id": "09b28e09-039c-4e15-9e1c-aec98e5ce680",
   "metadata": {},
   "outputs": [],
   "source": [
    "# Список признаков для дальнейшего обучения\n",
    "best_features = ['day_of_year__maximum',\n",
    "                 'age_for_service_date',\n",
    "                 'serv_amuont_perone__median',\n",
    "                 'serv_amount__minimum',\n",
    "                 'serv_amuont_perone__maximum'\n",
    "]\n",
    "# Отредактируем выборки\n",
    "X_train = X_train[best_features]\n",
    "X_valid = X_valid[best_features]\n",
    "X_test = X_test[best_features]"
   ]
  },
  {
   "cell_type": "markdown",
   "id": "e0c02e32-fcca-4048-805e-d3463af649cd",
   "metadata": {},
   "source": [
    "**Вывод**\n",
    "Для последующей работы с моделями машинного обучения целесообразно взять признаки которые показывают важность выше чем случайный признак. Также, в связи с небольшим количеством выбраных признаков, возьмём в работу и два признака ниже рандома. Это `serv_amunt_perone__minimum` и ``\n"
   ]
  },
  {
   "cell_type": "markdown",
   "id": "b2c4e082-74be-4935-a8d1-169254bab867",
   "metadata": {},
   "source": [
    "### 3.2 Обучение моделей с подбором гиперпараметров\n",
    "Для удобства создадим две функции:\n",
    "1. Функцию возвращающую среднее значение метрики качества по результатам кросвалидации.\n",
    "2. Функцию производящую подбор гиперпараметров и возвращающую метрику качества и гиперпараметры полученные на лучшей модели."
   ]
  },
  {
   "cell_type": "code",
   "execution_count": 67,
   "id": "5b657887-9b73-4bef-85b7-29cb98bc7067",
   "metadata": {},
   "outputs": [],
   "source": [
    "def get_quality(model, features_train=pd.concat([X_train, X_valid]), target_train=pd.concat([y_train, y_valid])):\n",
    "    \"\"\" Принимаем модель и признаки,\n",
    "        возвращаем ROC-AUC\n",
    "    \"\"\"\n",
    "           \n",
    "    return round(cross_val_score(model, features_train, target_train, n_jobs=-1, scoring='roc_auc').mean(), 3)"
   ]
  },
  {
   "cell_type": "code",
   "execution_count": 68,
   "id": "d68324ad-92b4-45f2-8cc6-db074ea2cfbb",
   "metadata": {},
   "outputs": [],
   "source": [
    "def get_params_cv(model, parametrs, features_train=pd.concat([X_train, X_valid]), target_train=pd.concat([y_train, y_valid])):\n",
    "    \"\"\" Принимаем модель параметры для поиска параметров и признаки,\n",
    "        возвращаем ROC-AUC и лучшие гиперпараметры\n",
    "    \"\"\"\n",
    "    rs = RandomizedSearchCV(model, \n",
    "                            parametrs, \n",
    "                            scoring='roc_auc', \n",
    "                            cv=5,\n",
    "                            random_state = SEED,\n",
    "                            n_jobs=-1\n",
    "                           )\n",
    "    rs.fit(features_train, target_train)\n",
    "    return round(rs.best_score_, 3), rs.best_params_"
   ]
  },
  {
   "cell_type": "markdown",
   "id": "8dcc36f8-bcc8-4912-9c03-9b321f4964d4",
   "metadata": {},
   "source": [
    "#### 3.2.1 CatBoostClassifier"
   ]
  },
  {
   "cell_type": "code",
   "execution_count": 69,
   "id": "d3f0573b-e137-4052-84dc-a1afa44dc572",
   "metadata": {},
   "outputs": [],
   "source": [
    "cat_clf = CatBoostClassifier(verbose=100,\n",
    "                             auto_class_weights='Balanced',\n",
    "                             random_state=SEED\n",
    "                            )"
   ]
  },
  {
   "cell_type": "code",
   "execution_count": 70,
   "id": "79fbcf46-d191-40d0-8107-29aac9854214",
   "metadata": {},
   "outputs": [
    {
     "data": {
      "text/plain": [
       "0.837"
      ]
     },
     "execution_count": 70,
     "metadata": {},
     "output_type": "execute_result"
    }
   ],
   "source": [
    "get_quality(cat_clf)"
   ]
  },
  {
   "cell_type": "code",
   "execution_count": 71,
   "id": "ff1f35f3-4032-4c7f-84ad-e68b50ae934d",
   "metadata": {},
   "outputs": [
    {
     "name": "stdout",
     "output_type": "stream",
     "text": [
      "0:\tlearn: 0.6574050\ttotal: 8.37ms\tremaining: 8.36s\n",
      "100:\tlearn: 0.4896572\ttotal: 927ms\tremaining: 8.25s\n",
      "200:\tlearn: 0.4833607\ttotal: 1.8s\tremaining: 7.18s\n",
      "300:\tlearn: 0.4793840\ttotal: 2.67s\tremaining: 6.19s\n",
      "400:\tlearn: 0.4761649\ttotal: 3.52s\tremaining: 5.25s\n",
      "500:\tlearn: 0.4730874\ttotal: 4.35s\tremaining: 4.33s\n",
      "600:\tlearn: 0.4702494\ttotal: 5.16s\tremaining: 3.42s\n",
      "700:\tlearn: 0.4677457\ttotal: 5.95s\tremaining: 2.54s\n",
      "800:\tlearn: 0.4655364\ttotal: 6.83s\tremaining: 1.7s\n",
      "900:\tlearn: 0.4631671\ttotal: 7.67s\tremaining: 842ms\n",
      "999:\tlearn: 0.4611917\ttotal: 8.46s\tremaining: 0us\n",
      "CPU times: total: 59.4 s\n",
      "Wall time: 8min 37s\n"
     ]
    },
    {
     "data": {
      "text/plain": [
       "(0.841, {'learning_rate': 0.1, 'l2_leaf_reg': 18, 'depth': 3})"
      ]
     },
     "execution_count": 71,
     "metadata": {},
     "output_type": "execute_result"
    }
   ],
   "source": [
    "%%time\n",
    "params = {'l2_leaf_reg': range(10, 31),\n",
    "          'learning_rate': [0.001, 0.005, 0.01, 0.02, 0.05, 0.1, 0.2, 0.3, 0.5],\n",
    "          'depth' : range(3, 9)\n",
    "}\n",
    "\n",
    "get_params_cv(cat_clf, params)"
   ]
  },
  {
   "cell_type": "markdown",
   "id": "c5c249b9-30f8-4aa9-a984-83d7fb92d61b",
   "metadata": {},
   "source": [
    "**Вывод:** На кросвалидации получили метрику качества = 0.838. После подбора гиперпараметров качество улучшилось не значительно = 0.841."
   ]
  },
  {
   "cell_type": "markdown",
   "id": "eb4f2de3-af50-48ca-aec7-aa4c46d5c47e",
   "metadata": {},
   "source": [
    "#### 3.2.2 LGBMClassifier"
   ]
  },
  {
   "cell_type": "code",
   "execution_count": 72,
   "id": "8ee2f7de-b75a-4ff2-9729-4c303cba4060",
   "metadata": {},
   "outputs": [
    {
     "data": {
      "text/plain": [
       "0.84"
      ]
     },
     "execution_count": 72,
     "metadata": {},
     "output_type": "execute_result"
    }
   ],
   "source": [
    "lgbm_clf = LGBMClassifier(class_weight='balanced', random_state=SEED)\n",
    "get_quality(lgbm_clf)"
   ]
  },
  {
   "cell_type": "code",
   "execution_count": 73,
   "id": "a5831ad2-453b-44c5-be13-41ca3b4d4b5b",
   "metadata": {},
   "outputs": [
    {
     "name": "stdout",
     "output_type": "stream",
     "text": [
      "CPU times: total: 5.38 s\n",
      "Wall time: 25.9 s\n"
     ]
    },
    {
     "data": {
      "text/plain": [
       "(0.841,\n",
       " {'num_leaves': 30,\n",
       "  'n_estimators': 200,\n",
       "  'max_depth': 56,\n",
       "  'learning_rate': 0.02})"
      ]
     },
     "execution_count": 73,
     "metadata": {},
     "output_type": "execute_result"
    }
   ],
   "source": [
    "%%time\n",
    "params = { 'n_estimators': range(200, 401, 10),\n",
    "           'learning_rate': [0.003, 0.005, 0.008, 0.01, 0.02, 0.03, 0.05, 0.07, 0.1, 0.2, 0.5],\n",
    "           'max_depth': range(20,70),\n",
    "           'num_leaves': range(30,80),\n",
    "}\n",
    "\n",
    "get_params_cv(lgbm_clf, params)"
   ]
  },
  {
   "cell_type": "markdown",
   "id": "b25f8e18-8dee-4a9a-b39e-f895f0aff7fb",
   "metadata": {},
   "source": [
    "**Вывод:** На кросвалидации получили метрику качества = 0.84. Подбор гиперпараметров не значительно улучшил качество модели = 0.841."
   ]
  },
  {
   "cell_type": "markdown",
   "id": "c75502e3-3031-4dda-8a7e-4ab4dbc1cc74",
   "metadata": {},
   "source": [
    "### 3.2.3 LogicticRegression\n",
    "\n",
    "Перед обучением логистической регрессии произведём стандартизацию признаков"
   ]
  },
  {
   "cell_type": "code",
   "execution_count": 74,
   "id": "ddded3f9-cc1f-453b-8591-fee7b3f27d17",
   "metadata": {},
   "outputs": [
    {
     "data": {
      "text/plain": [
       "0.833"
      ]
     },
     "execution_count": 74,
     "metadata": {},
     "output_type": "execute_result"
    }
   ],
   "source": [
    "# Стандартизируем признаки перед обучением линейной модели\n",
    "scaller = StandardScaler()\n",
    "X_train_stand = scaller.fit_transform(pd.concat([X_train, X_valid]))\n",
    "lr_clf = LogisticRegression()\n",
    "get_quality(lr_clf, X_train_stand)"
   ]
  },
  {
   "cell_type": "code",
   "execution_count": 75,
   "id": "e1e0a180-f0a7-440d-84bb-6a729ea4e577",
   "metadata": {},
   "outputs": [
    {
     "name": "stdout",
     "output_type": "stream",
     "text": [
      "CPU times: total: 1.17 s\n",
      "Wall time: 1.92 s\n"
     ]
    },
    {
     "data": {
      "text/plain": [
       "(0.833, {'C': 3})"
      ]
     },
     "execution_count": 75,
     "metadata": {},
     "output_type": "execute_result"
    }
   ],
   "source": [
    "%%time\n",
    "params = {'C':[2,3,4,5,7,10,15,20,40,50]}\n",
    "\n",
    "get_params_cv(lr_clf, params, X_train_stand)"
   ]
  },
  {
   "cell_type": "markdown",
   "id": "90f1d54e-99ee-456b-b0ea-fea774e537fd",
   "metadata": {},
   "source": [
    "**Вывод:** Логистическая регрессия даёт качество не сильно хуже чем тяжёлые модели. Подбор кожффициента регуляризации не приводит к улучшению качества."
   ]
  },
  {
   "cell_type": "markdown",
   "id": "46bd999b-b57a-4297-9fb2-3ccf1e0dfffa",
   "metadata": {},
   "source": [
    "### 3.2.4 RandomForestClassifier"
   ]
  },
  {
   "cell_type": "code",
   "execution_count": 76,
   "id": "03076809-464f-4e9b-af36-aa8182a933f3",
   "metadata": {},
   "outputs": [
    {
     "data": {
      "text/plain": [
       "0.817"
      ]
     },
     "execution_count": 76,
     "metadata": {},
     "output_type": "execute_result"
    }
   ],
   "source": [
    "rf_clf=RandomForestClassifier(random_state=SEED)\n",
    "get_quality(rf_clf)"
   ]
  },
  {
   "cell_type": "code",
   "execution_count": 77,
   "id": "4d49c12d-c636-44c4-883a-ba7eb371261f",
   "metadata": {},
   "outputs": [
    {
     "name": "stdout",
     "output_type": "stream",
     "text": [
      "CPU times: total: 25.2 s\n",
      "Wall time: 3min 59s\n"
     ]
    },
    {
     "data": {
      "text/plain": [
       "(0.84, {'n_estimators': 290, 'max_depth': 10})"
      ]
     },
     "execution_count": 77,
     "metadata": {},
     "output_type": "execute_result"
    }
   ],
   "source": [
    "%%time\n",
    "params = { 'n_estimators': range (80, 301, 10),\n",
    "              'max_depth': range (10,21,2)}\n",
    "\n",
    "get_params_cv(rf_clf, params)"
   ]
  },
  {
   "cell_type": "markdown",
   "id": "9335e252-82de-4af3-b53b-dd804f667e6f",
   "metadata": {},
   "source": [
    "**Вывод:** Случайный лес тоже показывает качество на уровне бустингов."
   ]
  },
  {
   "cell_type": "markdown",
   "id": "582186a6-3e58-4abd-9ba3-62ecbabc4433",
   "metadata": {},
   "source": [
    "**Вывод по разделу**\n",
    "\n",
    "Все рассмотренные модели машинного обучения показывают примерно одинаковое качество ROC-AUC=0.84. А значит выбор модели целесообразно произвести по времени работы модели. Быстрее остальных работает линейная модель. Медленнее, но немного качественнее работает модель LightGBM. Поэтому, если вычислительных мощьностей достаточно - следует выбрать LightGBM. Если Необходимо экономить ресурсы - следует выбрать линейную модель. Она по качеству лишь немного хуже.\n"
   ]
  },
  {
   "cell_type": "markdown",
   "id": "d948ce5d-c116-417b-b432-83fd9fe0618a",
   "metadata": {},
   "source": [
    "## 4. Проверка модели\n",
    "\n",
    "1. Проверим работу модели на тестовой выборке.\n",
    "2. Оценим важность признаков с помощью библиотеки `Shape`.\n",
    "3. Проверим работу модели на адекватность.\n",
    "4. Сохраним результат работы модели на тестовой выборке."
   ]
  },
  {
   "cell_type": "markdown",
   "id": "196369f5-c6ed-4e87-b9c5-b4e83e11fa7e",
   "metadata": {},
   "source": [
    "### 4.1 Проверка работы модели на тестовой выборке"
   ]
  },
  {
   "cell_type": "code",
   "execution_count": 78,
   "id": "71f4af84-1f82-44b0-8ac9-c7ec78268193",
   "metadata": {},
   "outputs": [
    {
     "data": {
      "text/plain": [
       "LGBMClassifier(class_weight='balanced', learning_rate=0.02, max_depth=32,\n",
       "               n_estimators=220, num_leaves=36, random_state=5555)"
      ]
     },
     "execution_count": 78,
     "metadata": {},
     "output_type": "execute_result"
    }
   ],
   "source": [
    "lgbm_clf = LGBMClassifier(num_leaves=36,\n",
    "                          n_estimators=220,\n",
    "                          max_depth=32,\n",
    "                          learning_rate=0.02,\n",
    "                          class_weight='balanced',\n",
    "                          random_state=SEED\n",
    ")\n",
    "lgbm_clf.fit(pd.concat([X_train, X_valid]),\n",
    "             pd.concat([y_train, y_valid])\n",
    ")"
   ]
  },
  {
   "cell_type": "code",
   "execution_count": 79,
   "id": "34f5e152-5575-42b1-92c0-615ee30a2386",
   "metadata": {},
   "outputs": [
    {
     "data": {
      "text/plain": [
       "0.7664097959841534"
      ]
     },
     "execution_count": 79,
     "metadata": {},
     "output_type": "execute_result"
    }
   ],
   "source": [
    "predict = lgbm_clf.predict(X_test)\n",
    "roc_auc_score(y_test, predict)"
   ]
  },
  {
   "cell_type": "code",
   "execution_count": 80,
   "id": "60201b44-9ec6-4872-b974-8b166a899b9b",
   "metadata": {},
   "outputs": [],
   "source": [
    "def plt_roc_curve(clf, features, target):\n",
    "    \"\"\"Процедура строит roc-кривую и расчитывает метрику auc-roc\"\"\"\n",
    "    # Расчёт вероятности классификации\n",
    "    probabilities_test = clf.predict_proba(features)\n",
    "    probabilities_one_test = probabilities_test[:, 1]\n",
    "    # Получаем данные для построения графика\n",
    "    fpr, tpr, thresholds = roc_curve(target, probabilities_one_test) \n",
    "    # Выводим кривую auc-roc\n",
    "    plt.figure()\n",
    "    plt.plot(fpr, tpr, label='Model')\n",
    "    # ROC-кривая случайной модели\n",
    "    plt.plot([0, 1], [0, 1], linestyle='--', label='Random')\n",
    "    plt.xlim([0,1]) \n",
    "    plt.ylim([0,1])\n",
    "    plt.xlabel(\"False Positive Rate\")\n",
    "    plt.ylabel(\"True Positive Rate\")\n",
    "    plt.title(\"ROC-кривая\")\n",
    "    plt.legend(fontsize=12)\n",
    "    plt.show()\n",
    "    # Расчёт метрики auc_roc\n",
    "    print('auc_roc =', roc_auc_score(target, clf.predict(features)))    "
   ]
  },
  {
   "cell_type": "code",
   "execution_count": 81,
   "id": "7f06d588-d8ca-4181-89bc-7e854b6c8869",
   "metadata": {},
   "outputs": [
    {
     "data": {
      "image/png": "[encoded data removed]",
      "text/plain": [
       "<Figure size 432x288 with 1 Axes>"
      ]
     },
     "metadata": {
      "needs_background": "light"
     },
     "output_type": "display_data"
    },
    {
     "name": "stdout",
     "output_type": "stream",
     "text": [
      "auc_roc = 0.7664097959841534\n"
     ]
    }
   ],
   "source": [
    "plt_roc_curve(lgbm_clf, X_test, y_test)"
   ]
  },
  {
   "cell_type": "markdown",
   "id": "f81b51b3-f575-4d80-8d9a-8c989675518d",
   "metadata": {},
   "source": [
    "**Вывод:** На тестовой выборке выбранная модель показывает качество хуже чем при перекрёстной проверке примерно на 10%. Думаю, это приемлемый результат. "
   ]
  },
  {
   "cell_type": "markdown",
   "id": "50d5035f-d6c5-4dee-a68b-6b412e4b5ce4",
   "metadata": {},
   "source": [
    "### 4.2 Проверка важности признаков"
   ]
  },
  {
   "cell_type": "code",
   "execution_count": 82,
   "id": "b0ca228a-49f9-49e0-8285-b68b693ea17d",
   "metadata": {},
   "outputs": [
    {
     "name": "stderr",
     "output_type": "stream",
     "text": [
      "LightGBM binary classifier with TreeExplainer shap values output has changed to a list of ndarray\n",
      "auto_size_plot=False is deprecated and is now ignored! Use plot_size=None instead.\n"
     ]
    },
    {
     "data": {
      "image/png": "[encoded data removed]",
      "text/plain": [
       "<Figure size 576x252 with 1 Axes>"
      ]
     },
     "metadata": {
      "needs_background": "light"
     },
     "output_type": "display_data"
    }
   ],
   "source": [
    "shap_test = shap.TreeExplainer(lgbm_clf).shap_values(X_train)\n",
    "shap.summary_plot(shap_test, X_train, max_display=20, auto_size_plot=True)"
   ]
  },
  {
   "cell_type": "markdown",
   "id": "6c1db6d4-a8da-4dc8-b926-84c7182755a8",
   "metadata": {},
   "source": [
    "**Вывод:** В целом картина та же что и при проверке важности при выборе признаков. Если-бы стояла задача максимально облегчить модель - можно было-бы оставить один признак \"максимальный день обращения в году\"."
   ]
  },
  {
   "cell_type": "markdown",
   "id": "8488f39f-c723-4ad4-a9e4-1b6b5cb4b886",
   "metadata": {},
   "source": [
    "## 4.3 Проверка работы модели на адекватность\n",
    "\n",
    "Сравним работу модели с работой фиктивной модели."
   ]
  },
  {
   "cell_type": "code",
   "execution_count": 83,
   "id": "5abacb06-1a23-49ac-96cf-0ba52eb7c21d",
   "metadata": {},
   "outputs": [
    {
     "data": {
      "text/plain": [
       "0.5"
      ]
     },
     "execution_count": 83,
     "metadata": {},
     "output_type": "execute_result"
    }
   ],
   "source": [
    "dummy_model = DummyClassifier(strategy='most_frequent')\n",
    "dummy_model.fit(pd.concat([X_train, X_valid]),\n",
    "                pd.concat([y_train, y_valid])\n",
    ")\n",
    "dummy_predict = dummy_model.predict(X_test)\n",
    "roc_auc_score(y_test, dummy_predict)"
   ]
  },
  {
   "cell_type": "markdown",
   "id": "58c16f2f-9ffb-47e3-818a-4a3c378b8655",
   "metadata": {},
   "source": [
    "**Вывод:** ROC-AUC фиктивной модели = 0.5 - наша модель явно лучше!"
   ]
  },
  {
   "cell_type": "markdown",
   "id": "629d3dec-cb74-46a4-b0bb-451eb13c9c0f",
   "metadata": {},
   "source": [
    "### 4.4 Сохранение результатов\n",
    "\n",
    "В сохраняемом файле будут содержаться:\n",
    "- `id` - ид застрахованного\n",
    "- `label` - предсказанные значения целевого признака\n",
    "- `true_label` - истинными значения целевого признака"
   ]
  },
  {
   "cell_type": "code",
   "execution_count": 84,
   "id": "677ab6a1-8846-4135-9dc7-6186f29e7089",
   "metadata": {},
   "outputs": [
    {
     "data": {
      "text/html": [
       "<div>\n",
       "<style scoped>\n",
       "    .dataframe tbody tr th:only-of-type {\n",
       "        vertical-align: middle;\n",
       "    }\n",
       "\n",
       "    .dataframe tbody tr th {\n",
       "        vertical-align: top;\n",
       "    }\n",
       "\n",
       "    .dataframe thead th {\n",
       "        text-align: right;\n",
       "    }\n",
       "</style>\n",
       "<table border=\"1\" class=\"dataframe\">\n",
       "  <thead>\n",
       "    <tr style=\"text-align: right;\">\n",
       "      <th></th>\n",
       "      <th>id</th>\n",
       "      <th>label</th>\n",
       "      <th>true_label</th>\n",
       "    </tr>\n",
       "  </thead>\n",
       "  <tbody>\n",
       "    <tr>\n",
       "      <th>297861</th>\n",
       "      <td>297861</td>\n",
       "      <td>0</td>\n",
       "      <td>0</td>\n",
       "    </tr>\n",
       "    <tr>\n",
       "      <th>411682</th>\n",
       "      <td>411682</td>\n",
       "      <td>1</td>\n",
       "      <td>0</td>\n",
       "    </tr>\n",
       "    <tr>\n",
       "      <th>154691</th>\n",
       "      <td>154691</td>\n",
       "      <td>1</td>\n",
       "      <td>0</td>\n",
       "    </tr>\n",
       "    <tr>\n",
       "      <th>256718</th>\n",
       "      <td>256718</td>\n",
       "      <td>0</td>\n",
       "      <td>0</td>\n",
       "    </tr>\n",
       "    <tr>\n",
       "      <th>544420</th>\n",
       "      <td>544420</td>\n",
       "      <td>0</td>\n",
       "      <td>0</td>\n",
       "    </tr>\n",
       "  </tbody>\n",
       "</table>\n",
       "</div>"
      ],
      "text/plain": [
       "            id  label  true_label\n",
       "297861  297861      0           0\n",
       "411682  411682      1           0\n",
       "154691  154691      1           0\n",
       "256718  256718      0           0\n",
       "544420  544420      0           0"
      ]
     },
     "execution_count": 84,
     "metadata": {},
     "output_type": "execute_result"
    }
   ],
   "source": [
    "df_submission = pd.DataFrame({'id': X_test.index,\n",
    "                               'label': predict,\n",
    "                               'true_label':y_test\n",
    "                             })\n",
    "df_submission.head()"
   ]
  },
  {
   "cell_type": "code",
   "execution_count": 85,
   "id": "8f255fb1-1f7e-4170-a8d9-700735034c2f",
   "metadata": {},
   "outputs": [],
   "source": [
    "df_submission.to_csv(\"Test_task_submission.csv\", index=False)"
   ]
  },
  {
   "cell_type": "markdown",
   "id": "fe02f804-abaa-4b2d-8732-9ce90a5eb337",
   "metadata": {},
   "source": [
    "**Вывод:** Результаты работы модели на тестовой выборке сохранены."
   ]
  },
  {
   "cell_type": "markdown",
   "id": "dfe2a307-bf97-493b-9083-cb9c909b10ce",
   "metadata": {},
   "source": [
    "**Вывод по разделу**\n",
    "\n",
    "1. Работа модели проверена на тестовой выборке. Считаю что результат вполне удовлетворительный. Метрика ROC-AUC = 0.77. Что на 0.27 лучше, чем показывает фиктивная модель. \n",
    "2. Важность признаков, в целом, коррелирует с предыдущими выводами. \n",
    "3. Результаты работы модели на тестовой выборке сохранены."
   ]
  },
  {
   "cell_type": "markdown",
   "id": "d7a15165-444c-4ccd-9333-b16edc9d5239",
   "metadata": {},
   "source": [
    "# Общий вывод\n",
    "\n"
   ]
  },
  {
   "cell_type": "markdown",
   "id": "bc202fe8-e00f-4bf1-a407-278db8a5330a",
   "metadata": {},
   "source": [
    "1. На этапе Анализа данных произвели загрузку данных и их анализ. Выяснили проблемные вопросы и наметили пути их решения. Так-же возник ряд вопросов, которые  стоило-бы задать владельцу данных или лицу ответственному за сбор датасета.\n",
    "2. На этапе подготовки данных была произведена их предобработка, выделение дополнительных признаков и формирование целевого признака. Далее, из начального набора данных был сформирован датасет с извлечёнными признаками в результате группировки по ИД застрахованного. И в итоге, финальный набор данных был разделён на выборки: обучающую, валидационную и тестовую.\n",
    "3. На этапе обучения модели, сначала были обучены две модели с анализом важности признаков. По итогу анализа важности признаков, для дальнейшего обучения моделей, были выбраны только пять признаков. Далее, были обучены несколько моделей, произведён подбор гиперпараметров к ним. Все модели показали примерно равное качество на перекрёстной проверке. По точности и скорости работы, предлагается выбрать модель LigtGBMClassifier.\n",
    "4. На этапе проверки модели, была произведена проверка её работы на тестовой выборке, с результатом ROC-AUC=0.77, что на 0.27 лучше случайной и константной модели. Произведена оценка важности признаков. Из пяти выбраных признаков, наибольший вклад вности признак \"максимальный день обращения в году\". Получается, что пол, возраст, стоимость и количество оказанных услуг влияют на решение очень слабо, а день, когда клиент обращался последний раз играет решающее значение.\n",
    "5. Думаю, что с представленными данными качество модели сильно увеличить не удастся. Для дальнейшего увеличения качества модели необходимо добавление в датасет дополнительных данных. Например данных о болезнях застрахованных, причинах их обращений за медицинской помощью, принимаемых ими препаратах и т.д."
   ]
  }
 ],
 "metadata": {
  "kernelspec": {
   "display_name": "Python 3 (ipykernel)",
   "language": "python",
   "name": "python3"
  },
  "language_info": {
   "codemirror_mode": {
    "name": "ipython",
    "version": 3
   },
   "file_extension": ".py",
   "mimetype": "text/x-python",
   "name": "python",
   "nbconvert_exporter": "python",
   "pygments_lexer": "ipython3",
   "version": "3.9.12"
  }
 },
 "nbformat": 4,
 "nbformat_minor": 5
}
