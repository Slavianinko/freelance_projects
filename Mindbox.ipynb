{
 "cells": [
  {
   "cell_type": "markdown",
   "id": "1621e57f-195c-441d-9023-fd2b29b66bd6",
   "metadata": {},
   "source": [
    "Компании нужно сгруппировать клиентов для АБ-тестов. Алгоритм группировки очень простой - взять ID клиента (состоит из 5-7 цифр, например 7412567) и найти сумму всех его цифр. Получившееся число и является номером группы, в которую входит данный клиент.\n",
    "\n",
    "Для того, чтобы понять, насколько хорош такой простой алгоритм, нужно написать следующие диагностические функции:\n",
    "\n",
    "1. Функция, которая подсчитывает число покупателей, попадающих в каждую группу, если нумерация ID сквозная и начинается с 0. На вход функция получает целое число n_customers (количество клиентов).\n",
    "2. Функция, аналогичная первой, если ID начинается с произвольного числа. На вход функция получает целые числа: n_customers (количество клиентов) и n_first_id (первый ID в последовательности)."
   ]
  },
  {
   "cell_type": "markdown",
   "id": "ad3f9e54-32ec-4d2e-b6f5-e6fa3e93e3df",
   "metadata": {},
   "source": [
    "### 1.  ID сквозная и начинается с 0"
   ]
  },
  {
   "cell_type": "code",
   "execution_count": 1,
   "id": "a636c1c4-8e91-4826-a3c1-fa994bdd37b3",
   "metadata": {},
   "outputs": [],
   "source": [
    "def n_cust_group_zero(n_customers:int):\n",
    "    \"\"\" Функция подсчитывает число покупателей, попадающих в каждую группу, если нумерация ID сквозная и начинается с 0.\n",
    "        На вход функция получает: n_customers (количество клиентов)\n",
    "        Функция возвращает словарь: группа пользователей : количество в группе\n",
    "    \"\"\"\n",
    "    # инициализация результата\n",
    "    result = {}\n",
    "    # Итерируем ID начиная с 0, заканчивая последним\n",
    "    for i in range(n_customers):\n",
    "        # Рассчитываем номер группы пользователя\n",
    "        group = sum([int(item) for item in str(i)])\n",
    "        # Проверяем есть-ли уже группа в результирующем словаре\n",
    "        if group in result:\n",
    "             # Если группа уже есть - прибавляем 1 к количеству пользователей\n",
    "            result[group] += 1\n",
    "        else:\n",
    "            # Если группы нет - создаём её\n",
    "            result[group] = 1\n",
    "    return result"
   ]
  },
  {
   "cell_type": "code",
   "execution_count": 2,
   "id": "b874cba4-786e-469b-9c0a-8e5b99b0bf24",
   "metadata": {},
   "outputs": [
    {
     "data": {
      "text/plain": [
       "{0: 1,\n",
       " 1: 2,\n",
       " 2: 3,\n",
       " 3: 4,\n",
       " 4: 5,\n",
       " 5: 6,\n",
       " 6: 7,\n",
       " 7: 8,\n",
       " 8: 9,\n",
       " 9: 10,\n",
       " 10: 9,\n",
       " 11: 8,\n",
       " 12: 7,\n",
       " 13: 6,\n",
       " 14: 5,\n",
       " 15: 4,\n",
       " 16: 3,\n",
       " 17: 2,\n",
       " 18: 1}"
      ]
     },
     "execution_count": 2,
     "metadata": {},
     "output_type": "execute_result"
    }
   ],
   "source": [
    "n_cust_group_zero(100)"
   ]
  },
  {
   "cell_type": "markdown",
   "id": "03b16055-a657-4f14-9e15-bf9a9fcd5459",
   "metadata": {},
   "source": [
    "### 2. ID начинается с произвольного числа"
   ]
  },
  {
   "cell_type": "code",
   "execution_count": 3,
   "id": "acb69029-23ff-4814-aa17-ed0c4515d8b1",
   "metadata": {},
   "outputs": [],
   "source": [
    "def n_cust_group_first(n_customers:int, n_first_id:int):\n",
    "    \"\"\" Функция подсчитывает число покупателей, попадающих в каждую группу, если нумерация ID сквозная и начинается с произвольного числа.\n",
    "        На вход функция получает: n_customers (количество клиентов)\n",
    "                                  n_first_id (первый ID в последовательности).  \n",
    "        Функция возвращает словарь: группа пользователей : количество в группе\n",
    "    \"\"\"\n",
    "    # инициализация результата\n",
    "    result = {}\n",
    "    # Итерируем ID начиная с начального ID, заканчивая последним\n",
    "    for i in range(n_first_id, n_first_id+n_customers):\n",
    "        # Рассчитываем номер группы пользователя\n",
    "        group = sum([int(item) for item in str(i)])\n",
    "        # Проверяем есть-ли уже группа в результирующем словаре\n",
    "        if group in result:\n",
    "            # Если группа уже есть - прибавляем 1 к количеству пользователей\n",
    "            result[group] += 1\n",
    "        else:\n",
    "            # Если группы нет - создаём её\n",
    "            result[group] = 1\n",
    "    return result"
   ]
  },
  {
   "cell_type": "code",
   "execution_count": 4,
   "id": "76c2d60b-acb9-441f-b71c-a84d50c44a67",
   "metadata": {},
   "outputs": [
    {
     "data": {
      "text/plain": [
       "{1: 2,\n",
       " 2: 3,\n",
       " 3: 4,\n",
       " 4: 5,\n",
       " 5: 6,\n",
       " 6: 7,\n",
       " 7: 8,\n",
       " 8: 9,\n",
       " 9: 10,\n",
       " 10: 10,\n",
       " 11: 8,\n",
       " 12: 7,\n",
       " 13: 6,\n",
       " 14: 5,\n",
       " 15: 4,\n",
       " 16: 3,\n",
       " 17: 2,\n",
       " 18: 1}"
      ]
     },
     "execution_count": 4,
     "metadata": {},
     "output_type": "execute_result"
    }
   ],
   "source": [
    "n_cust_group_first(100, 10)"
   ]
  }
 ],
 "metadata": {
  "kernelspec": {
   "display_name": "Python 3 (ipykernel)",
   "language": "python",
   "name": "python3"
  },
  "language_info": {
   "codemirror_mode": {
    "name": "ipython",
    "version": 3
   },
   "file_extension": ".py",
   "mimetype": "text/x-python",
   "name": "python",
   "nbconvert_exporter": "python",
   "pygments_lexer": "ipython3",
   "version": "3.9.12"
  }
 },
 "nbformat": 4,
 "nbformat_minor": 5
}
