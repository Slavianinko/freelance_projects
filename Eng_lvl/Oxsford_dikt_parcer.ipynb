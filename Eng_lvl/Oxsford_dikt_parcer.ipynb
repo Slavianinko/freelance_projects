{
 "cells": [
  {
   "cell_type": "code",
   "execution_count": 1,
   "id": "a2d7e9bf-0c48-43c1-8a2a-1b5ade48f246",
   "metadata": {},
   "outputs": [],
   "source": [
    "# Импорт библиотек\n",
    "import pandas as pd\n",
    "import numpy as np\n",
    "import re\n",
    "import fitz"
   ]
  },
  {
   "cell_type": "markdown",
   "id": "e50edb9c-e52c-4288-902f-dc7b0de571a0",
   "metadata": {},
   "source": [
    "# Парсинг файлов словарей"
   ]
  },
  {
   "cell_type": "code",
   "execution_count": 2,
   "id": "7c763d29-aea7-423b-b7e0-c2a07efc37da",
   "metadata": {},
   "outputs": [],
   "source": [
    "def pdf_parser(filename, category):\n",
    "    \"\"\" Принимаем имя файла и категории\n",
    "        Возвращаем словарь: ключ - категория, значение - список слов\n",
    "    \"\"\"\n",
    "    with fitz.open('English_level/' + filename) as doc:\n",
    "        pdf_pages = ''\n",
    "        for page in doc:\n",
    "            # Чистим страницу от заголовков\n",
    "            text = re.sub(r'©.*?level\\n|©.*?here.\\n', '', page.get_text(), flags=re.DOTALL)\n",
    "            if page.number == 0:\n",
    "                text = re.sub(r'The.*?\\n', '', text, flags=re.DOTALL)\n",
    "            pdf_pages += text\n",
    "            # print(r'{}'.format(pdf_pages))\n",
    "        pdf_pages = re.sub('\\. B2','', pdf_pages)\n",
    "        pdf_pages = re.split(r'A1\\n|A2\\n|B1\\n|B2\\n|C1\\n', pdf_pages)\n",
    "    \n",
    "    pdf_pages = pdf_pages[1:]\n",
    "    \n",
    "    # Разбиваем на слова\n",
    "    word_dikt = {}\n",
    "    for category, cat in zip(pdf_pages, category):\n",
    "        words = re.split(r'\\n|\\xa0', category)\n",
    "        rezult = []\n",
    "        for line in words:\n",
    "            word = re.split(' |,', line)[0]\n",
    "            word = re.sub('[^a-z]*', '', word.lower())\n",
    "            if word != '':\n",
    "                rezult.append(word)\n",
    "        word_dikt[cat] = rezult\n",
    "        \n",
    "        \n",
    "    return word_dikt"
   ]
  },
  {
   "cell_type": "code",
   "execution_count": 3,
   "id": "9716c87b-26c8-47a7-b140-3b13c2092490",
   "metadata": {},
   "outputs": [
    {
     "name": "stdout",
     "output_type": "stream",
     "text": [
      "A1 907 a yourself\n",
      "A2 877 ability zero\n",
      "B1 809 absolutely youth\n",
      "B2 727 abandon zone\n"
     ]
    }
   ],
   "source": [
    "dikt_oxsford_3000 = pdf_parser('The_Oxford_3000_by_CEFR_level.pdf', ['A1', 'A2', 'B1', 'B2'])\n",
    "\n",
    "for i in dikt_oxsford_3000.keys():\n",
    "    print(i, len(dikt_oxsford_3000[i]), dikt_oxsford_3000[i][0], dikt_oxsford_3000[i][-1])"
   ]
  },
  {
   "cell_type": "code",
   "execution_count": 4,
   "id": "7fcc13e2-d0c1-4f7e-a2d9-7990e311501a",
   "metadata": {},
   "outputs": [
    {
     "name": "stdout",
     "output_type": "stream",
     "text": [
      "B2 700 absorb wrist\n",
      "C1 1315 abolish youngster\n"
     ]
    }
   ],
   "source": [
    "dikt_oxsford_5000 = pdf_parser('The_Oxford_5000_by_CEFR_level.pdf', ['B2', 'C1'])\n",
    "for i in dikt_oxsford_5000.keys():\n",
    "    print(i, len(dikt_oxsford_5000[i]), dikt_oxsford_5000[i][0], dikt_oxsford_5000[i][-1])"
   ]
  },
  {
   "cell_type": "code",
   "execution_count": 5,
   "id": "7e16ed54-e9d0-41bc-86dc-37fa3f898d49",
   "metadata": {},
   "outputs": [
    {
     "name": "stdout",
     "output_type": "stream",
     "text": [
      "A1 905 a yourself\n",
      "A2 872 ability zero\n",
      "B1 812 absolutely youth\n",
      "B2 733 abandon zone\n"
     ]
    }
   ],
   "source": [
    "dikt_american_3000 = pdf_parser('American_Oxford_3000_by_CEFR_level.pdf', ['A1', 'A2', 'B1', 'B2'])\n",
    "for i in dikt_american_3000.keys():\n",
    "    print(i, len(dikt_american_3000[i]), dikt_american_3000[i][0], dikt_american_3000[i][-1])"
   ]
  },
  {
   "cell_type": "code",
   "execution_count": 6,
   "id": "e88f86cb-970e-46dd-96cd-cee36c64a3e6",
   "metadata": {},
   "outputs": [],
   "source": [
    "# dikt_american_5000"
   ]
  },
  {
   "cell_type": "code",
   "execution_count": 7,
   "id": "9d2bde62-ade4-4d84-a874-189efb491026",
   "metadata": {},
   "outputs": [
    {
     "name": "stdout",
     "output_type": "stream",
     "text": [
      "B2 702 absorb wrist\n",
      "C1 1317 abolish yield\n"
     ]
    }
   ],
   "source": [
    "dikt_american_5000 = pdf_parser('American_Oxford_5000_by_CEFR_level.pdf', ['B2', 'C1'])\n",
    "for i in dikt_american_5000.keys():\n",
    "    print(i, len(dikt_american_5000[i]), dikt_american_5000[i][0], dikt_american_5000[i][-1])"
   ]
  },
  {
   "cell_type": "code",
   "execution_count": 8,
   "id": "731eaa81-40f3-48e9-a580-4d0bbfee84f3",
   "metadata": {},
   "outputs": [
    {
     "data": {
      "text/plain": [
       "1317"
      ]
     },
     "execution_count": 8,
     "metadata": {},
     "output_type": "execute_result"
    }
   ],
   "source": [
    "len(dikt_american_5000['C1'])"
   ]
  },
  {
   "cell_type": "code",
   "execution_count": 9,
   "id": "7c3ea6ed-1257-489c-b90a-e3b6ebda3cc3",
   "metadata": {},
   "outputs": [],
   "source": [
    "# Объеденим словари в один\n",
    "dikts = [dikt_oxsford_3000,\n",
    "         dikt_oxsford_5000,\n",
    "         dikt_american_3000,\n",
    "         dikt_american_5000\n",
    "        ]\n",
    "word_dikt = {}\n",
    "for dikt in dikts:\n",
    "    for key in dikt.keys():\n",
    "        if key in word_dikt:\n",
    "            word_dikt[key] = set(word_dikt[key]) | set(dikt[key])\n",
    "        else:\n",
    "            word_dikt[key] = dikt[key]"
   ]
  },
  {
   "cell_type": "code",
   "execution_count": 10,
   "id": "5fbcda9e-9795-4f9f-8a2a-b69bdd11a9ac",
   "metadata": {},
   "outputs": [
    {
     "name": "stdout",
     "output_type": "stream",
     "text": [
      "A1 919\n",
      "A2 905\n",
      "B1 831\n",
      "B2 1481\n",
      "C1 1360\n"
     ]
    }
   ],
   "source": [
    "word_dikt.keys()\n",
    "for i in word_dikt.keys():\n",
    "    print(i, len(word_dikt[i]))"
   ]
  },
  {
   "cell_type": "code",
   "execution_count": 11,
   "id": "772339d8-7bb2-4430-9402-63d6063f68d4",
   "metadata": {},
   "outputs": [
    {
     "data": {
      "text/html": [
       "<div>\n",
       "<style scoped>\n",
       "    .dataframe tbody tr th:only-of-type {\n",
       "        vertical-align: middle;\n",
       "    }\n",
       "\n",
       "    .dataframe tbody tr th {\n",
       "        vertical-align: top;\n",
       "    }\n",
       "\n",
       "    .dataframe thead th {\n",
       "        text-align: right;\n",
       "    }\n",
       "</style>\n",
       "<table border=\"1\" class=\"dataframe\">\n",
       "  <thead>\n",
       "    <tr style=\"text-align: right;\">\n",
       "      <th></th>\n",
       "      <th>diff</th>\n",
       "      <th>word</th>\n",
       "    </tr>\n",
       "  </thead>\n",
       "  <tbody>\n",
       "    <tr>\n",
       "      <th>0</th>\n",
       "      <td>A1</td>\n",
       "      <td>theater</td>\n",
       "    </tr>\n",
       "    <tr>\n",
       "      <th>1</th>\n",
       "      <td>A1</td>\n",
       "      <td>hospital</td>\n",
       "    </tr>\n",
       "    <tr>\n",
       "      <th>2</th>\n",
       "      <td>A1</td>\n",
       "      <td>favorite</td>\n",
       "    </tr>\n",
       "    <tr>\n",
       "      <th>3</th>\n",
       "      <td>A1</td>\n",
       "      <td>final</td>\n",
       "    </tr>\n",
       "    <tr>\n",
       "      <th>4</th>\n",
       "      <td>A1</td>\n",
       "      <td>day</td>\n",
       "    </tr>\n",
       "    <tr>\n",
       "      <th>...</th>\n",
       "      <td>...</td>\n",
       "      <td>...</td>\n",
       "    </tr>\n",
       "    <tr>\n",
       "      <th>5491</th>\n",
       "      <td>C1</td>\n",
       "      <td>screw</td>\n",
       "    </tr>\n",
       "    <tr>\n",
       "      <th>5492</th>\n",
       "      <td>C1</td>\n",
       "      <td>prejudice</td>\n",
       "    </tr>\n",
       "    <tr>\n",
       "      <th>5493</th>\n",
       "      <td>C1</td>\n",
       "      <td>grave</td>\n",
       "    </tr>\n",
       "    <tr>\n",
       "      <th>5494</th>\n",
       "      <td>C1</td>\n",
       "      <td>deployment</td>\n",
       "    </tr>\n",
       "    <tr>\n",
       "      <th>5495</th>\n",
       "      <td>C1</td>\n",
       "      <td>catalog</td>\n",
       "    </tr>\n",
       "  </tbody>\n",
       "</table>\n",
       "<p>5496 rows × 2 columns</p>\n",
       "</div>"
      ],
      "text/plain": [
       "     diff        word\n",
       "0      A1     theater\n",
       "1      A1    hospital\n",
       "2      A1    favorite\n",
       "3      A1       final\n",
       "4      A1         day\n",
       "...   ...         ...\n",
       "5491   C1       screw\n",
       "5492   C1   prejudice\n",
       "5493   C1       grave\n",
       "5494   C1  deployment\n",
       "5495   C1     catalog\n",
       "\n",
       "[5496 rows x 2 columns]"
      ]
     },
     "execution_count": 11,
     "metadata": {},
     "output_type": "execute_result"
    }
   ],
   "source": [
    "# Упакуем в датафрейм\n",
    "df_words = pd.DataFrame(columns=['diff','word'])\n",
    "\n",
    "for clas in word_dikt:\n",
    "    df_words = pd.concat([df_words, pd.DataFrame({\n",
    "                                                    'diff':[clas]*len(word_dikt[clas]),\n",
    "                                                    'word': [_ for _ in word_dikt[clas]]\n",
    "                                                    })])\n",
    "df_words = df_words.reset_index(drop=True)\n",
    "df_words"
   ]
  },
  {
   "cell_type": "code",
   "execution_count": 12,
   "id": "d0c5e4db-d985-4fbe-a57b-cd48619828f8",
   "metadata": {},
   "outputs": [
    {
     "name": "stdout",
     "output_type": "stream",
     "text": [
      "<class 'pandas.core.frame.DataFrame'>\n",
      "RangeIndex: 5496 entries, 0 to 5495\n",
      "Data columns (total 2 columns):\n",
      " #   Column  Non-Null Count  Dtype \n",
      "---  ------  --------------  ----- \n",
      " 0   diff    5496 non-null   object\n",
      " 1   word    5496 non-null   object\n",
      "dtypes: object(2)\n",
      "memory usage: 86.0+ KB\n"
     ]
    }
   ],
   "source": [
    "df_words.info()"
   ]
  },
  {
   "cell_type": "code",
   "execution_count": 13,
   "id": "89c34766-e09f-45e1-a8b7-8ad66e734bdf",
   "metadata": {},
   "outputs": [],
   "source": [
    "# Сохраним в файл\n",
    "df_words.to_csv('Oxford_dikt.csv', index=False)"
   ]
  },
  {
   "cell_type": "code",
   "execution_count": null,
   "id": "2174ea61-de9b-490f-9240-c18ee120da85",
   "metadata": {},
   "outputs": [],
   "source": []
  }
 ],
 "metadata": {
  "kernelspec": {
   "display_name": "Python 3 (ipykernel)",
   "language": "python",
   "name": "python3"
  },
  "language_info": {
   "codemirror_mode": {
    "name": "ipython",
    "version": 3
   },
   "file_extension": ".py",
   "mimetype": "text/x-python",
   "name": "python",
   "nbconvert_exporter": "python",
   "pygments_lexer": "ipython3",
   "version": "3.9.12"
  }
 },
 "nbformat": 4,
 "nbformat_minor": 5
}
